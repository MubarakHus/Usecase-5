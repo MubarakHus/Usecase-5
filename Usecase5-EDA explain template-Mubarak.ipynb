{
 "cells": [
  {
   "cell_type": "code",
   "execution_count": 11,
   "id": "e69c4ba1-85f3-4a02-ae37-c64347a01803",
   "metadata": {},
   "outputs": [],
   "source": [
    "#Import all relevant libraries\n",
    "import numpy as np\n",
    "import pandas as pd\n",
    "import matplotlib.pyplot as plt\n",
    "import seaborn as sns\n",
    "from scipy.stats import zscore\n",
    "import dtale\n",
    "## This statement allows the visuals to render within your Jupyter Notebook.\n",
    "%matplotlib inline"
   ]
  },
  {
   "cell_type": "markdown",
   "id": "e395e8bf-b530-4720-8d0f-26811e927d6e",
   "metadata": {},
   "source": [
    "## Loading the data\n",
    "We can now load the dataset into pandas using the read_csv() function. This converts the CSV file into a Pandas dataframe."
   ]
  },
  {
   "cell_type": "code",
   "execution_count": 77,
   "id": "cf4030b0-aa7f-4bd7-8e9c-c1b7f4d202d0",
   "metadata": {},
   "outputs": [],
   "source": [
    "#Read in the csv file and convert to a Pandas dataframe\n",
    "df = pd.read_csv(r\"C:\\Users\\mmm19\\OneDrive\\Desktop\\Bootcamp\\data\\Jadarat_data.csv\")"
   ]
  },
  {
   "cell_type": "markdown",
   "id": "ca5ed983-0f72-43eb-8168-6fafd48c562e",
   "metadata": {},
   "source": [
    "### Viewing the dataframe\n",
    "We can get a quick sense of the size of our dataset by using the shape method. This returns a tuple with the number of rows and columns in the dataset."
   ]
  },
  {
   "cell_type": "code",
   "execution_count": 15,
   "id": "bfde0b69-613c-4dd1-8ebf-e4d2e570e653",
   "metadata": {},
   "outputs": [
    {
     "data": {
      "text/html": [
       "\n",
       "        <iframe\n",
       "            width=\"100%\"\n",
       "            height=\"475\"\n",
       "            src=\"http://Mubarak:40000/dtale/iframe/2\"\n",
       "            frameborder=\"0\"\n",
       "            allowfullscreen\n",
       "            \n",
       "        ></iframe>\n",
       "        "
      ],
      "text/plain": [
       "<IPython.lib.display.IFrame at 0x13fa289e630>"
      ]
     },
     "metadata": {},
     "output_type": "display_data"
    },
    {
     "data": {
      "text/plain": []
     },
     "execution_count": 15,
     "metadata": {},
     "output_type": "execute_result"
    }
   ],
   "source": [
    "dtale.show(df)"
   ]
  },
  {
   "cell_type": "markdown",
   "id": "bd2b5bc4-db37-4432-b666-0714afd0c4ca",
   "metadata": {},
   "source": [
    "## 1. Data Profiling:\n",
    "Data profiling is a comprehensive process of examining the data available in an existing dataset and collecting statistics and information about that data. "
   ]
  },
  {
   "cell_type": "code",
   "execution_count": 25,
   "id": "672f2081-5a2c-4908-8cbd-29519fb3cac5",
   "metadata": {},
   "outputs": [
    {
     "data": {
      "text/html": [
       "<div>\n",
       "<style scoped>\n",
       "    .dataframe tbody tr th:only-of-type {\n",
       "        vertical-align: middle;\n",
       "    }\n",
       "\n",
       "    .dataframe tbody tr th {\n",
       "        vertical-align: top;\n",
       "    }\n",
       "\n",
       "    .dataframe thead th {\n",
       "        text-align: right;\n",
       "    }\n",
       "</style>\n",
       "<table border=\"1\" class=\"dataframe\">\n",
       "  <thead>\n",
       "    <tr style=\"text-align: right;\">\n",
       "      <th></th>\n",
       "      <th>job_title</th>\n",
       "      <th>job_date</th>\n",
       "      <th>job_desc</th>\n",
       "      <th>job_tasks</th>\n",
       "      <th>comp_name</th>\n",
       "      <th>comp_no</th>\n",
       "      <th>comp_type</th>\n",
       "      <th>comp_size</th>\n",
       "      <th>eco_activity</th>\n",
       "      <th>qualif</th>\n",
       "      <th>region</th>\n",
       "      <th>city</th>\n",
       "      <th>benefits</th>\n",
       "      <th>contract</th>\n",
       "      <th>positions</th>\n",
       "      <th>job_post_id</th>\n",
       "      <th>exper</th>\n",
       "      <th>gender</th>\n",
       "    </tr>\n",
       "  </thead>\n",
       "  <tbody>\n",
       "    <tr>\n",
       "      <th>0</th>\n",
       "      <td>محاسب</td>\n",
       "      <td>27/05/1444</td>\n",
       "      <td>['إعداد وتنظيم مستندات الصرف ومتابعة تحصيل الإ...</td>\n",
       "      <td>['   تدقيق المطالبات المالية والتأكد من اكتمال...</td>\n",
       "      <td>شركة مقر العالم للسفريات</td>\n",
       "      <td>1-317262</td>\n",
       "      <td>خاص</td>\n",
       "      <td>متوسطة فئة أ</td>\n",
       "      <td>أنشطة وكالات السياحة والسفر</td>\n",
       "      <td>['Language data', 'اللغة الانجليزية', 'محترف']</td>\n",
       "      <td>الرياض</td>\n",
       "      <td>AR RIYADH...</td>\n",
       "      <td>['Salary', '5000.0']</td>\n",
       "      <td>دوام كامل</td>\n",
       "      <td>0 / 1</td>\n",
       "      <td>20202026350419</td>\n",
       "      <td>0 Years</td>\n",
       "      <td>both</td>\n",
       "    </tr>\n",
       "    <tr>\n",
       "      <th>1</th>\n",
       "      <td>بائع</td>\n",
       "      <td>27/05/1444</td>\n",
       "      <td>['بيع مجموعة من السلع والخدمات للعملاء، وتوفير...</td>\n",
       "      <td>['   بيع مجموعة من السلع والخدمات للعملاء.', '...</td>\n",
       "      <td>شركة عالم الكهرباء للمقاولات</td>\n",
       "      <td>4-1324428</td>\n",
       "      <td>خاص</td>\n",
       "      <td>متوسطة فئة ب</td>\n",
       "      <td>تركيب انظمة التبريد وتكييف الهواء وصيانتها واص...</td>\n",
       "      <td>NaN</td>\n",
       "      <td>المنطقة الشرقية</td>\n",
       "      <td>AD DAMMAM...</td>\n",
       "      <td>['Salary', '5000.0']</td>\n",
       "      <td>دوام كامل</td>\n",
       "      <td>0 / 3</td>\n",
       "      <td>20202026350389</td>\n",
       "      <td>0 Years</td>\n",
       "      <td>both</td>\n",
       "    </tr>\n",
       "    <tr>\n",
       "      <th>2</th>\n",
       "      <td>أخصائي عمليات موارد بشرية</td>\n",
       "      <td>27/05/1444</td>\n",
       "      <td>['تنفيذ الإجراءات والأنظمة والنماذج الخاصة بمر...</td>\n",
       "      <td>['   تنفيذ الإجراءات والأنظمة والنماذج الخاصة ...</td>\n",
       "      <td>شركه دار السلام</td>\n",
       "      <td>1-155294</td>\n",
       "      <td>خاص</td>\n",
       "      <td>متوسطة فئة أ</td>\n",
       "      <td>ترميمات المباني السكنية والغير سكنية</td>\n",
       "      <td>['Language data', 'الانجليزيه', 'محترف']</td>\n",
       "      <td>الرياض</td>\n",
       "      <td>ATH THUMA...</td>\n",
       "      <td>['Salary', '4000.0']</td>\n",
       "      <td>دوام كامل</td>\n",
       "      <td>0 / 2</td>\n",
       "      <td>20202026350347</td>\n",
       "      <td>2 Years</td>\n",
       "      <td>both</td>\n",
       "    </tr>\n",
       "    <tr>\n",
       "      <th>3</th>\n",
       "      <td>ميكانيكي سيارات</td>\n",
       "      <td>27/05/1444</td>\n",
       "      <td>['تشخيص أعطال السيارات وإصلاحها وتنفيذ برامج ا...</td>\n",
       "      <td>['   فحص أداء المعدّات الكهربائية والميكانيكية...</td>\n",
       "      <td>مؤسسة لمكو لغيار الزيوت</td>\n",
       "      <td>8-1925495</td>\n",
       "      <td>خاص</td>\n",
       "      <td>صغيرة فئة ب</td>\n",
       "      <td>NaN</td>\n",
       "      <td>['Skill data', 'صيانة السيارات وتقييم الاعطال'...</td>\n",
       "      <td>المنطقة الشرقية</td>\n",
       "      <td>AL HUFUF...</td>\n",
       "      <td>['Salary', '5000.0']</td>\n",
       "      <td>دوام كامل</td>\n",
       "      <td>0 / 10</td>\n",
       "      <td>20202026350219</td>\n",
       "      <td>0 Years</td>\n",
       "      <td>M</td>\n",
       "    </tr>\n",
       "    <tr>\n",
       "      <th>4</th>\n",
       "      <td>محاسب</td>\n",
       "      <td>27/05/1444</td>\n",
       "      <td>['إعداد وتنظيم مستندات الصرف ومتابعة تحصيل الإ...</td>\n",
       "      <td>['   تدقيق المطالبات المالية والتأكد من اكتمال...</td>\n",
       "      <td>مؤسسة فكرة اليمامة للمقاولات</td>\n",
       "      <td>1-2356639</td>\n",
       "      <td>خاص</td>\n",
       "      <td>كبيرة</td>\n",
       "      <td>الإنشاءات العامة للمباني السكنية</td>\n",
       "      <td>['Skill data', 'تحمل ضغط العمل', 'محترف', 'Lan...</td>\n",
       "      <td>الرياض</td>\n",
       "      <td>AR RIYADH...</td>\n",
       "      <td>['Salary', '5000.0']</td>\n",
       "      <td>دوام كامل</td>\n",
       "      <td>0 / 1</td>\n",
       "      <td>20202026350043</td>\n",
       "      <td>0 Years</td>\n",
       "      <td>both</td>\n",
       "    </tr>\n",
       "  </tbody>\n",
       "</table>\n",
       "</div>"
      ],
      "text/plain": [
       "                   job_title    job_date  \\\n",
       "0                      محاسب  27/05/1444   \n",
       "1                       بائع  27/05/1444   \n",
       "2  أخصائي عمليات موارد بشرية  27/05/1444   \n",
       "3            ميكانيكي سيارات  27/05/1444   \n",
       "4                      محاسب  27/05/1444   \n",
       "\n",
       "                                            job_desc  \\\n",
       "0  ['إعداد وتنظيم مستندات الصرف ومتابعة تحصيل الإ...   \n",
       "1  ['بيع مجموعة من السلع والخدمات للعملاء، وتوفير...   \n",
       "2  ['تنفيذ الإجراءات والأنظمة والنماذج الخاصة بمر...   \n",
       "3  ['تشخيص أعطال السيارات وإصلاحها وتنفيذ برامج ا...   \n",
       "4  ['إعداد وتنظيم مستندات الصرف ومتابعة تحصيل الإ...   \n",
       "\n",
       "                                           job_tasks  \\\n",
       "0  ['   تدقيق المطالبات المالية والتأكد من اكتمال...   \n",
       "1  ['   بيع مجموعة من السلع والخدمات للعملاء.', '...   \n",
       "2  ['   تنفيذ الإجراءات والأنظمة والنماذج الخاصة ...   \n",
       "3  ['   فحص أداء المعدّات الكهربائية والميكانيكية...   \n",
       "4  ['   تدقيق المطالبات المالية والتأكد من اكتمال...   \n",
       "\n",
       "                      comp_name    comp_no comp_type     comp_size  \\\n",
       "0      شركة مقر العالم للسفريات   1-317262       خاص  متوسطة فئة أ   \n",
       "1  شركة عالم الكهرباء للمقاولات  4-1324428       خاص  متوسطة فئة ب   \n",
       "2               شركه دار السلام   1-155294       خاص  متوسطة فئة أ   \n",
       "3       مؤسسة لمكو لغيار الزيوت  8-1925495       خاص   صغيرة فئة ب   \n",
       "4  مؤسسة فكرة اليمامة للمقاولات  1-2356639       خاص         كبيرة   \n",
       "\n",
       "                                        eco_activity  \\\n",
       "0                        أنشطة وكالات السياحة والسفر   \n",
       "1  تركيب انظمة التبريد وتكييف الهواء وصيانتها واص...   \n",
       "2               ترميمات المباني السكنية والغير سكنية   \n",
       "3                                                NaN   \n",
       "4                   الإنشاءات العامة للمباني السكنية   \n",
       "\n",
       "                                              qualif           region  \\\n",
       "0     ['Language data', 'اللغة الانجليزية', 'محترف']           الرياض   \n",
       "1                                                NaN  المنطقة الشرقية   \n",
       "2           ['Language data', 'الانجليزيه', 'محترف']           الرياض   \n",
       "3  ['Skill data', 'صيانة السيارات وتقييم الاعطال'...  المنطقة الشرقية   \n",
       "4  ['Skill data', 'تحمل ضغط العمل', 'محترف', 'Lan...           الرياض   \n",
       "\n",
       "           city              benefits   contract positions     job_post_id  \\\n",
       "0  AR RIYADH...  ['Salary', '5000.0']  دوام كامل     0 / 1  20202026350419   \n",
       "1  AD DAMMAM...  ['Salary', '5000.0']  دوام كامل     0 / 3  20202026350389   \n",
       "2  ATH THUMA...  ['Salary', '4000.0']  دوام كامل     0 / 2  20202026350347   \n",
       "3   AL HUFUF...  ['Salary', '5000.0']  دوام كامل    0 / 10  20202026350219   \n",
       "4  AR RIYADH...  ['Salary', '5000.0']  دوام كامل     0 / 1  20202026350043   \n",
       "\n",
       "     exper gender  \n",
       "0  0 Years   both  \n",
       "1  0 Years   both  \n",
       "2  2 Years   both  \n",
       "3  0 Years      M  \n",
       "4  0 Years   both  "
      ]
     },
     "execution_count": 25,
     "metadata": {},
     "output_type": "execute_result"
    }
   ],
   "source": [
    "df.head()"
   ]
  },
  {
   "cell_type": "code",
   "execution_count": 27,
   "id": "2cb84a64-6512-4f0c-969d-c94bc91f9edf",
   "metadata": {},
   "outputs": [
    {
     "data": {
      "text/plain": [
       "\"['إعداد وتنظيم مستندات الصرف ومتابعة تحصيل الإيرادات وتوثيقها وتحليلها، وإعداد القيود المحاسبية وتسجيل العمليات المالية بالسجلات وتدقيق حسابات البنوك وإعداد التسويات اللازمة وإعداد التقارير والوثائق المتعلقة بالنفقات والإيرادات وحفظها.']\""
      ]
     },
     "execution_count": 27,
     "metadata": {},
     "output_type": "execute_result"
    }
   ],
   "source": [
    "df[\"job_desc\"][0]"
   ]
  },
  {
   "cell_type": "code",
   "execution_count": 79,
   "id": "fd2ad1db-9ffa-4ed3-b008-efb9fec4a998",
   "metadata": {},
   "outputs": [],
   "source": [
    "df.drop(columns=[\"job_desc\", \"job_tasks\", \"comp_no\", \"job_post_id\", \"eco_activity\", \"qualif\"], inplace=True)"
   ]
  },
  {
   "cell_type": "markdown",
   "id": "834929aa-fd6a-4ec5-84d4-77c4b3c1a506",
   "metadata": {},
   "source": [
    "The process of profiling differs slightly for categorical and numerical variables due to their inherent differences.\n",
    "\n",
    "**The two main types of data are:**\n",
    "- Quantitative (numerical) data\n",
    "- Qualitative (categorical) data"
   ]
  },
  {
   "cell_type": "markdown",
   "id": "3a9954f5-6fbc-45b4-ad86-3e21b6e0ca2d",
   "metadata": {},
   "source": [
    "### Data Quality Checks\n",
    "Data quality checks involve the process of ensuring that the data is accurate, complete, consistent, relevant, and reliable. \n",
    "\n",
    "\n",
    "**Here are typical steps involved in checking data quality:**"
   ]
  },
  {
   "cell_type": "markdown",
   "id": "4818c876-173d-4e56-9e7d-b4334d2def25",
   "metadata": {},
   "source": [
    "#### 1. Reliability:\n",
    "Evaluate the data's source and collection process to determine its trustworthiness."
   ]
  },
  {
   "cell_type": "code",
   "execution_count": 58,
   "id": "9034ae7b-dc1d-4cba-8f9e-bb499d021cde",
   "metadata": {},
   "outputs": [],
   "source": [
    "# reliable source"
   ]
  },
  {
   "cell_type": "markdown",
   "id": "2ce0cc59-8c92-4acc-8d07-c40764e1a86b",
   "metadata": {},
   "source": [
    "#### 2. Timeliness: \n",
    "Ensure the data is up-to-date and reflective of the current situation or the period of interest for the analysis."
   ]
  },
  {
   "cell_type": "code",
   "execution_count": null,
   "id": "4b78ae35-7226-4cb6-b8b2-a46c2ed17cf9",
   "metadata": {},
   "outputs": [],
   "source": [
    "# it is up to date regarding the problem statment"
   ]
  },
  {
   "cell_type": "markdown",
   "id": "7fab0fe2-6624-4615-b9d8-3c3669056bf8",
   "metadata": {},
   "source": [
    "#### 3. Consistency: \n",
    "\n",
    "Confirm that the data is consistent within the dataset and across multiple data sources. For example, the same data point should not have different values in different places.\n"
   ]
  },
  {
   "cell_type": "code",
   "execution_count": 59,
   "id": "7fecc573-959f-4800-8ddd-a67985c68b18",
   "metadata": {},
   "outputs": [],
   "source": [
    "# consistant"
   ]
  },
  {
   "cell_type": "markdown",
   "id": "bec3d183-bba0-4b12-b963-487daab1e876",
   "metadata": {},
   "source": [
    "#### 4. Relevance: \n",
    "Assess whether the data is appropriate and applicable for the intended analysis. Data that is not relevant can skew results and lead to incorrect conclusions.\n",
    "\n",
    "**Key considerations for relevance include:**\n",
    "\n",
    "> 1. Sample Appropriateness: Confirm that your data sample aligns with your analysis objectives. For instance, utilizing data from the Northern region will not yield accurate insights for the Western region of the Kingdom.\n",
    ">\n",
    "> 2. Variable Selection: Any column will not be relevant for our analysis, we can get rid of these using the drop() method. We will set the “axis” argument to 1 since we’re dealing with columns, and set the “inplace” argument to True to make the change permanent.\n"
   ]
  },
  {
   "cell_type": "code",
   "execution_count": null,
   "id": "50a934b7-a0cd-443f-8a27-f10e9a6e8647",
   "metadata": {
    "scrolled": true
   },
   "outputs": [],
   "source": [
    "# related to the problem statment"
   ]
  },
  {
   "cell_type": "markdown",
   "id": "0f5e3a2a-bbb7-4d06-8220-c93277b70146",
   "metadata": {},
   "source": [
    "#### 5. Uniqueness: \n",
    "Check for and remove duplicate records to prevent skewed analysis results.\n"
   ]
  },
  {
   "cell_type": "code",
   "execution_count": 81,
   "id": "a509a7aa-58f4-4d39-8eb8-e8298a21f2a7",
   "metadata": {},
   "outputs": [
    {
     "data": {
      "text/plain": [
       "36"
      ]
     },
     "execution_count": 81,
     "metadata": {},
     "output_type": "execute_result"
    }
   ],
   "source": [
    "df.duplicated().sum()"
   ]
  },
  {
   "cell_type": "code",
   "execution_count": 83,
   "id": "4767d529-6ef4-4bf2-97d5-47dd0375666c",
   "metadata": {},
   "outputs": [],
   "source": [
    "df.drop_duplicates(inplace=True)"
   ]
  },
  {
   "cell_type": "code",
   "execution_count": 66,
   "id": "04c62559-3b48-48cf-a4e9-857e2e0ff416",
   "metadata": {},
   "outputs": [],
   "source": [
    "# go to delete duplicates columns"
   ]
  },
  {
   "cell_type": "markdown",
   "id": "c7724ac2-4ea2-4cf4-a9e0-e64368f87b92",
   "metadata": {},
   "source": [
    "#### 6. Completeness: \n",
    "Ensure that no critical data is missing. This might mean checking for null values or required fields that are empty.\n",
    "\n",
    "We will start by checking the dataset for missing or null values. For this, we can use the isna() method which returns a dataframe of boolean values indicating if a field is null or not. To group all missing values by column, we can include the sum() method."
   ]
  },
  {
   "cell_type": "code",
   "execution_count": 85,
   "id": "ae9628b0-7ba9-4631-8c50-bb570011477a",
   "metadata": {},
   "outputs": [
    {
     "data": {
      "text/plain": [
       "job_title     0\n",
       "job_date      0\n",
       "comp_name     0\n",
       "comp_type     0\n",
       "comp_size    14\n",
       "region        0\n",
       "city          0\n",
       "benefits      0\n",
       "contract      0\n",
       "positions     0\n",
       "exper         0\n",
       "gender        0\n",
       "dtype: int64"
      ]
     },
     "execution_count": 85,
     "metadata": {},
     "output_type": "execute_result"
    }
   ],
   "source": [
    "df.isnull().sum()"
   ]
  },
  {
   "cell_type": "code",
   "execution_count": 87,
   "id": "58901043-0652-4159-8b71-bb3f0a04190e",
   "metadata": {},
   "outputs": [
    {
     "name": "stderr",
     "output_type": "stream",
     "text": [
      "C:\\Users\\mmm19\\AppData\\Local\\Temp\\ipykernel_6356\\1994851002.py:1: FutureWarning:\n",
      "\n",
      "A value is trying to be set on a copy of a DataFrame or Series through chained assignment using an inplace method.\n",
      "The behavior will change in pandas 3.0. This inplace method will never work because the intermediate object on which we are setting values always behaves as a copy.\n",
      "\n",
      "For example, when doing 'df[col].method(value, inplace=True)', try using 'df.method({col: value}, inplace=True)' or df[col] = df[col].method(value) instead, to perform the operation inplace on the original object.\n",
      "\n",
      "\n",
      "\n"
     ]
    }
   ],
   "source": [
    "df[\"comp_size\"].fillna(\"غير محدد\", inplace=True)"
   ]
  },
  {
   "cell_type": "code",
   "execution_count": 1,
   "id": "48a4de54-a344-4b94-9908-9528c15c13f7",
   "metadata": {},
   "outputs": [],
   "source": [
    "#Display number missing values per column"
   ]
  },
  {
   "cell_type": "code",
   "execution_count": 68,
   "id": "abec31c4-0904-4b73-8cee-b7bc14ab1e67",
   "metadata": {},
   "outputs": [],
   "source": [
    "# go to clean them "
   ]
  },
  {
   "cell_type": "markdown",
   "id": "b40de63c-5a1d-49ed-a87e-c5229ee08bbe",
   "metadata": {},
   "source": [
    "#### 7. Check Accuracy:\n",
    "\n",
    "Verify that the data is correct and precise. This could involve comparing data samples with known sources or using validation rules.\n",
    "\n",
    "**The process includes:**\n",
    "1. Validating the appropriateness of data types for the dataset.\n",
    "2. Identifying outliers  using established validation  rule"
   ]
  },
  {
   "cell_type": "code",
   "execution_count": 89,
   "id": "68be5334-ae10-4abd-8097-3259fe5e72c8",
   "metadata": {},
   "outputs": [
    {
     "data": {
      "text/plain": [
       "job_title    object\n",
       "job_date     object\n",
       "comp_name    object\n",
       "comp_type    object\n",
       "comp_size    object\n",
       "region       object\n",
       "city         object\n",
       "benefits     object\n",
       "contract     object\n",
       "positions    object\n",
       "exper        object\n",
       "gender       object\n",
       "dtype: object"
      ]
     },
     "execution_count": 89,
     "metadata": {},
     "output_type": "execute_result"
    }
   ],
   "source": [
    "# check columns types \n",
    "df.dtypes"
   ]
  },
  {
   "cell_type": "code",
   "execution_count": 97,
   "id": "2ee790ba-dcc0-45f1-b6f8-0133e913e149",
   "metadata": {},
   "outputs": [],
   "source": [
    "# go to clean them \n",
    "df[\"exper\"] = df[\"exper\"].apply(lambda x: int(x.split()[0]))"
   ]
  },
  {
   "cell_type": "code",
   "execution_count": 99,
   "id": "368daaad-d4fd-4b85-8c63-4fe5ab1bd516",
   "metadata": {},
   "outputs": [
    {
     "data": {
      "text/plain": [
       "job_title    object\n",
       "job_date     object\n",
       "comp_name    object\n",
       "comp_type    object\n",
       "comp_size    object\n",
       "region       object\n",
       "city         object\n",
       "benefits     object\n",
       "contract     object\n",
       "positions    object\n",
       "exper         int64\n",
       "gender       object\n",
       "dtype: object"
      ]
     },
     "execution_count": 99,
     "metadata": {},
     "output_type": "execute_result"
    }
   ],
   "source": [
    "df.dtypes"
   ]
  },
  {
   "cell_type": "code",
   "execution_count": 101,
   "id": "c69b303a-5459-45f9-a28e-fcee45c21c05",
   "metadata": {},
   "outputs": [
    {
     "data": {
      "text/html": [
       "\n",
       "        <iframe\n",
       "            width=\"100%\"\n",
       "            height=\"475\"\n",
       "            src=\"http://Mubarak:40000/dtale/iframe/10\"\n",
       "            frameborder=\"0\"\n",
       "            allowfullscreen\n",
       "            \n",
       "        ></iframe>\n",
       "        "
      ],
      "text/plain": [
       "<IPython.lib.display.IFrame at 0x13facb46a50>"
      ]
     },
     "metadata": {},
     "output_type": "display_data"
    },
    {
     "data": {
      "text/plain": []
     },
     "execution_count": 101,
     "metadata": {},
     "output_type": "execute_result"
    }
   ],
   "source": [
    "# check outliers \n",
    "dtale.show(df)"
   ]
  },
  {
   "cell_type": "markdown",
   "id": "4aca9d42-add6-45db-92cf-1f6dae5f277b",
   "metadata": {},
   "source": [
    "**What is an Outlier?** \n",
    "Outlier is an row/observation that appears far away and diverges from an overall pattern in a sample.\n",
    "\n",
    "**What are the types of Outliers?**\n",
    "1. Univariate: These outliers can be found when we look at distribution of a single variable\n",
    "2. Multivariate: are outliers in an n-dimensional space. In order to find them, you have to look at distributions in multi-dimensions. example (hight=100, weight=100) for a person\n",
    "\n",
    "**What causes Outliers?**\n",
    "Whenever we come across outliers, the ideal way to tackle them is to find out the reason of having these outliers. The method to deal with them would then depend on the reason of their occurrence.\n",
    "\n",
    "Let’s understand various types of outliers:\n",
    "\n",
    "1. Data Entry Errors:- Human errors such as errors caused during data collection, recording, or entry can cause outliers in data.\n",
    "2. Measurement Error: It is the most common source of outliers. This is caused when the measurement instrument used turns out to be faulty.\n",
    "3. Data Processing Error: Whenever we perform data mining, we extract data from multiple sources. It is possible that some manipulation or extraction errors may lead to outliers in the dataset.\n",
    "4. Sampling error: For instance, we have to measure the height of athletes. By mistake, we include a few basketball players in the sample. This inclusion is likely to cause outliers in the dataset.\n",
    "5. Natural Outlier: When an outlier is not artificial (due to error), it is a natural outlier. For instance: In my last assignment with one of the renowned insurance company, I noticed that the performance of top 50 financial advisors was far higher than rest of the population. Surprisingly, it was not due to any error. Hence, whenever we perform any data mining activity with advisors, we used to treat this segment separately.\n",
    "\n",
    "\n",
    "**What is the impact of Outliers on a dataset?**\n",
    "\n",
    "\n",
    "![image.png](https://www.analyticsvidhya.com/wp-content/uploads/2015/02/Outlier_31.png)\n",
    "\n",
    "\n",
    "\n",
    "**How to detect Outliers?**\n",
    "\n",
    "1. Most commonly used method to detect outliers is visualization (Univariate Graphical Analysis).\n",
    "\n",
    "We use 3 common visualization methods:\n",
    ">- Box-plot: A box plot is a method for graphically depicting groups of numerical data through their quartiles. The box extends from the Q1 to Q3 quartile values of the data, with a line at the median (Q2). The whiskers extend from the edges of the box to show the range of the data. Outlier points are those past the end of the whiskers. Box plots show robust measures of location and spread as well as providing information about symmetry and outliers.\n",
    ">\n",
    ">  \n",
    ">![image.png](https://miro.medium.com/v2/resize:fit:698/format:webp/1*VK5iHA2AB28HSZwWwUbNYg.png)\n",
    ">\n",
    ">\n",
    ">- Histogram\n",
    ">- Scatter Plot: A scatter plot is a mathematical diagram using Cartesian coordinates to display values for two variables for a set of data. The data are displayed as a collection of points, each having the value of one variable determining the position on the horizontal axis and the value of the other variable determining the position on the vertical axis. The points that are far from the population can be termed as an outlier.\n",
    ">\n",
    ">  \n",
    ">![image.png](https://miro.medium.com/v2/resize:fit:4800/format:webp/1*Ov6aH-8yIwNoUxtMFwgx4g.png)\n",
    ">\n",
    ">\n",
    "\n",
    "2. Using statistical method (Univariate Non-Graphical analysis):\n",
    ">- Any value, which is beyond the range of -1.5 x IQR to 1.5 x IQR\n",
    " \n",
    "![image.png](https://www.whatissixsigma.net/wp-content/uploads/2015/07/Box-Plot-Diagram-to-identify-Outliers-figure-1.png)\n",
    "\n",
    ">- Use capping methods. Any value which out of range of 5th and 95th percentile can be considered as outlier\n",
    ">- Data points, three or more standard deviation away from mean are considered outlier: The Z-score is the signed number of standard deviations by which the value of an observation or data point is above the mean value of what is being observed or measured. While calculating the Z-score we re-scale and center the data and look for data points that are too far from zero. These data points which are way too far from zero will be treated as the outliers. In most of the cases, a threshold of 3 or -3 is used i.e if the Z-score value is greater than or less than 3 or -3 respectively, that data point will be identified as outliers.\n",
    "> - Outlier detection is merely a special case of the examination of data for influential data points and it also depends on the business understanding\n"
   ]
  },
  {
   "cell_type": "code",
   "execution_count": 23,
   "id": "74ea6194-cc01-45d8-be38-c4543eb1714e",
   "metadata": {},
   "outputs": [],
   "source": [
    "# go to univariate graphical analysis\n",
    "# go to lesson : data visualisation 1 - chart type section\n",
    "# then go to univariate graphical analysis\n",
    "# detect outliers using graphs varbaly"
   ]
  },
  {
   "cell_type": "code",
   "execution_count": 24,
   "id": "48ecf77b-480c-4f64-9485-95be805bc357",
   "metadata": {},
   "outputs": [],
   "source": [
    "# go to lesson: statistics 1 then statistics 3\n",
    "# then go to univariate Non graphical analysis\n",
    "# detect outliers using numerical statistics "
   ]
  },
  {
   "cell_type": "code",
   "execution_count": null,
   "id": "ee200da8-62b0-492d-b118-f4d665a1fb16",
   "metadata": {},
   "outputs": [],
   "source": []
  },
  {
   "cell_type": "code",
   "execution_count": 25,
   "id": "4e66d611-6958-4860-8522-9ada7fce40b0",
   "metadata": {},
   "outputs": [],
   "source": [
    "# go to delete ouliers"
   ]
  },
  {
   "attachments": {},
   "cell_type": "markdown",
   "id": "4e886ec7-388c-414b-ada7-803c2fb1f2cb",
   "metadata": {},
   "source": [
    "## 2. Data Cleaning: \n",
    "\n",
    "Preliminary findings from data profiling can lead to cleaning the data by:\n",
    "- Handling missing values\n",
    "- Correcting errors.\n",
    "- Dealing with outliers.\n",
    "\n",
    "-------------------\n",
    "\n"
   ]
  },
  {
   "cell_type": "markdown",
   "id": "21876b48-f5ec-4970-85a9-0520d45d8841",
   "metadata": {},
   "source": [
    "### Handling missing values:"
   ]
  },
  {
   "cell_type": "markdown",
   "id": "c890d5a2-2a65-4090-9427-f89c0f011d3f",
   "metadata": {},
   "source": [
    "**Why my data has missing values?**\n",
    "They may occur at two stages:\n",
    "1. Data Extraction: It is possible that there are problems with extraction process. Errors at data extraction stage are typically easy to find and can be corrected easily as well.\n",
    "2. Data collection: These errors occur at time of data collection and are harder to correct.\n",
    "\n",
    "**Why do we need to handle the missing data?**\n",
    "To avoid:\n",
    "- Bias the conclusions.\n",
    "- Leading the business to make wrong decisions.\n",
    "\n",
    "**Which are the methods to treat missing values ?**\n",
    "1. Deletion: we delete rows where any of the variable is missing. Simplicity is one of the major advantage of this method, but this method reduces the power of model because it reduces the sample size.\n",
    "\n",
    "2. Imputation: is a method to fill in the missing values with estimated ones. This imputation is one of the most frequently used methods.\n",
    "\n",
    "    2.1. Mean/ Mode/ Median Imputation: It consists of replacing the missing data for a given attribute by the mean or median (quantitative attribute) or mode (qualitative attribute) of all known values of that variable.\n",
    "    > It can be of two types:\n",
    "    > - Generalized Imputation: In this case, we calculate the mean or median for all non missing values of that variable then replace missing value with mean or median.\n",
    "    > - Similar case Imputation: In this case, we calculate average for each group individually of non missing values then replace the missing value based on the group.\n",
    "\n",
    "    2.2. Constant Value\n",
    "   \n",
    "    2.3. Forward Filling\n",
    "   \n",
    "    2.4. Backward Filling\n",
    "\n",
    "6. Prediction Model:  Prediction model is one of the sophisticated method for handling missing data. Here, we create a predictive model to estimate values that will substitute the missing data.  In this case, we divide our data set into two sets: One set with no missing values for the variable and another one with missing values. First data set become training data set of the model while second data set with missing values is test data set and variable with missing values is treated as target variable. Next, we create a model to predict target variable based on other attributes of the training data set and populate missing values of test data set.\n",
    "\n",
    "> There are 2 drawbacks for this approach:\n",
    "> - The model estimated values are usually more well-behaved than the true values\n",
    "> - If there are no relationships with attributes in the data set and the attribute with missing values, then the model will not be precise for estimating missing values.\n",
    "\n",
    "9. KNN Imputation: In this method of imputation, the missing values of an attribute are imputed using the given number of attributes that are most similar to the attribute whose values are missing. The similarity of two attributes is determined using a distance function. It is also known to have certain advantage & disadvantages.\n",
    "\n",
    "   > **Advantages:**\n",
    "   > - k-nearest neighbour can predict both qualitative & quantitative attributes\n",
    "   > - Creation of predictive model for each attribute with missing data is not required\n",
    "   > - Attributes with multiple missing values can be easily treated\n",
    "   > - Correlation structure of the data is taken into consideration\n",
    "\n",
    "   > **Disadvantage:**\n",
    "   > - KNN algorithm is very time-consuming in analyzing large database. It searches through all the dataset looking for the most similar instances.\n",
    "   > - Choice of k-value is very critical. Higher value of k would include attributes which are significantly different from what we need whereas lower value of k implies missing out of significant attributes.\n",
    "\n",
    "--------------------\n"
   ]
  },
  {
   "cell_type": "code",
   "execution_count": null,
   "id": "57e741fb-71c1-46ad-a526-d8f0b1564dc3",
   "metadata": {},
   "outputs": [],
   "source": []
  },
  {
   "cell_type": "code",
   "execution_count": 80,
   "id": "01287962-8077-4c01-8d1d-5f8aed6cb37a",
   "metadata": {},
   "outputs": [],
   "source": [
    "# go back to 6th dimention --> Completeness"
   ]
  },
  {
   "cell_type": "markdown",
   "id": "f7cee10f-0af8-44e5-b595-8e965294daad",
   "metadata": {},
   "source": [
    "### Correcting errors\n",
    "\n",
    "-------------------"
   ]
  },
  {
   "cell_type": "code",
   "execution_count": null,
   "id": "06273b88-a169-42e8-81f5-5d71cb3f9c21",
   "metadata": {},
   "outputs": [],
   "source": []
  },
  {
   "cell_type": "code",
   "execution_count": null,
   "id": "f1d95da5-a3ba-473a-8243-aa177cadae20",
   "metadata": {},
   "outputs": [],
   "source": [
    "# go back to 7th dimension Accuracy "
   ]
  },
  {
   "cell_type": "markdown",
   "id": "5ecc7dbb-6867-44cf-8f99-1b969a80be40",
   "metadata": {},
   "source": [
    "### Dealing with outliers:"
   ]
  },
  {
   "attachments": {},
   "cell_type": "markdown",
   "id": "88347887-4bdf-48af-9486-cb8fe80c97af",
   "metadata": {},
   "source": [
    "**How to remove Outliers?**\n",
    "Most of the ways to deal with outliers are similar to the methods of missing values like deleting rows, transforming them, binning them, treat them as a separate group, imputing values and other statistical methods. Here, we will discuss the common techniques used to deal with outliers:\n",
    "\n",
    "1. Deleting rows: We delete outlier values if it is due to data entry error, data processing error or outlier rows are very small in numbers. We can also use trimming at both ends to remove outliers.\n",
    "\n",
    "2. Imputing: Like imputation of missing values, we can also impute outliers. We can use mean, median, mode imputation methods. Before imputing values, we should analyse if it is natural outlier or artificial. If it is artificial, we can go with imputing values. We can also use statistical model to predict values of outlier rows and after that we can impute it with predicted values.\n",
    "\n",
    "3. Treat separately: If there are significant number of outliers, we should treat them separately in the statistical model. One of the approach is to treat both groups as two different groups and build individual model for both groups and then combine the output.\n"
   ]
  },
  {
   "cell_type": "code",
   "execution_count": 137,
   "id": "5ef4ad7c-00f2-4b21-883c-ba405d61d6b3",
   "metadata": {},
   "outputs": [],
   "source": [
    "frequency_counts = df['region'].value_counts()\n",
    "top_5 = frequency_counts.nlargest(5)\n",
    "other_count = frequency_counts[~frequency_counts.index.isin(top_5.index)].sum()\n",
    "pie_data = pd.concat([top_5, pd.Series({'أخرى': other_count})]).reset_index()\n",
    "pie_data.columns = ['region', 'frequency']\n"
   ]
  },
  {
   "cell_type": "code",
   "execution_count": 201,
   "id": "25a585f0-2b9c-42fa-bf21-cacc6aa3be3f",
   "metadata": {},
   "outputs": [
    {
     "data": {
      "application/vnd.plotly.v1+json": {
       "config": {
        "plotlyServerURL": "https://plot.ly"
       },
       "data": [
        {
         "domain": {
          "x": [
           0,
           1
          ],
          "y": [
           0,
           1
          ]
         },
         "hovertemplate": "region=%{label}<br>frequency=%{value}<extra></extra>",
         "labels": [
          "الرياض",
          "مكة المكرمة",
          "المنطقة الشرقية",
          "المدينة المنورة",
          "الباحة",
          "أخرى"
         ],
         "legendgroup": "",
         "name": "",
         "showlegend": true,
         "type": "pie",
         "values": [
          601,
          361,
          214,
          86,
          45,
          127
         ]
        }
       ],
       "layout": {
        "autosize": true,
        "legend": {
         "tracegroupgap": 0
        },
        "template": {
         "data": {
          "bar": [
           {
            "error_x": {
             "color": "#2a3f5f"
            },
            "error_y": {
             "color": "#2a3f5f"
            },
            "marker": {
             "line": {
              "color": "#E5ECF6",
              "width": 0.5
             },
             "pattern": {
              "fillmode": "overlay",
              "size": 10,
              "solidity": 0.2
             }
            },
            "type": "bar"
           }
          ],
          "barpolar": [
           {
            "marker": {
             "line": {
              "color": "#E5ECF6",
              "width": 0.5
             },
             "pattern": {
              "fillmode": "overlay",
              "size": 10,
              "solidity": 0.2
             }
            },
            "type": "barpolar"
           }
          ],
          "carpet": [
           {
            "aaxis": {
             "endlinecolor": "#2a3f5f",
             "gridcolor": "white",
             "linecolor": "white",
             "minorgridcolor": "white",
             "startlinecolor": "#2a3f5f"
            },
            "baxis": {
             "endlinecolor": "#2a3f5f",
             "gridcolor": "white",
             "linecolor": "white",
             "minorgridcolor": "white",
             "startlinecolor": "#2a3f5f"
            },
            "type": "carpet"
           }
          ],
          "choropleth": [
           {
            "colorbar": {
             "outlinewidth": 0,
             "ticks": ""
            },
            "type": "choropleth"
           }
          ],
          "contour": [
           {
            "colorbar": {
             "outlinewidth": 0,
             "ticks": ""
            },
            "colorscale": [
             [
              0,
              "#0d0887"
             ],
             [
              0.1111111111111111,
              "#46039f"
             ],
             [
              0.2222222222222222,
              "#7201a8"
             ],
             [
              0.3333333333333333,
              "#9c179e"
             ],
             [
              0.4444444444444444,
              "#bd3786"
             ],
             [
              0.5555555555555556,
              "#d8576b"
             ],
             [
              0.6666666666666666,
              "#ed7953"
             ],
             [
              0.7777777777777778,
              "#fb9f3a"
             ],
             [
              0.8888888888888888,
              "#fdca26"
             ],
             [
              1,
              "#f0f921"
             ]
            ],
            "type": "contour"
           }
          ],
          "contourcarpet": [
           {
            "colorbar": {
             "outlinewidth": 0,
             "ticks": ""
            },
            "type": "contourcarpet"
           }
          ],
          "heatmap": [
           {
            "colorbar": {
             "outlinewidth": 0,
             "ticks": ""
            },
            "colorscale": [
             [
              0,
              "#0d0887"
             ],
             [
              0.1111111111111111,
              "#46039f"
             ],
             [
              0.2222222222222222,
              "#7201a8"
             ],
             [
              0.3333333333333333,
              "#9c179e"
             ],
             [
              0.4444444444444444,
              "#bd3786"
             ],
             [
              0.5555555555555556,
              "#d8576b"
             ],
             [
              0.6666666666666666,
              "#ed7953"
             ],
             [
              0.7777777777777778,
              "#fb9f3a"
             ],
             [
              0.8888888888888888,
              "#fdca26"
             ],
             [
              1,
              "#f0f921"
             ]
            ],
            "type": "heatmap"
           }
          ],
          "heatmapgl": [
           {
            "colorbar": {
             "outlinewidth": 0,
             "ticks": ""
            },
            "colorscale": [
             [
              0,
              "#0d0887"
             ],
             [
              0.1111111111111111,
              "#46039f"
             ],
             [
              0.2222222222222222,
              "#7201a8"
             ],
             [
              0.3333333333333333,
              "#9c179e"
             ],
             [
              0.4444444444444444,
              "#bd3786"
             ],
             [
              0.5555555555555556,
              "#d8576b"
             ],
             [
              0.6666666666666666,
              "#ed7953"
             ],
             [
              0.7777777777777778,
              "#fb9f3a"
             ],
             [
              0.8888888888888888,
              "#fdca26"
             ],
             [
              1,
              "#f0f921"
             ]
            ],
            "type": "heatmapgl"
           }
          ],
          "histogram": [
           {
            "marker": {
             "pattern": {
              "fillmode": "overlay",
              "size": 10,
              "solidity": 0.2
             }
            },
            "type": "histogram"
           }
          ],
          "histogram2d": [
           {
            "colorbar": {
             "outlinewidth": 0,
             "ticks": ""
            },
            "colorscale": [
             [
              0,
              "#0d0887"
             ],
             [
              0.1111111111111111,
              "#46039f"
             ],
             [
              0.2222222222222222,
              "#7201a8"
             ],
             [
              0.3333333333333333,
              "#9c179e"
             ],
             [
              0.4444444444444444,
              "#bd3786"
             ],
             [
              0.5555555555555556,
              "#d8576b"
             ],
             [
              0.6666666666666666,
              "#ed7953"
             ],
             [
              0.7777777777777778,
              "#fb9f3a"
             ],
             [
              0.8888888888888888,
              "#fdca26"
             ],
             [
              1,
              "#f0f921"
             ]
            ],
            "type": "histogram2d"
           }
          ],
          "histogram2dcontour": [
           {
            "colorbar": {
             "outlinewidth": 0,
             "ticks": ""
            },
            "colorscale": [
             [
              0,
              "#0d0887"
             ],
             [
              0.1111111111111111,
              "#46039f"
             ],
             [
              0.2222222222222222,
              "#7201a8"
             ],
             [
              0.3333333333333333,
              "#9c179e"
             ],
             [
              0.4444444444444444,
              "#bd3786"
             ],
             [
              0.5555555555555556,
              "#d8576b"
             ],
             [
              0.6666666666666666,
              "#ed7953"
             ],
             [
              0.7777777777777778,
              "#fb9f3a"
             ],
             [
              0.8888888888888888,
              "#fdca26"
             ],
             [
              1,
              "#f0f921"
             ]
            ],
            "type": "histogram2dcontour"
           }
          ],
          "mesh3d": [
           {
            "colorbar": {
             "outlinewidth": 0,
             "ticks": ""
            },
            "type": "mesh3d"
           }
          ],
          "parcoords": [
           {
            "line": {
             "colorbar": {
              "outlinewidth": 0,
              "ticks": ""
             }
            },
            "type": "parcoords"
           }
          ],
          "pie": [
           {
            "automargin": true,
            "type": "pie"
           }
          ],
          "scatter": [
           {
            "fillpattern": {
             "fillmode": "overlay",
             "size": 10,
             "solidity": 0.2
            },
            "type": "scatter"
           }
          ],
          "scatter3d": [
           {
            "line": {
             "colorbar": {
              "outlinewidth": 0,
              "ticks": ""
             }
            },
            "marker": {
             "colorbar": {
              "outlinewidth": 0,
              "ticks": ""
             }
            },
            "type": "scatter3d"
           }
          ],
          "scattercarpet": [
           {
            "marker": {
             "colorbar": {
              "outlinewidth": 0,
              "ticks": ""
             }
            },
            "type": "scattercarpet"
           }
          ],
          "scattergeo": [
           {
            "marker": {
             "colorbar": {
              "outlinewidth": 0,
              "ticks": ""
             }
            },
            "type": "scattergeo"
           }
          ],
          "scattergl": [
           {
            "marker": {
             "colorbar": {
              "outlinewidth": 0,
              "ticks": ""
             }
            },
            "type": "scattergl"
           }
          ],
          "scattermapbox": [
           {
            "marker": {
             "colorbar": {
              "outlinewidth": 0,
              "ticks": ""
             }
            },
            "type": "scattermapbox"
           }
          ],
          "scatterpolar": [
           {
            "marker": {
             "colorbar": {
              "outlinewidth": 0,
              "ticks": ""
             }
            },
            "type": "scatterpolar"
           }
          ],
          "scatterpolargl": [
           {
            "marker": {
             "colorbar": {
              "outlinewidth": 0,
              "ticks": ""
             }
            },
            "type": "scatterpolargl"
           }
          ],
          "scatterternary": [
           {
            "marker": {
             "colorbar": {
              "outlinewidth": 0,
              "ticks": ""
             }
            },
            "type": "scatterternary"
           }
          ],
          "surface": [
           {
            "colorbar": {
             "outlinewidth": 0,
             "ticks": ""
            },
            "colorscale": [
             [
              0,
              "#0d0887"
             ],
             [
              0.1111111111111111,
              "#46039f"
             ],
             [
              0.2222222222222222,
              "#7201a8"
             ],
             [
              0.3333333333333333,
              "#9c179e"
             ],
             [
              0.4444444444444444,
              "#bd3786"
             ],
             [
              0.5555555555555556,
              "#d8576b"
             ],
             [
              0.6666666666666666,
              "#ed7953"
             ],
             [
              0.7777777777777778,
              "#fb9f3a"
             ],
             [
              0.8888888888888888,
              "#fdca26"
             ],
             [
              1,
              "#f0f921"
             ]
            ],
            "type": "surface"
           }
          ],
          "table": [
           {
            "cells": {
             "fill": {
              "color": "#EBF0F8"
             },
             "line": {
              "color": "white"
             }
            },
            "header": {
             "fill": {
              "color": "#C8D4E3"
             },
             "line": {
              "color": "white"
             }
            },
            "type": "table"
           }
          ]
         },
         "layout": {
          "annotationdefaults": {
           "arrowcolor": "#2a3f5f",
           "arrowhead": 0,
           "arrowwidth": 1
          },
          "autotypenumbers": "strict",
          "coloraxis": {
           "colorbar": {
            "outlinewidth": 0,
            "ticks": ""
           }
          },
          "colorscale": {
           "diverging": [
            [
             0,
             "#8e0152"
            ],
            [
             0.1,
             "#c51b7d"
            ],
            [
             0.2,
             "#de77ae"
            ],
            [
             0.3,
             "#f1b6da"
            ],
            [
             0.4,
             "#fde0ef"
            ],
            [
             0.5,
             "#f7f7f7"
            ],
            [
             0.6,
             "#e6f5d0"
            ],
            [
             0.7,
             "#b8e186"
            ],
            [
             0.8,
             "#7fbc41"
            ],
            [
             0.9,
             "#4d9221"
            ],
            [
             1,
             "#276419"
            ]
           ],
           "sequential": [
            [
             0,
             "#0d0887"
            ],
            [
             0.1111111111111111,
             "#46039f"
            ],
            [
             0.2222222222222222,
             "#7201a8"
            ],
            [
             0.3333333333333333,
             "#9c179e"
            ],
            [
             0.4444444444444444,
             "#bd3786"
            ],
            [
             0.5555555555555556,
             "#d8576b"
            ],
            [
             0.6666666666666666,
             "#ed7953"
            ],
            [
             0.7777777777777778,
             "#fb9f3a"
            ],
            [
             0.8888888888888888,
             "#fdca26"
            ],
            [
             1,
             "#f0f921"
            ]
           ],
           "sequentialminus": [
            [
             0,
             "#0d0887"
            ],
            [
             0.1111111111111111,
             "#46039f"
            ],
            [
             0.2222222222222222,
             "#7201a8"
            ],
            [
             0.3333333333333333,
             "#9c179e"
            ],
            [
             0.4444444444444444,
             "#bd3786"
            ],
            [
             0.5555555555555556,
             "#d8576b"
            ],
            [
             0.6666666666666666,
             "#ed7953"
            ],
            [
             0.7777777777777778,
             "#fb9f3a"
            ],
            [
             0.8888888888888888,
             "#fdca26"
            ],
            [
             1,
             "#f0f921"
            ]
           ]
          },
          "colorway": [
           "#636efa",
           "#EF553B",
           "#00cc96",
           "#ab63fa",
           "#FFA15A",
           "#19d3f3",
           "#FF6692",
           "#B6E880",
           "#FF97FF",
           "#FECB52"
          ],
          "font": {
           "color": "#2a3f5f"
          },
          "geo": {
           "bgcolor": "white",
           "lakecolor": "white",
           "landcolor": "#E5ECF6",
           "showlakes": true,
           "showland": true,
           "subunitcolor": "white"
          },
          "hoverlabel": {
           "align": "left"
          },
          "hovermode": "closest",
          "mapbox": {
           "style": "light"
          },
          "paper_bgcolor": "white",
          "plot_bgcolor": "#E5ECF6",
          "polar": {
           "angularaxis": {
            "gridcolor": "white",
            "linecolor": "white",
            "ticks": ""
           },
           "bgcolor": "#E5ECF6",
           "radialaxis": {
            "gridcolor": "white",
            "linecolor": "white",
            "ticks": ""
           }
          },
          "scene": {
           "xaxis": {
            "backgroundcolor": "#E5ECF6",
            "gridcolor": "white",
            "gridwidth": 2,
            "linecolor": "white",
            "showbackground": true,
            "ticks": "",
            "zerolinecolor": "white"
           },
           "yaxis": {
            "backgroundcolor": "#E5ECF6",
            "gridcolor": "white",
            "gridwidth": 2,
            "linecolor": "white",
            "showbackground": true,
            "ticks": "",
            "zerolinecolor": "white"
           },
           "zaxis": {
            "backgroundcolor": "#E5ECF6",
            "gridcolor": "white",
            "gridwidth": 2,
            "linecolor": "white",
            "showbackground": true,
            "ticks": "",
            "zerolinecolor": "white"
           }
          },
          "shapedefaults": {
           "line": {
            "color": "#2a3f5f"
           }
          },
          "ternary": {
           "aaxis": {
            "gridcolor": "white",
            "linecolor": "white",
            "ticks": ""
           },
           "baxis": {
            "gridcolor": "white",
            "linecolor": "white",
            "ticks": ""
           },
           "bgcolor": "#E5ECF6",
           "caxis": {
            "gridcolor": "white",
            "linecolor": "white",
            "ticks": ""
           }
          },
          "title": {
           "x": 0.05
          },
          "xaxis": {
           "automargin": true,
           "gridcolor": "white",
           "linecolor": "white",
           "ticks": "",
           "title": {
            "standoff": 15
           },
           "zerolinecolor": "white",
           "zerolinewidth": 2
          },
          "yaxis": {
           "automargin": true,
           "gridcolor": "white",
           "linecolor": "white",
           "ticks": "",
           "title": {
            "standoff": 15
           },
           "zerolinecolor": "white",
           "zerolinewidth": 2
          }
         }
        },
        "title": {
         "text": "نسب العروض الوظائفية بحسب مناطق المملكة"
        }
       }
      },
      "image/png": "[encoded data removed]",
      "text/html": [
       "<div>                            <div id=\"e09d3671-a8f4-4c07-b512-18da2f5a00b7\" class=\"plotly-graph-div\" style=\"height:525px; width:100%;\"></div>            <script type=\"text/javascript\">                require([\"plotly\"], function(Plotly) {                    window.PLOTLYENV=window.PLOTLYENV || {};                                    if (document.getElementById(\"e09d3671-a8f4-4c07-b512-18da2f5a00b7\")) {                    Plotly.newPlot(                        \"e09d3671-a8f4-4c07-b512-18da2f5a00b7\",                        [{\"domain\":{\"x\":[0.0,1.0],\"y\":[0.0,1.0]},\"hovertemplate\":\"region=%{label}\\u003cbr\\u003efrequency=%{value}\\u003cextra\\u003e\\u003c\\u002fextra\\u003e\",\"labels\":[\"\\u0627\\u0644\\u0631\\u064a\\u0627\\u0636\",\"\\u0645\\u0643\\u0629 \\u0627\\u0644\\u0645\\u0643\\u0631\\u0645\\u0629\",\"\\u0627\\u0644\\u0645\\u0646\\u0637\\u0642\\u0629 \\u0627\\u0644\\u0634\\u0631\\u0642\\u064a\\u0629\",\"\\u0627\\u0644\\u0645\\u062f\\u064a\\u0646\\u0629 \\u0627\\u0644\\u0645\\u0646\\u0648\\u0631\\u0629\",\"\\u0627\\u0644\\u0628\\u0627\\u062d\\u0629\",\"\\u0623\\u062e\\u0631\\u0649\"],\"legendgroup\":\"\",\"name\":\"\",\"showlegend\":true,\"values\":[601,361,214,86,45,127],\"type\":\"pie\"}],                        {\"template\":{\"data\":{\"histogram2dcontour\":[{\"type\":\"histogram2dcontour\",\"colorbar\":{\"outlinewidth\":0,\"ticks\":\"\"},\"colorscale\":[[0.0,\"#0d0887\"],[0.1111111111111111,\"#46039f\"],[0.2222222222222222,\"#7201a8\"],[0.3333333333333333,\"#9c179e\"],[0.4444444444444444,\"#bd3786\"],[0.5555555555555556,\"#d8576b\"],[0.6666666666666666,\"#ed7953\"],[0.7777777777777778,\"#fb9f3a\"],[0.8888888888888888,\"#fdca26\"],[1.0,\"#f0f921\"]]}],\"choropleth\":[{\"type\":\"choropleth\",\"colorbar\":{\"outlinewidth\":0,\"ticks\":\"\"}}],\"histogram2d\":[{\"type\":\"histogram2d\",\"colorbar\":{\"outlinewidth\":0,\"ticks\":\"\"},\"colorscale\":[[0.0,\"#0d0887\"],[0.1111111111111111,\"#46039f\"],[0.2222222222222222,\"#7201a8\"],[0.3333333333333333,\"#9c179e\"],[0.4444444444444444,\"#bd3786\"],[0.5555555555555556,\"#d8576b\"],[0.6666666666666666,\"#ed7953\"],[0.7777777777777778,\"#fb9f3a\"],[0.8888888888888888,\"#fdca26\"],[1.0,\"#f0f921\"]]}],\"heatmap\":[{\"type\":\"heatmap\",\"colorbar\":{\"outlinewidth\":0,\"ticks\":\"\"},\"colorscale\":[[0.0,\"#0d0887\"],[0.1111111111111111,\"#46039f\"],[0.2222222222222222,\"#7201a8\"],[0.3333333333333333,\"#9c179e\"],[0.4444444444444444,\"#bd3786\"],[0.5555555555555556,\"#d8576b\"],[0.6666666666666666,\"#ed7953\"],[0.7777777777777778,\"#fb9f3a\"],[0.8888888888888888,\"#fdca26\"],[1.0,\"#f0f921\"]]}],\"heatmapgl\":[{\"type\":\"heatmapgl\",\"colorbar\":{\"outlinewidth\":0,\"ticks\":\"\"},\"colorscale\":[[0.0,\"#0d0887\"],[0.1111111111111111,\"#46039f\"],[0.2222222222222222,\"#7201a8\"],[0.3333333333333333,\"#9c179e\"],[0.4444444444444444,\"#bd3786\"],[0.5555555555555556,\"#d8576b\"],[0.6666666666666666,\"#ed7953\"],[0.7777777777777778,\"#fb9f3a\"],[0.8888888888888888,\"#fdca26\"],[1.0,\"#f0f921\"]]}],\"contourcarpet\":[{\"type\":\"contourcarpet\",\"colorbar\":{\"outlinewidth\":0,\"ticks\":\"\"}}],\"contour\":[{\"type\":\"contour\",\"colorbar\":{\"outlinewidth\":0,\"ticks\":\"\"},\"colorscale\":[[0.0,\"#0d0887\"],[0.1111111111111111,\"#46039f\"],[0.2222222222222222,\"#7201a8\"],[0.3333333333333333,\"#9c179e\"],[0.4444444444444444,\"#bd3786\"],[0.5555555555555556,\"#d8576b\"],[0.6666666666666666,\"#ed7953\"],[0.7777777777777778,\"#fb9f3a\"],[0.8888888888888888,\"#fdca26\"],[1.0,\"#f0f921\"]]}],\"surface\":[{\"type\":\"surface\",\"colorbar\":{\"outlinewidth\":0,\"ticks\":\"\"},\"colorscale\":[[0.0,\"#0d0887\"],[0.1111111111111111,\"#46039f\"],[0.2222222222222222,\"#7201a8\"],[0.3333333333333333,\"#9c179e\"],[0.4444444444444444,\"#bd3786\"],[0.5555555555555556,\"#d8576b\"],[0.6666666666666666,\"#ed7953\"],[0.7777777777777778,\"#fb9f3a\"],[0.8888888888888888,\"#fdca26\"],[1.0,\"#f0f921\"]]}],\"mesh3d\":[{\"type\":\"mesh3d\",\"colorbar\":{\"outlinewidth\":0,\"ticks\":\"\"}}],\"scatter\":[{\"fillpattern\":{\"fillmode\":\"overlay\",\"size\":10,\"solidity\":0.2},\"type\":\"scatter\"}],\"parcoords\":[{\"type\":\"parcoords\",\"line\":{\"colorbar\":{\"outlinewidth\":0,\"ticks\":\"\"}}}],\"scatterpolargl\":[{\"type\":\"scatterpolargl\",\"marker\":{\"colorbar\":{\"outlinewidth\":0,\"ticks\":\"\"}}}],\"bar\":[{\"error_x\":{\"color\":\"#2a3f5f\"},\"error_y\":{\"color\":\"#2a3f5f\"},\"marker\":{\"line\":{\"color\":\"#E5ECF6\",\"width\":0.5},\"pattern\":{\"fillmode\":\"overlay\",\"size\":10,\"solidity\":0.2}},\"type\":\"bar\"}],\"scattergeo\":[{\"type\":\"scattergeo\",\"marker\":{\"colorbar\":{\"outlinewidth\":0,\"ticks\":\"\"}}}],\"scatterpolar\":[{\"type\":\"scatterpolar\",\"marker\":{\"colorbar\":{\"outlinewidth\":0,\"ticks\":\"\"}}}],\"histogram\":[{\"marker\":{\"pattern\":{\"fillmode\":\"overlay\",\"size\":10,\"solidity\":0.2}},\"type\":\"histogram\"}],\"scattergl\":[{\"type\":\"scattergl\",\"marker\":{\"colorbar\":{\"outlinewidth\":0,\"ticks\":\"\"}}}],\"scatter3d\":[{\"type\":\"scatter3d\",\"line\":{\"colorbar\":{\"outlinewidth\":0,\"ticks\":\"\"}},\"marker\":{\"colorbar\":{\"outlinewidth\":0,\"ticks\":\"\"}}}],\"scattermapbox\":[{\"type\":\"scattermapbox\",\"marker\":{\"colorbar\":{\"outlinewidth\":0,\"ticks\":\"\"}}}],\"scatterternary\":[{\"type\":\"scatterternary\",\"marker\":{\"colorbar\":{\"outlinewidth\":0,\"ticks\":\"\"}}}],\"scattercarpet\":[{\"type\":\"scattercarpet\",\"marker\":{\"colorbar\":{\"outlinewidth\":0,\"ticks\":\"\"}}}],\"carpet\":[{\"aaxis\":{\"endlinecolor\":\"#2a3f5f\",\"gridcolor\":\"white\",\"linecolor\":\"white\",\"minorgridcolor\":\"white\",\"startlinecolor\":\"#2a3f5f\"},\"baxis\":{\"endlinecolor\":\"#2a3f5f\",\"gridcolor\":\"white\",\"linecolor\":\"white\",\"minorgridcolor\":\"white\",\"startlinecolor\":\"#2a3f5f\"},\"type\":\"carpet\"}],\"table\":[{\"cells\":{\"fill\":{\"color\":\"#EBF0F8\"},\"line\":{\"color\":\"white\"}},\"header\":{\"fill\":{\"color\":\"#C8D4E3\"},\"line\":{\"color\":\"white\"}},\"type\":\"table\"}],\"barpolar\":[{\"marker\":{\"line\":{\"color\":\"#E5ECF6\",\"width\":0.5},\"pattern\":{\"fillmode\":\"overlay\",\"size\":10,\"solidity\":0.2}},\"type\":\"barpolar\"}],\"pie\":[{\"automargin\":true,\"type\":\"pie\"}]},\"layout\":{\"autotypenumbers\":\"strict\",\"colorway\":[\"#636efa\",\"#EF553B\",\"#00cc96\",\"#ab63fa\",\"#FFA15A\",\"#19d3f3\",\"#FF6692\",\"#B6E880\",\"#FF97FF\",\"#FECB52\"],\"font\":{\"color\":\"#2a3f5f\"},\"hovermode\":\"closest\",\"hoverlabel\":{\"align\":\"left\"},\"paper_bgcolor\":\"white\",\"plot_bgcolor\":\"#E5ECF6\",\"polar\":{\"bgcolor\":\"#E5ECF6\",\"angularaxis\":{\"gridcolor\":\"white\",\"linecolor\":\"white\",\"ticks\":\"\"},\"radialaxis\":{\"gridcolor\":\"white\",\"linecolor\":\"white\",\"ticks\":\"\"}},\"ternary\":{\"bgcolor\":\"#E5ECF6\",\"aaxis\":{\"gridcolor\":\"white\",\"linecolor\":\"white\",\"ticks\":\"\"},\"baxis\":{\"gridcolor\":\"white\",\"linecolor\":\"white\",\"ticks\":\"\"},\"caxis\":{\"gridcolor\":\"white\",\"linecolor\":\"white\",\"ticks\":\"\"}},\"coloraxis\":{\"colorbar\":{\"outlinewidth\":0,\"ticks\":\"\"}},\"colorscale\":{\"sequential\":[[0.0,\"#0d0887\"],[0.1111111111111111,\"#46039f\"],[0.2222222222222222,\"#7201a8\"],[0.3333333333333333,\"#9c179e\"],[0.4444444444444444,\"#bd3786\"],[0.5555555555555556,\"#d8576b\"],[0.6666666666666666,\"#ed7953\"],[0.7777777777777778,\"#fb9f3a\"],[0.8888888888888888,\"#fdca26\"],[1.0,\"#f0f921\"]],\"sequentialminus\":[[0.0,\"#0d0887\"],[0.1111111111111111,\"#46039f\"],[0.2222222222222222,\"#7201a8\"],[0.3333333333333333,\"#9c179e\"],[0.4444444444444444,\"#bd3786\"],[0.5555555555555556,\"#d8576b\"],[0.6666666666666666,\"#ed7953\"],[0.7777777777777778,\"#fb9f3a\"],[0.8888888888888888,\"#fdca26\"],[1.0,\"#f0f921\"]],\"diverging\":[[0,\"#8e0152\"],[0.1,\"#c51b7d\"],[0.2,\"#de77ae\"],[0.3,\"#f1b6da\"],[0.4,\"#fde0ef\"],[0.5,\"#f7f7f7\"],[0.6,\"#e6f5d0\"],[0.7,\"#b8e186\"],[0.8,\"#7fbc41\"],[0.9,\"#4d9221\"],[1,\"#276419\"]]},\"xaxis\":{\"gridcolor\":\"white\",\"linecolor\":\"white\",\"ticks\":\"\",\"title\":{\"standoff\":15},\"zerolinecolor\":\"white\",\"automargin\":true,\"zerolinewidth\":2},\"yaxis\":{\"gridcolor\":\"white\",\"linecolor\":\"white\",\"ticks\":\"\",\"title\":{\"standoff\":15},\"zerolinecolor\":\"white\",\"automargin\":true,\"zerolinewidth\":2},\"scene\":{\"xaxis\":{\"backgroundcolor\":\"#E5ECF6\",\"gridcolor\":\"white\",\"linecolor\":\"white\",\"showbackground\":true,\"ticks\":\"\",\"zerolinecolor\":\"white\",\"gridwidth\":2},\"yaxis\":{\"backgroundcolor\":\"#E5ECF6\",\"gridcolor\":\"white\",\"linecolor\":\"white\",\"showbackground\":true,\"ticks\":\"\",\"zerolinecolor\":\"white\",\"gridwidth\":2},\"zaxis\":{\"backgroundcolor\":\"#E5ECF6\",\"gridcolor\":\"white\",\"linecolor\":\"white\",\"showbackground\":true,\"ticks\":\"\",\"zerolinecolor\":\"white\",\"gridwidth\":2}},\"shapedefaults\":{\"line\":{\"color\":\"#2a3f5f\"}},\"annotationdefaults\":{\"arrowcolor\":\"#2a3f5f\",\"arrowhead\":0,\"arrowwidth\":1},\"geo\":{\"bgcolor\":\"white\",\"landcolor\":\"#E5ECF6\",\"subunitcolor\":\"white\",\"showland\":true,\"showlakes\":true,\"lakecolor\":\"white\"},\"title\":{\"x\":0.05},\"mapbox\":{\"style\":\"light\"}}},\"legend\":{\"tracegroupgap\":0},\"title\":{\"text\":\"\\u0646\\u0633\\u0628 \\u0627\\u0644\\u0639\\u0631\\u0648\\u0636 \\u0627\\u0644\\u0648\\u0638\\u0627\\u0626\\u0641\\u064a\\u0629 \\u0628\\u062d\\u0633\\u0628 \\u0645\\u0646\\u0627\\u0637\\u0642 \\u0627\\u0644\\u0645\\u0645\\u0644\\u0643\\u0629\"}},                        {\"responsive\": true}                    ).then(function(){\n",
       "                            \n",
       "var gd = document.getElementById('e09d3671-a8f4-4c07-b512-18da2f5a00b7');\n",
       "var x = new MutationObserver(function (mutations, observer) {{\n",
       "        var display = window.getComputedStyle(gd).display;\n",
       "        if (!display || display === 'none') {{\n",
       "            console.log([gd, 'removed!']);\n",
       "            Plotly.purge(gd);\n",
       "            observer.disconnect();\n",
       "        }}\n",
       "}});\n",
       "\n",
       "// Listen for the removal of the full notebook cells\n",
       "var notebookContainer = gd.closest('#notebook-container');\n",
       "if (notebookContainer) {{\n",
       "    x.observe(notebookContainer, {childList: true});\n",
       "}}\n",
       "\n",
       "// Listen for the clearing of the current output cell\n",
       "var outputEl = gd.closest('.output');\n",
       "if (outputEl) {{\n",
       "    x.observe(outputEl, {childList: true});\n",
       "}}\n",
       "\n",
       "                        })                };                });            </script>        </div>"
      ]
     },
     "metadata": {},
     "output_type": "display_data"
    }
   ],
   "source": [
    "import plotly.express as px\n",
    "\n",
    "\n",
    "# Create pie chart\n",
    "fig = px.pie(\n",
    "    pie_data, names='region',\n",
    "    values='frequency',\n",
    "    title=\"نسب العروض الوظائفية بحسب مناطق المملكة\"\n",
    ")\n",
    "\n",
    "# Show the chart\n",
    "fig.show()"
   ]
  },
  {
   "cell_type": "code",
   "execution_count": 143,
   "id": "8225bd71-d51e-47e4-b629-34400d1f4145",
   "metadata": {},
   "outputs": [
    {
     "data": {
      "text/plain": [
       "Index(['job_title', 'job_date', 'comp_name', 'comp_type', 'comp_size',\n",
       "       'region', 'city', 'benefits', 'contract', 'positions', 'exper',\n",
       "       'gender'],\n",
       "      dtype='object')"
      ]
     },
     "execution_count": 143,
     "metadata": {},
     "output_type": "execute_result"
    }
   ],
   "source": [
    "df.columns"
   ]
  },
  {
   "cell_type": "code",
   "execution_count": 149,
   "id": "490cbf94-2cfa-40c4-bfb8-50a9368c3a3f",
   "metadata": {},
   "outputs": [
    {
     "name": "stderr",
     "output_type": "stream",
     "text": [
      "C:\\Users\\mmm19\\AppData\\Local\\Temp\\ipykernel_6356\\3896306348.py:1: FutureWarning:\n",
      "\n",
      "A value is trying to be set on a copy of a DataFrame or Series through chained assignment using an inplace method.\n",
      "The behavior will change in pandas 3.0. This inplace method will never work because the intermediate object on which we are setting values always behaves as a copy.\n",
      "\n",
      "For example, when doing 'df[col].method(value, inplace=True)', try using 'df.method({col: value}, inplace=True)' or df[col] = df[col].method(value) instead, to perform the operation inplace on the original object.\n",
      "\n",
      "\n",
      "\n"
     ]
    }
   ],
   "source": [
    "df[\"gender\"].replace(\"M\", \"ذكر\", inplace=True)"
   ]
  },
  {
   "cell_type": "code",
   "execution_count": 151,
   "id": "97649738-a60a-49d7-9d95-73d101e7f026",
   "metadata": {},
   "outputs": [
    {
     "name": "stderr",
     "output_type": "stream",
     "text": [
      "C:\\Users\\mmm19\\AppData\\Local\\Temp\\ipykernel_6356\\2874444858.py:1: FutureWarning:\n",
      "\n",
      "A value is trying to be set on a copy of a DataFrame or Series through chained assignment using an inplace method.\n",
      "The behavior will change in pandas 3.0. This inplace method will never work because the intermediate object on which we are setting values always behaves as a copy.\n",
      "\n",
      "For example, when doing 'df[col].method(value, inplace=True)', try using 'df.method({col: value}, inplace=True)' or df[col] = df[col].method(value) instead, to perform the operation inplace on the original object.\n",
      "\n",
      "\n",
      "\n"
     ]
    }
   ],
   "source": [
    "df[\"gender\"].replace(\"F\", \"أنثى\", inplace=True)"
   ]
  },
  {
   "cell_type": "code",
   "execution_count": 153,
   "id": "67d9569c-1555-48da-9430-1b43d8a30d3d",
   "metadata": {},
   "outputs": [
    {
     "name": "stderr",
     "output_type": "stream",
     "text": [
      "C:\\Users\\mmm19\\AppData\\Local\\Temp\\ipykernel_6356\\4134667291.py:1: FutureWarning:\n",
      "\n",
      "A value is trying to be set on a copy of a DataFrame or Series through chained assignment using an inplace method.\n",
      "The behavior will change in pandas 3.0. This inplace method will never work because the intermediate object on which we are setting values always behaves as a copy.\n",
      "\n",
      "For example, when doing 'df[col].method(value, inplace=True)', try using 'df.method({col: value}, inplace=True)' or df[col] = df[col].method(value) instead, to perform the operation inplace on the original object.\n",
      "\n",
      "\n",
      "\n"
     ]
    }
   ],
   "source": [
    "df[\"gender\"].replace(\"both\", \"الكل\", inplace=True)"
   ]
  },
  {
   "cell_type": "code",
   "execution_count": 203,
   "id": "de4722a0-0068-4504-bf7a-721f67469efe",
   "metadata": {},
   "outputs": [
    {
     "data": {
      "application/vnd.plotly.v1+json": {
       "config": {
        "plotlyServerURL": "https://plot.ly"
       },
       "data": [
        {
         "domain": {
          "x": [
           0,
           1
          ],
          "y": [
           0,
           1
          ]
         },
         "hovertemplate": "label=%{label}<extra></extra>",
         "labels": [
          "الكل",
          "الكل",
          "الكل",
          "ذكر",
          "الكل",
          "الكل",
          "أنثى",
          "أنثى",
          "أنثى",
          "أنثى",
          "الكل",
          "الكل",
          "الكل",
          "أنثى",
          "ذكر",
          "ذكر",
          "ذكر",
          "ذكر",
          "أنثى",
          "أنثى",
          "أنثى",
          "ذكر",
          "أنثى",
          "الكل",
          "أنثى",
          "ذكر",
          "أنثى",
          "أنثى",
          "ذكر",
          "الكل",
          "أنثى",
          "أنثى",
          "ذكر",
          "ذكر",
          "ذكر",
          "ذكر",
          "ذكر",
          "ذكر",
          "ذكر",
          "الكل",
          "الكل",
          "أنثى",
          "الكل",
          "الكل",
          "الكل",
          "الكل",
          "ذكر",
          "ذكر",
          "أنثى",
          "أنثى",
          "الكل",
          "الكل",
          "الكل",
          "أنثى",
          "ذكر",
          "الكل",
          "أنثى",
          "أنثى",
          "الكل",
          "أنثى",
          "ذكر",
          "الكل",
          "الكل",
          "ذكر",
          "الكل",
          "الكل",
          "الكل",
          "الكل",
          "الكل",
          "الكل",
          "الكل",
          "ذكر",
          "ذكر",
          "ذكر",
          "ذكر",
          "الكل",
          "أنثى",
          "الكل",
          "ذكر",
          "أنثى",
          "ذكر",
          "الكل",
          "الكل",
          "الكل",
          "الكل",
          "أنثى",
          "ذكر",
          "ذكر",
          "ذكر",
          "ذكر",
          "الكل",
          "ذكر",
          "الكل",
          "الكل",
          "ذكر",
          "ذكر",
          "الكل",
          "ذكر",
          "ذكر",
          "ذكر",
          "الكل",
          "أنثى",
          "الكل",
          "الكل",
          "ذكر",
          "الكل",
          "ذكر",
          "الكل",
          "الكل",
          "الكل",
          "الكل",
          "ذكر",
          "الكل",
          "الكل",
          "الكل",
          "الكل",
          "أنثى",
          "ذكر",
          "الكل",
          "أنثى",
          "أنثى",
          "أنثى",
          "الكل",
          "ذكر",
          "ذكر",
          "الكل",
          "ذكر",
          "أنثى",
          "أنثى",
          "أنثى",
          "ذكر",
          "أنثى",
          "الكل",
          "الكل",
          "الكل",
          "ذكر",
          "الكل",
          "الكل",
          "أنثى",
          "ذكر",
          "ذكر",
          "ذكر",
          "ذكر",
          "ذكر",
          "ذكر",
          "ذكر",
          "ذكر",
          "أنثى",
          "الكل",
          "أنثى",
          "الكل",
          "الكل",
          "ذكر",
          "ذكر",
          "أنثى",
          "ذكر",
          "الكل",
          "الكل",
          "الكل",
          "الكل",
          "ذكر",
          "ذكر",
          "الكل",
          "أنثى",
          "الكل",
          "الكل",
          "الكل",
          "ذكر",
          "أنثى",
          "الكل",
          "الكل",
          "الكل",
          "الكل",
          "الكل",
          "ذكر",
          "الكل",
          "أنثى",
          "الكل",
          "أنثى",
          "ذكر",
          "ذكر",
          "ذكر",
          "ذكر",
          "الكل",
          "الكل",
          "ذكر",
          "الكل",
          "أنثى",
          "الكل",
          "الكل",
          "ذكر",
          "أنثى",
          "ذكر",
          "ذكر",
          "الكل",
          "الكل",
          "أنثى",
          "ذكر",
          "ذكر",
          "أنثى",
          "ذكر",
          "الكل",
          "ذكر",
          "أنثى",
          "أنثى",
          "ذكر",
          "ذكر",
          "ذكر",
          "ذكر",
          "الكل",
          "ذكر",
          "ذكر",
          "الكل",
          "الكل",
          "أنثى",
          "الكل",
          "ذكر",
          "الكل",
          "الكل",
          "أنثى",
          "ذكر",
          "الكل",
          "الكل",
          "الكل",
          "الكل",
          "الكل",
          "الكل",
          "أنثى",
          "الكل",
          "الكل",
          "الكل",
          "أنثى",
          "الكل",
          "ذكر",
          "أنثى",
          "ذكر",
          "الكل",
          "الكل",
          "أنثى",
          "ذكر",
          "الكل",
          "أنثى",
          "ذكر",
          "الكل",
          "ذكر",
          "ذكر",
          "الكل",
          "ذكر",
          "ذكر",
          "أنثى",
          "ذكر",
          "الكل",
          "الكل",
          "الكل",
          "أنثى",
          "ذكر",
          "أنثى",
          "الكل",
          "الكل",
          "ذكر",
          "أنثى",
          "أنثى",
          "أنثى",
          "ذكر",
          "الكل",
          "ذكر",
          "ذكر",
          "ذكر",
          "ذكر",
          "ذكر",
          "ذكر",
          "الكل",
          "أنثى",
          "ذكر",
          "ذكر",
          "الكل",
          "الكل",
          "أنثى",
          "ذكر",
          "أنثى",
          "أنثى",
          "ذكر",
          "ذكر",
          "الكل",
          "ذكر",
          "ذكر",
          "أنثى",
          "ذكر",
          "أنثى",
          "أنثى",
          "ذكر",
          "الكل",
          "ذكر",
          "أنثى",
          "الكل",
          "أنثى",
          "الكل",
          "ذكر",
          "أنثى",
          "ذكر",
          "أنثى",
          "ذكر",
          "ذكر",
          "ذكر",
          "ذكر",
          "الكل",
          "ذكر",
          "ذكر",
          "الكل",
          "الكل",
          "أنثى",
          "أنثى",
          "الكل",
          "ذكر",
          "الكل",
          "الكل",
          "الكل",
          "الكل",
          "أنثى",
          "أنثى",
          "أنثى",
          "ذكر",
          "ذكر",
          "الكل",
          "أنثى",
          "الكل",
          "أنثى",
          "أنثى",
          "ذكر",
          "ذكر",
          "أنثى",
          "أنثى",
          "أنثى",
          "أنثى",
          "ذكر",
          "الكل",
          "أنثى",
          "ذكر",
          "أنثى",
          "الكل",
          "ذكر",
          "الكل",
          "أنثى",
          "ذكر",
          "أنثى",
          "الكل",
          "الكل",
          "الكل",
          "الكل",
          "ذكر",
          "ذكر",
          "ذكر",
          "ذكر",
          "ذكر",
          "الكل",
          "ذكر",
          "الكل",
          "ذكر",
          "أنثى",
          "أنثى",
          "أنثى",
          "الكل",
          "أنثى",
          "الكل",
          "أنثى",
          "الكل",
          "الكل",
          "الكل",
          "ذكر",
          "ذكر",
          "ذكر",
          "الكل",
          "أنثى",
          "ذكر",
          "ذكر",
          "ذكر",
          "ذكر",
          "ذكر",
          "ذكر",
          "ذكر",
          "ذكر",
          "الكل",
          "الكل",
          "الكل",
          "الكل",
          "أنثى",
          "ذكر",
          "أنثى",
          "ذكر",
          "أنثى",
          "أنثى",
          "أنثى",
          "ذكر",
          "الكل",
          "ذكر",
          "أنثى",
          "ذكر",
          "أنثى",
          "الكل",
          "ذكر",
          "ذكر",
          "أنثى",
          "الكل",
          "أنثى",
          "ذكر",
          "الكل",
          "الكل",
          "الكل",
          "ذكر",
          "الكل",
          "الكل",
          "ذكر",
          "أنثى",
          "أنثى",
          "أنثى",
          "ذكر",
          "ذكر",
          "ذكر",
          "أنثى",
          "الكل",
          "الكل",
          "ذكر",
          "ذكر",
          "ذكر",
          "ذكر",
          "ذكر",
          "ذكر",
          "الكل",
          "الكل",
          "ذكر",
          "الكل",
          "الكل",
          "الكل",
          "الكل",
          "ذكر",
          "ذكر",
          "ذكر",
          "الكل",
          "ذكر",
          "أنثى",
          "ذكر",
          "الكل",
          "أنثى",
          "الكل",
          "أنثى",
          "الكل",
          "أنثى",
          "أنثى",
          "أنثى",
          "ذكر",
          "أنثى",
          "الكل",
          "أنثى",
          "أنثى",
          "ذكر",
          "الكل",
          "الكل",
          "الكل",
          "الكل",
          "ذكر",
          "ذكر",
          "الكل",
          "ذكر",
          "ذكر",
          "ذكر",
          "الكل",
          "الكل",
          "ذكر",
          "ذكر",
          "ذكر",
          "الكل",
          "الكل",
          "أنثى",
          "الكل",
          "الكل",
          "الكل",
          "الكل",
          "ذكر",
          "ذكر",
          "أنثى",
          "الكل",
          "أنثى",
          "أنثى",
          "الكل",
          "أنثى",
          "الكل",
          "الكل",
          "أنثى",
          "الكل",
          "الكل",
          "الكل",
          "الكل",
          "أنثى",
          "أنثى",
          "أنثى",
          "ذكر",
          "أنثى",
          "الكل",
          "الكل",
          "ذكر",
          "الكل",
          "أنثى",
          "الكل",
          "الكل",
          "الكل",
          "الكل",
          "الكل",
          "ذكر",
          "أنثى",
          "الكل",
          "ذكر",
          "أنثى",
          "ذكر",
          "أنثى",
          "أنثى",
          "أنثى",
          "الكل",
          "أنثى",
          "ذكر",
          "أنثى",
          "الكل",
          "الكل",
          "ذكر",
          "الكل",
          "أنثى",
          "أنثى",
          "ذكر",
          "الكل",
          "الكل",
          "ذكر",
          "الكل",
          "ذكر",
          "ذكر",
          "ذكر",
          "ذكر",
          "ذكر",
          "ذكر",
          "ذكر",
          "الكل",
          "الكل",
          "الكل",
          "الكل",
          "ذكر",
          "الكل",
          "أنثى",
          "أنثى",
          "ذكر",
          "ذكر",
          "ذكر",
          "ذكر",
          "ذكر",
          "الكل",
          "الكل",
          "الكل",
          "ذكر",
          "الكل",
          "الكل",
          "أنثى",
          "أنثى",
          "أنثى",
          "الكل",
          "الكل",
          "ذكر",
          "الكل",
          "الكل",
          "أنثى",
          "أنثى",
          "أنثى",
          "أنثى",
          "الكل",
          "أنثى",
          "أنثى",
          "أنثى",
          "أنثى",
          "أنثى",
          "أنثى",
          "الكل",
          "ذكر",
          "ذكر",
          "الكل",
          "الكل",
          "الكل",
          "ذكر",
          "أنثى",
          "ذكر",
          "الكل",
          "الكل",
          "الكل",
          "الكل",
          "الكل",
          "أنثى",
          "أنثى",
          "أنثى",
          "أنثى",
          "الكل",
          "ذكر",
          "ذكر",
          "الكل",
          "أنثى",
          "الكل",
          "أنثى",
          "الكل",
          "الكل",
          "الكل",
          "الكل",
          "الكل",
          "الكل",
          "الكل",
          "ذكر",
          "ذكر",
          "الكل",
          "الكل",
          "الكل",
          "الكل",
          "الكل",
          "الكل",
          "الكل",
          "الكل",
          "الكل",
          "الكل",
          "أنثى",
          "ذكر",
          "ذكر",
          "الكل",
          "الكل",
          "الكل",
          "الكل",
          "الكل",
          "أنثى",
          "أنثى",
          "ذكر",
          "الكل",
          "ذكر",
          "أنثى",
          "ذكر",
          "الكل",
          "الكل",
          "الكل",
          "الكل",
          "الكل",
          "ذكر",
          "الكل",
          "أنثى",
          "الكل",
          "الكل",
          "الكل",
          "الكل",
          "ذكر",
          "أنثى",
          "أنثى",
          "أنثى",
          "أنثى",
          "أنثى",
          "الكل",
          "الكل",
          "الكل",
          "الكل",
          "الكل",
          "أنثى",
          "ذكر",
          "ذكر",
          "ذكر",
          "الكل",
          "الكل",
          "الكل",
          "ذكر",
          "الكل",
          "ذكر",
          "ذكر",
          "ذكر",
          "الكل",
          "الكل",
          "أنثى",
          "ذكر",
          "ذكر",
          "ذكر",
          "أنثى",
          "أنثى",
          "أنثى",
          "الكل",
          "الكل",
          "ذكر",
          "الكل",
          "أنثى",
          "أنثى",
          "ذكر",
          "الكل",
          "أنثى",
          "أنثى",
          "ذكر",
          "ذكر",
          "أنثى",
          "ذكر",
          "ذكر",
          "ذكر",
          "أنثى",
          "ذكر",
          "الكل",
          "أنثى",
          "الكل",
          "أنثى",
          "الكل",
          "الكل",
          "أنثى",
          "الكل",
          "الكل",
          "الكل",
          "الكل",
          "الكل",
          "الكل",
          "ذكر",
          "أنثى",
          "ذكر",
          "ذكر",
          "ذكر",
          "أنثى",
          "ذكر",
          "الكل",
          "ذكر",
          "ذكر",
          "الكل",
          "ذكر",
          "ذكر",
          "الكل",
          "أنثى",
          "أنثى",
          "الكل",
          "الكل",
          "ذكر",
          "أنثى",
          "ذكر",
          "ذكر",
          "الكل",
          "أنثى",
          "الكل",
          "الكل",
          "أنثى",
          "الكل",
          "الكل",
          "الكل",
          "الكل",
          "الكل",
          "الكل",
          "الكل",
          "أنثى",
          "أنثى",
          "أنثى",
          "أنثى",
          "ذكر",
          "أنثى",
          "أنثى",
          "ذكر",
          "الكل",
          "أنثى",
          "أنثى",
          "أنثى",
          "ذكر",
          "ذكر",
          "الكل",
          "أنثى",
          "ذكر",
          "أنثى",
          "الكل",
          "أنثى",
          "أنثى",
          "أنثى",
          "أنثى",
          "ذكر",
          "ذكر",
          "الكل",
          "الكل",
          "ذكر",
          "الكل",
          "ذكر",
          "الكل",
          "ذكر",
          "الكل",
          "أنثى",
          "الكل",
          "ذكر",
          "ذكر",
          "ذكر",
          "ذكر",
          "الكل",
          "ذكر",
          "ذكر",
          "ذكر",
          "ذكر",
          "الكل",
          "أنثى",
          "أنثى",
          "الكل",
          "الكل",
          "أنثى",
          "الكل",
          "ذكر",
          "ذكر",
          "أنثى",
          "الكل",
          "الكل",
          "الكل",
          "الكل",
          "ذكر",
          "الكل",
          "ذكر",
          "ذكر",
          "الكل",
          "ذكر",
          "أنثى",
          "أنثى",
          "الكل",
          "الكل",
          "الكل",
          "الكل",
          "ذكر",
          "أنثى",
          "ذكر",
          "أنثى",
          "ذكر",
          "أنثى",
          "أنثى",
          "أنثى",
          "أنثى",
          "أنثى",
          "ذكر",
          "ذكر",
          "الكل",
          "أنثى",
          "الكل",
          "ذكر",
          "أنثى",
          "أنثى",
          "الكل",
          "ذكر",
          "الكل",
          "الكل",
          "ذكر",
          "الكل",
          "الكل",
          "الكل",
          "ذكر",
          "أنثى",
          "أنثى",
          "الكل",
          "الكل",
          "أنثى",
          "أنثى",
          "ذكر",
          "الكل",
          "الكل",
          "الكل",
          "أنثى",
          "الكل",
          "أنثى",
          "ذكر",
          "ذكر",
          "أنثى",
          "أنثى",
          "ذكر",
          "ذكر",
          "أنثى",
          "أنثى",
          "ذكر",
          "ذكر",
          "الكل",
          "أنثى",
          "الكل",
          "أنثى",
          "أنثى",
          "الكل",
          "أنثى",
          "ذكر",
          "الكل",
          "الكل",
          "ذكر",
          "الكل",
          "الكل",
          "ذكر",
          "ذكر",
          "أنثى",
          "الكل",
          "ذكر",
          "ذكر",
          "أنثى",
          "الكل",
          "ذكر",
          "الكل",
          "ذكر",
          "أنثى",
          "الكل",
          "ذكر",
          "ذكر",
          "الكل",
          "الكل",
          "الكل",
          "ذكر",
          "ذكر",
          "الكل",
          "أنثى",
          "أنثى",
          "ذكر",
          "الكل",
          "ذكر",
          "الكل",
          "الكل",
          "أنثى",
          "أنثى",
          "أنثى",
          "الكل",
          "ذكر",
          "ذكر",
          "أنثى",
          "أنثى",
          "أنثى",
          "أنثى",
          "الكل",
          "الكل",
          "الكل",
          "ذكر",
          "الكل",
          "أنثى",
          "ذكر",
          "أنثى",
          "أنثى",
          "أنثى",
          "الكل",
          "ذكر",
          "ذكر",
          "الكل",
          "ذكر",
          "الكل",
          "الكل",
          "ذكر",
          "ذكر",
          "ذكر",
          "الكل",
          "أنثى",
          "الكل",
          "أنثى",
          "الكل",
          "الكل",
          "أنثى",
          "أنثى",
          "الكل",
          "أنثى",
          "أنثى",
          "ذكر",
          "أنثى",
          "ذكر",
          "أنثى",
          "أنثى",
          "ذكر",
          "الكل",
          "ذكر",
          "أنثى",
          "الكل",
          "الكل",
          "أنثى",
          "ذكر",
          "ذكر",
          "ذكر",
          "ذكر",
          "الكل",
          "الكل",
          "أنثى",
          "أنثى",
          "أنثى",
          "ذكر",
          "الكل",
          "الكل",
          "ذكر",
          "أنثى",
          "أنثى",
          "ذكر",
          "ذكر",
          "أنثى",
          "ذكر",
          "ذكر",
          "ذكر",
          "ذكر",
          "ذكر",
          "الكل",
          "الكل",
          "الكل",
          "أنثى",
          "ذكر",
          "ذكر",
          "أنثى",
          "ذكر",
          "أنثى",
          "أنثى",
          "الكل",
          "أنثى",
          "الكل",
          "الكل",
          "ذكر",
          "ذكر",
          "ذكر",
          "الكل",
          "الكل",
          "الكل",
          "أنثى",
          "ذكر",
          "أنثى",
          "الكل",
          "الكل",
          "أنثى",
          "ذكر",
          "ذكر",
          "أنثى",
          "أنثى",
          "الكل",
          "ذكر",
          "أنثى",
          "ذكر",
          "ذكر",
          "الكل",
          "الكل",
          "الكل",
          "الكل",
          "أنثى",
          "أنثى",
          "ذكر",
          "ذكر",
          "أنثى",
          "ذكر",
          "أنثى",
          "أنثى",
          "أنثى",
          "أنثى",
          "ذكر",
          "أنثى",
          "الكل",
          "أنثى",
          "الكل",
          "الكل",
          "الكل",
          "أنثى",
          "الكل",
          "أنثى",
          "أنثى",
          "الكل",
          "ذكر",
          "أنثى",
          "أنثى",
          "ذكر",
          "ذكر",
          "ذكر",
          "الكل",
          "ذكر",
          "الكل",
          "الكل",
          "الكل",
          "أنثى",
          "أنثى",
          "أنثى",
          "ذكر",
          "الكل",
          "أنثى",
          "الكل",
          "الكل",
          "ذكر",
          "الكل",
          "أنثى",
          "أنثى",
          "الكل",
          "أنثى",
          "أنثى",
          "الكل",
          "أنثى",
          "أنثى",
          "الكل",
          "أنثى",
          "الكل",
          "أنثى",
          "ذكر",
          "ذكر",
          "الكل",
          "الكل",
          "الكل",
          "ذكر",
          "ذكر",
          "ذكر",
          "ذكر",
          "ذكر",
          "ذكر",
          "ذكر",
          "ذكر",
          "ذكر",
          "ذكر",
          "ذكر",
          "ذكر",
          "الكل",
          "الكل",
          "الكل",
          "الكل",
          "ذكر",
          "الكل",
          "أنثى",
          "ذكر",
          "الكل",
          "أنثى",
          "أنثى",
          "أنثى",
          "الكل",
          "ذكر",
          "الكل",
          "الكل",
          "ذكر",
          "الكل",
          "ذكر",
          "ذكر",
          "ذكر",
          "أنثى",
          "الكل",
          "ذكر",
          "ذكر",
          "أنثى",
          "ذكر",
          "الكل",
          "ذكر",
          "أنثى",
          "الكل",
          "ذكر",
          "الكل",
          "الكل",
          "الكل",
          "الكل",
          "ذكر",
          "الكل",
          "الكل",
          "ذكر",
          "ذكر",
          "الكل",
          "الكل",
          "أنثى",
          "ذكر",
          "ذكر",
          "ذكر",
          "الكل",
          "ذكر",
          "الكل",
          "الكل",
          "ذكر",
          "الكل",
          "أنثى",
          "الكل",
          "الكل",
          "ذكر",
          "أنثى",
          "أنثى",
          "الكل",
          "ذكر",
          "ذكر",
          "ذكر",
          "الكل",
          "ذكر",
          "الكل",
          "ذكر",
          "أنثى",
          "ذكر",
          "ذكر",
          "ذكر",
          "أنثى",
          "الكل",
          "أنثى",
          "أنثى",
          "ذكر",
          "الكل",
          "أنثى",
          "أنثى",
          "أنثى",
          "ذكر",
          "أنثى",
          "الكل",
          "الكل",
          "ذكر",
          "أنثى",
          "أنثى",
          "أنثى",
          "ذكر",
          "الكل",
          "أنثى",
          "الكل",
          "الكل",
          "ذكر",
          "الكل",
          "الكل",
          "الكل",
          "أنثى",
          "أنثى",
          "الكل",
          "الكل",
          "الكل",
          "الكل",
          "ذكر",
          "الكل",
          "ذكر",
          "ذكر",
          "الكل",
          "الكل",
          "الكل",
          "الكل",
          "الكل",
          "الكل",
          "أنثى",
          "أنثى",
          "أنثى",
          "الكل",
          "الكل",
          "ذكر",
          "أنثى",
          "الكل",
          "أنثى",
          "الكل",
          "ذكر",
          "الكل",
          "ذكر",
          "أنثى",
          "ذكر",
          "ذكر",
          "ذكر",
          "ذكر",
          "الكل",
          "ذكر",
          "ذكر",
          "ذكر",
          "أنثى",
          "أنثى",
          "ذكر",
          "الكل",
          "الكل",
          "أنثى",
          "الكل",
          "الكل",
          "الكل",
          "الكل",
          "الكل",
          "أنثى",
          "الكل",
          "الكل",
          "الكل",
          "ذكر",
          "الكل",
          "ذكر",
          "أنثى",
          "الكل",
          "أنثى",
          "ذكر",
          "ذكر",
          "الكل",
          "ذكر",
          "أنثى",
          "أنثى",
          "أنثى",
          "الكل",
          "ذكر",
          "الكل",
          "ذكر",
          "ذكر",
          "الكل",
          "ذكر",
          "ذكر",
          "ذكر",
          "الكل",
          "ذكر",
          "أنثى",
          "الكل",
          "الكل",
          "ذكر",
          "ذكر",
          "أنثى",
          "أنثى",
          "الكل",
          "أنثى",
          "الكل",
          "الكل",
          "الكل",
          "الكل",
          "الكل",
          "الكل",
          "أنثى",
          "الكل",
          "الكل",
          "الكل",
          "الكل",
          "ذكر",
          "الكل",
          "الكل",
          "الكل",
          "الكل",
          "أنثى",
          "أنثى",
          "الكل",
          "أنثى",
          "أنثى",
          "ذكر",
          "ذكر",
          "ذكر",
          "أنثى",
          "أنثى",
          "الكل",
          "الكل",
          "الكل",
          "الكل",
          "أنثى",
          "الكل",
          "أنثى",
          "الكل",
          "الكل",
          "أنثى",
          "الكل",
          "الكل",
          "الكل",
          "الكل",
          "ذكر",
          "أنثى",
          "ذكر",
          "أنثى",
          "أنثى",
          "الكل",
          "أنثى",
          "أنثى",
          "الكل",
          "الكل",
          "أنثى",
          "الكل",
          "الكل",
          "الكل",
          "أنثى",
          "أنثى",
          "ذكر",
          "أنثى",
          "ذكر",
          "ذكر",
          "ذكر",
          "ذكر",
          "الكل",
          "الكل",
          "أنثى",
          "الكل",
          "أنثى",
          "الكل",
          "أنثى",
          "الكل",
          "ذكر",
          "الكل",
          "الكل",
          "الكل",
          "الكل",
          "الكل",
          "الكل",
          "الكل",
          "ذكر",
          "ذكر",
          "ذكر",
          "أنثى",
          "ذكر",
          "أنثى",
          "الكل",
          "أنثى",
          "ذكر",
          "الكل",
          "ذكر",
          "الكل",
          "الكل",
          "أنثى",
          "أنثى",
          "أنثى",
          "ذكر",
          "ذكر",
          "ذكر",
          "ذكر",
          "أنثى",
          "ذكر",
          "الكل",
          "أنثى",
          "الكل",
          "أنثى",
          "ذكر",
          "ذكر",
          "ذكر",
          "ذكر",
          "الكل",
          "ذكر",
          "ذكر",
          "أنثى",
          "الكل",
          "الكل",
          "الكل",
          "الكل",
          "الكل",
          "أنثى",
          "أنثى",
          "ذكر",
          "أنثى",
          "أنثى",
          "الكل",
          "ذكر",
          "أنثى",
          "أنثى",
          "ذكر",
          "أنثى",
          "أنثى",
          "ذكر",
          "أنثى",
          "الكل",
          "أنثى",
          "الكل",
          "الكل",
          "الكل",
          "أنثى",
          "الكل",
          "الكل",
          "أنثى",
          "الكل",
          "ذكر",
          "الكل",
          "ذكر",
          "أنثى",
          "أنثى",
          "الكل",
          "الكل",
          "الكل",
          "الكل",
          "الكل",
          "أنثى",
          "ذكر",
          "ذكر",
          "ذكر",
          "أنثى",
          "الكل",
          "الكل",
          "ذكر"
         ],
         "legendgroup": "",
         "name": "",
         "showlegend": true,
         "type": "pie"
        }
       ],
       "layout": {
        "autosize": true,
        "legend": {
         "tracegroupgap": 0
        },
        "template": {
         "data": {
          "bar": [
           {
            "error_x": {
             "color": "#2a3f5f"
            },
            "error_y": {
             "color": "#2a3f5f"
            },
            "marker": {
             "line": {
              "color": "#E5ECF6",
              "width": 0.5
             },
             "pattern": {
              "fillmode": "overlay",
              "size": 10,
              "solidity": 0.2
             }
            },
            "type": "bar"
           }
          ],
          "barpolar": [
           {
            "marker": {
             "line": {
              "color": "#E5ECF6",
              "width": 0.5
             },
             "pattern": {
              "fillmode": "overlay",
              "size": 10,
              "solidity": 0.2
             }
            },
            "type": "barpolar"
           }
          ],
          "carpet": [
           {
            "aaxis": {
             "endlinecolor": "#2a3f5f",
             "gridcolor": "white",
             "linecolor": "white",
             "minorgridcolor": "white",
             "startlinecolor": "#2a3f5f"
            },
            "baxis": {
             "endlinecolor": "#2a3f5f",
             "gridcolor": "white",
             "linecolor": "white",
             "minorgridcolor": "white",
             "startlinecolor": "#2a3f5f"
            },
            "type": "carpet"
           }
          ],
          "choropleth": [
           {
            "colorbar": {
             "outlinewidth": 0,
             "ticks": ""
            },
            "type": "choropleth"
           }
          ],
          "contour": [
           {
            "colorbar": {
             "outlinewidth": 0,
             "ticks": ""
            },
            "colorscale": [
             [
              0,
              "#0d0887"
             ],
             [
              0.1111111111111111,
              "#46039f"
             ],
             [
              0.2222222222222222,
              "#7201a8"
             ],
             [
              0.3333333333333333,
              "#9c179e"
             ],
             [
              0.4444444444444444,
              "#bd3786"
             ],
             [
              0.5555555555555556,
              "#d8576b"
             ],
             [
              0.6666666666666666,
              "#ed7953"
             ],
             [
              0.7777777777777778,
              "#fb9f3a"
             ],
             [
              0.8888888888888888,
              "#fdca26"
             ],
             [
              1,
              "#f0f921"
             ]
            ],
            "type": "contour"
           }
          ],
          "contourcarpet": [
           {
            "colorbar": {
             "outlinewidth": 0,
             "ticks": ""
            },
            "type": "contourcarpet"
           }
          ],
          "heatmap": [
           {
            "colorbar": {
             "outlinewidth": 0,
             "ticks": ""
            },
            "colorscale": [
             [
              0,
              "#0d0887"
             ],
             [
              0.1111111111111111,
              "#46039f"
             ],
             [
              0.2222222222222222,
              "#7201a8"
             ],
             [
              0.3333333333333333,
              "#9c179e"
             ],
             [
              0.4444444444444444,
              "#bd3786"
             ],
             [
              0.5555555555555556,
              "#d8576b"
             ],
             [
              0.6666666666666666,
              "#ed7953"
             ],
             [
              0.7777777777777778,
              "#fb9f3a"
             ],
             [
              0.8888888888888888,
              "#fdca26"
             ],
             [
              1,
              "#f0f921"
             ]
            ],
            "type": "heatmap"
           }
          ],
          "heatmapgl": [
           {
            "colorbar": {
             "outlinewidth": 0,
             "ticks": ""
            },
            "colorscale": [
             [
              0,
              "#0d0887"
             ],
             [
              0.1111111111111111,
              "#46039f"
             ],
             [
              0.2222222222222222,
              "#7201a8"
             ],
             [
              0.3333333333333333,
              "#9c179e"
             ],
             [
              0.4444444444444444,
              "#bd3786"
             ],
             [
              0.5555555555555556,
              "#d8576b"
             ],
             [
              0.6666666666666666,
              "#ed7953"
             ],
             [
              0.7777777777777778,
              "#fb9f3a"
             ],
             [
              0.8888888888888888,
              "#fdca26"
             ],
             [
              1,
              "#f0f921"
             ]
            ],
            "type": "heatmapgl"
           }
          ],
          "histogram": [
           {
            "marker": {
             "pattern": {
              "fillmode": "overlay",
              "size": 10,
              "solidity": 0.2
             }
            },
            "type": "histogram"
           }
          ],
          "histogram2d": [
           {
            "colorbar": {
             "outlinewidth": 0,
             "ticks": ""
            },
            "colorscale": [
             [
              0,
              "#0d0887"
             ],
             [
              0.1111111111111111,
              "#46039f"
             ],
             [
              0.2222222222222222,
              "#7201a8"
             ],
             [
              0.3333333333333333,
              "#9c179e"
             ],
             [
              0.4444444444444444,
              "#bd3786"
             ],
             [
              0.5555555555555556,
              "#d8576b"
             ],
             [
              0.6666666666666666,
              "#ed7953"
             ],
             [
              0.7777777777777778,
              "#fb9f3a"
             ],
             [
              0.8888888888888888,
              "#fdca26"
             ],
             [
              1,
              "#f0f921"
             ]
            ],
            "type": "histogram2d"
           }
          ],
          "histogram2dcontour": [
           {
            "colorbar": {
             "outlinewidth": 0,
             "ticks": ""
            },
            "colorscale": [
             [
              0,
              "#0d0887"
             ],
             [
              0.1111111111111111,
              "#46039f"
             ],
             [
              0.2222222222222222,
              "#7201a8"
             ],
             [
              0.3333333333333333,
              "#9c179e"
             ],
             [
              0.4444444444444444,
              "#bd3786"
             ],
             [
              0.5555555555555556,
              "#d8576b"
             ],
             [
              0.6666666666666666,
              "#ed7953"
             ],
             [
              0.7777777777777778,
              "#fb9f3a"
             ],
             [
              0.8888888888888888,
              "#fdca26"
             ],
             [
              1,
              "#f0f921"
             ]
            ],
            "type": "histogram2dcontour"
           }
          ],
          "mesh3d": [
           {
            "colorbar": {
             "outlinewidth": 0,
             "ticks": ""
            },
            "type": "mesh3d"
           }
          ],
          "parcoords": [
           {
            "line": {
             "colorbar": {
              "outlinewidth": 0,
              "ticks": ""
             }
            },
            "type": "parcoords"
           }
          ],
          "pie": [
           {
            "automargin": true,
            "type": "pie"
           }
          ],
          "scatter": [
           {
            "fillpattern": {
             "fillmode": "overlay",
             "size": 10,
             "solidity": 0.2
            },
            "type": "scatter"
           }
          ],
          "scatter3d": [
           {
            "line": {
             "colorbar": {
              "outlinewidth": 0,
              "ticks": ""
             }
            },
            "marker": {
             "colorbar": {
              "outlinewidth": 0,
              "ticks": ""
             }
            },
            "type": "scatter3d"
           }
          ],
          "scattercarpet": [
           {
            "marker": {
             "colorbar": {
              "outlinewidth": 0,
              "ticks": ""
             }
            },
            "type": "scattercarpet"
           }
          ],
          "scattergeo": [
           {
            "marker": {
             "colorbar": {
              "outlinewidth": 0,
              "ticks": ""
             }
            },
            "type": "scattergeo"
           }
          ],
          "scattergl": [
           {
            "marker": {
             "colorbar": {
              "outlinewidth": 0,
              "ticks": ""
             }
            },
            "type": "scattergl"
           }
          ],
          "scattermapbox": [
           {
            "marker": {
             "colorbar": {
              "outlinewidth": 0,
              "ticks": ""
             }
            },
            "type": "scattermapbox"
           }
          ],
          "scatterpolar": [
           {
            "marker": {
             "colorbar": {
              "outlinewidth": 0,
              "ticks": ""
             }
            },
            "type": "scatterpolar"
           }
          ],
          "scatterpolargl": [
           {
            "marker": {
             "colorbar": {
              "outlinewidth": 0,
              "ticks": ""
             }
            },
            "type": "scatterpolargl"
           }
          ],
          "scatterternary": [
           {
            "marker": {
             "colorbar": {
              "outlinewidth": 0,
              "ticks": ""
             }
            },
            "type": "scatterternary"
           }
          ],
          "surface": [
           {
            "colorbar": {
             "outlinewidth": 0,
             "ticks": ""
            },
            "colorscale": [
             [
              0,
              "#0d0887"
             ],
             [
              0.1111111111111111,
              "#46039f"
             ],
             [
              0.2222222222222222,
              "#7201a8"
             ],
             [
              0.3333333333333333,
              "#9c179e"
             ],
             [
              0.4444444444444444,
              "#bd3786"
             ],
             [
              0.5555555555555556,
              "#d8576b"
             ],
             [
              0.6666666666666666,
              "#ed7953"
             ],
             [
              0.7777777777777778,
              "#fb9f3a"
             ],
             [
              0.8888888888888888,
              "#fdca26"
             ],
             [
              1,
              "#f0f921"
             ]
            ],
            "type": "surface"
           }
          ],
          "table": [
           {
            "cells": {
             "fill": {
              "color": "#EBF0F8"
             },
             "line": {
              "color": "white"
             }
            },
            "header": {
             "fill": {
              "color": "#C8D4E3"
             },
             "line": {
              "color": "white"
             }
            },
            "type": "table"
           }
          ]
         },
         "layout": {
          "annotationdefaults": {
           "arrowcolor": "#2a3f5f",
           "arrowhead": 0,
           "arrowwidth": 1
          },
          "autotypenumbers": "strict",
          "coloraxis": {
           "colorbar": {
            "outlinewidth": 0,
            "ticks": ""
           }
          },
          "colorscale": {
           "diverging": [
            [
             0,
             "#8e0152"
            ],
            [
             0.1,
             "#c51b7d"
            ],
            [
             0.2,
             "#de77ae"
            ],
            [
             0.3,
             "#f1b6da"
            ],
            [
             0.4,
             "#fde0ef"
            ],
            [
             0.5,
             "#f7f7f7"
            ],
            [
             0.6,
             "#e6f5d0"
            ],
            [
             0.7,
             "#b8e186"
            ],
            [
             0.8,
             "#7fbc41"
            ],
            [
             0.9,
             "#4d9221"
            ],
            [
             1,
             "#276419"
            ]
           ],
           "sequential": [
            [
             0,
             "#0d0887"
            ],
            [
             0.1111111111111111,
             "#46039f"
            ],
            [
             0.2222222222222222,
             "#7201a8"
            ],
            [
             0.3333333333333333,
             "#9c179e"
            ],
            [
             0.4444444444444444,
             "#bd3786"
            ],
            [
             0.5555555555555556,
             "#d8576b"
            ],
            [
             0.6666666666666666,
             "#ed7953"
            ],
            [
             0.7777777777777778,
             "#fb9f3a"
            ],
            [
             0.8888888888888888,
             "#fdca26"
            ],
            [
             1,
             "#f0f921"
            ]
           ],
           "sequentialminus": [
            [
             0,
             "#0d0887"
            ],
            [
             0.1111111111111111,
             "#46039f"
            ],
            [
             0.2222222222222222,
             "#7201a8"
            ],
            [
             0.3333333333333333,
             "#9c179e"
            ],
            [
             0.4444444444444444,
             "#bd3786"
            ],
            [
             0.5555555555555556,
             "#d8576b"
            ],
            [
             0.6666666666666666,
             "#ed7953"
            ],
            [
             0.7777777777777778,
             "#fb9f3a"
            ],
            [
             0.8888888888888888,
             "#fdca26"
            ],
            [
             1,
             "#f0f921"
            ]
           ]
          },
          "colorway": [
           "#636efa",
           "#EF553B",
           "#00cc96",
           "#ab63fa",
           "#FFA15A",
           "#19d3f3",
           "#FF6692",
           "#B6E880",
           "#FF97FF",
           "#FECB52"
          ],
          "font": {
           "color": "#2a3f5f"
          },
          "geo": {
           "bgcolor": "white",
           "lakecolor": "white",
           "landcolor": "#E5ECF6",
           "showlakes": true,
           "showland": true,
           "subunitcolor": "white"
          },
          "hoverlabel": {
           "align": "left"
          },
          "hovermode": "closest",
          "mapbox": {
           "style": "light"
          },
          "paper_bgcolor": "white",
          "plot_bgcolor": "#E5ECF6",
          "polar": {
           "angularaxis": {
            "gridcolor": "white",
            "linecolor": "white",
            "ticks": ""
           },
           "bgcolor": "#E5ECF6",
           "radialaxis": {
            "gridcolor": "white",
            "linecolor": "white",
            "ticks": ""
           }
          },
          "scene": {
           "xaxis": {
            "backgroundcolor": "#E5ECF6",
            "gridcolor": "white",
            "gridwidth": 2,
            "linecolor": "white",
            "showbackground": true,
            "ticks": "",
            "zerolinecolor": "white"
           },
           "yaxis": {
            "backgroundcolor": "#E5ECF6",
            "gridcolor": "white",
            "gridwidth": 2,
            "linecolor": "white",
            "showbackground": true,
            "ticks": "",
            "zerolinecolor": "white"
           },
           "zaxis": {
            "backgroundcolor": "#E5ECF6",
            "gridcolor": "white",
            "gridwidth": 2,
            "linecolor": "white",
            "showbackground": true,
            "ticks": "",
            "zerolinecolor": "white"
           }
          },
          "shapedefaults": {
           "line": {
            "color": "#2a3f5f"
           }
          },
          "ternary": {
           "aaxis": {
            "gridcolor": "white",
            "linecolor": "white",
            "ticks": ""
           },
           "baxis": {
            "gridcolor": "white",
            "linecolor": "white",
            "ticks": ""
           },
           "bgcolor": "#E5ECF6",
           "caxis": {
            "gridcolor": "white",
            "linecolor": "white",
            "ticks": ""
           }
          },
          "title": {
           "x": 0.05
          },
          "xaxis": {
           "automargin": true,
           "gridcolor": "white",
           "linecolor": "white",
           "ticks": "",
           "title": {
            "standoff": 15
           },
           "zerolinecolor": "white",
           "zerolinewidth": 2
          },
          "yaxis": {
           "automargin": true,
           "gridcolor": "white",
           "linecolor": "white",
           "ticks": "",
           "title": {
            "standoff": 15
           },
           "zerolinecolor": "white",
           "zerolinewidth": 2
          }
         }
        },
        "title": {
         "text": "نسب تحديد الجنس في الوظائف"
        }
       }
      },
      "image/png": "[encoded data removed]",
      "text/html": [
       "<div>                            <div id=\"902c5685-01bc-4395-b12d-cb3a57e18e52\" class=\"plotly-graph-div\" style=\"height:525px; width:100%;\"></div>            <script type=\"text/javascript\">                require([\"plotly\"], function(Plotly) {                    window.PLOTLYENV=window.PLOTLYENV || {};                                    if (document.getElementById(\"902c5685-01bc-4395-b12d-cb3a57e18e52\")) {                    Plotly.newPlot(                        \"902c5685-01bc-4395-b12d-cb3a57e18e52\",                        [{\"domain\":{\"x\":[0.0,1.0],\"y\":[0.0,1.0]},\"hovertemplate\":\"label=%{label}\\u003cextra\\u003e\\u003c\\u002fextra\\u003e\",\"labels\":[\"\\u0627\\u0644\\u0643\\u0644\",\"\\u0627\\u0644\\u0643\\u0644\",\"\\u0627\\u0644\\u0643\\u0644\",\"\\u0630\\u0643\\u0631\",\"\\u0627\\u0644\\u0643\\u0644\",\"\\u0627\\u0644\\u0643\\u0644\",\"\\u0623\\u0646\\u062b\\u0649\",\"\\u0623\\u0646\\u062b\\u0649\",\"\\u0623\\u0646\\u062b\\u0649\",\"\\u0623\\u0646\\u062b\\u0649\",\"\\u0627\\u0644\\u0643\\u0644\",\"\\u0627\\u0644\\u0643\\u0644\",\"\\u0627\\u0644\\u0643\\u0644\",\"\\u0623\\u0646\\u062b\\u0649\",\"\\u0630\\u0643\\u0631\",\"\\u0630\\u0643\\u0631\",\"\\u0630\\u0643\\u0631\",\"\\u0630\\u0643\\u0631\",\"\\u0623\\u0646\\u062b\\u0649\",\"\\u0623\\u0646\\u062b\\u0649\",\"\\u0623\\u0646\\u062b\\u0649\",\"\\u0630\\u0643\\u0631\",\"\\u0623\\u0646\\u062b\\u0649\",\"\\u0627\\u0644\\u0643\\u0644\",\"\\u0623\\u0646\\u062b\\u0649\",\"\\u0630\\u0643\\u0631\",\"\\u0623\\u0646\\u062b\\u0649\",\"\\u0623\\u0646\\u062b\\u0649\",\"\\u0630\\u0643\\u0631\",\"\\u0627\\u0644\\u0643\\u0644\",\"\\u0623\\u0646\\u062b\\u0649\",\"\\u0623\\u0646\\u062b\\u0649\",\"\\u0630\\u0643\\u0631\",\"\\u0630\\u0643\\u0631\",\"\\u0630\\u0643\\u0631\",\"\\u0630\\u0643\\u0631\",\"\\u0630\\u0643\\u0631\",\"\\u0630\\u0643\\u0631\",\"\\u0630\\u0643\\u0631\",\"\\u0627\\u0644\\u0643\\u0644\",\"\\u0627\\u0644\\u0643\\u0644\",\"\\u0623\\u0646\\u062b\\u0649\",\"\\u0627\\u0644\\u0643\\u0644\",\"\\u0627\\u0644\\u0643\\u0644\",\"\\u0627\\u0644\\u0643\\u0644\",\"\\u0627\\u0644\\u0643\\u0644\",\"\\u0630\\u0643\\u0631\",\"\\u0630\\u0643\\u0631\",\"\\u0623\\u0646\\u062b\\u0649\",\"\\u0623\\u0646\\u062b\\u0649\",\"\\u0627\\u0644\\u0643\\u0644\",\"\\u0627\\u0644\\u0643\\u0644\",\"\\u0627\\u0644\\u0643\\u0644\",\"\\u0623\\u0646\\u062b\\u0649\",\"\\u0630\\u0643\\u0631\",\"\\u0627\\u0644\\u0643\\u0644\",\"\\u0623\\u0646\\u062b\\u0649\",\"\\u0623\\u0646\\u062b\\u0649\",\"\\u0627\\u0644\\u0643\\u0644\",\"\\u0623\\u0646\\u062b\\u0649\",\"\\u0630\\u0643\\u0631\",\"\\u0627\\u0644\\u0643\\u0644\",\"\\u0627\\u0644\\u0643\\u0644\",\"\\u0630\\u0643\\u0631\",\"\\u0627\\u0644\\u0643\\u0644\",\"\\u0627\\u0644\\u0643\\u0644\",\"\\u0627\\u0644\\u0643\\u0644\",\"\\u0627\\u0644\\u0643\\u0644\",\"\\u0627\\u0644\\u0643\\u0644\",\"\\u0627\\u0644\\u0643\\u0644\",\"\\u0627\\u0644\\u0643\\u0644\",\"\\u0630\\u0643\\u0631\",\"\\u0630\\u0643\\u0631\",\"\\u0630\\u0643\\u0631\",\"\\u0630\\u0643\\u0631\",\"\\u0627\\u0644\\u0643\\u0644\",\"\\u0623\\u0646\\u062b\\u0649\",\"\\u0627\\u0644\\u0643\\u0644\",\"\\u0630\\u0643\\u0631\",\"\\u0623\\u0646\\u062b\\u0649\",\"\\u0630\\u0643\\u0631\",\"\\u0627\\u0644\\u0643\\u0644\",\"\\u0627\\u0644\\u0643\\u0644\",\"\\u0627\\u0644\\u0643\\u0644\",\"\\u0627\\u0644\\u0643\\u0644\",\"\\u0623\\u0646\\u062b\\u0649\",\"\\u0630\\u0643\\u0631\",\"\\u0630\\u0643\\u0631\",\"\\u0630\\u0643\\u0631\",\"\\u0630\\u0643\\u0631\",\"\\u0627\\u0644\\u0643\\u0644\",\"\\u0630\\u0643\\u0631\",\"\\u0627\\u0644\\u0643\\u0644\",\"\\u0627\\u0644\\u0643\\u0644\",\"\\u0630\\u0643\\u0631\",\"\\u0630\\u0643\\u0631\",\"\\u0627\\u0644\\u0643\\u0644\",\"\\u0630\\u0643\\u0631\",\"\\u0630\\u0643\\u0631\",\"\\u0630\\u0643\\u0631\",\"\\u0627\\u0644\\u0643\\u0644\",\"\\u0623\\u0646\\u062b\\u0649\",\"\\u0627\\u0644\\u0643\\u0644\",\"\\u0627\\u0644\\u0643\\u0644\",\"\\u0630\\u0643\\u0631\",\"\\u0627\\u0644\\u0643\\u0644\",\"\\u0630\\u0643\\u0631\",\"\\u0627\\u0644\\u0643\\u0644\",\"\\u0627\\u0644\\u0643\\u0644\",\"\\u0627\\u0644\\u0643\\u0644\",\"\\u0627\\u0644\\u0643\\u0644\",\"\\u0630\\u0643\\u0631\",\"\\u0627\\u0644\\u0643\\u0644\",\"\\u0627\\u0644\\u0643\\u0644\",\"\\u0627\\u0644\\u0643\\u0644\",\"\\u0627\\u0644\\u0643\\u0644\",\"\\u0623\\u0646\\u062b\\u0649\",\"\\u0630\\u0643\\u0631\",\"\\u0627\\u0644\\u0643\\u0644\",\"\\u0623\\u0646\\u062b\\u0649\",\"\\u0623\\u0646\\u062b\\u0649\",\"\\u0623\\u0646\\u062b\\u0649\",\"\\u0627\\u0644\\u0643\\u0644\",\"\\u0630\\u0643\\u0631\",\"\\u0630\\u0643\\u0631\",\"\\u0627\\u0644\\u0643\\u0644\",\"\\u0630\\u0643\\u0631\",\"\\u0623\\u0646\\u062b\\u0649\",\"\\u0623\\u0646\\u062b\\u0649\",\"\\u0623\\u0646\\u062b\\u0649\",\"\\u0630\\u0643\\u0631\",\"\\u0623\\u0646\\u062b\\u0649\",\"\\u0627\\u0644\\u0643\\u0644\",\"\\u0627\\u0644\\u0643\\u0644\",\"\\u0627\\u0644\\u0643\\u0644\",\"\\u0630\\u0643\\u0631\",\"\\u0627\\u0644\\u0643\\u0644\",\"\\u0627\\u0644\\u0643\\u0644\",\"\\u0623\\u0646\\u062b\\u0649\",\"\\u0630\\u0643\\u0631\",\"\\u0630\\u0643\\u0631\",\"\\u0630\\u0643\\u0631\",\"\\u0630\\u0643\\u0631\",\"\\u0630\\u0643\\u0631\",\"\\u0630\\u0643\\u0631\",\"\\u0630\\u0643\\u0631\",\"\\u0630\\u0643\\u0631\",\"\\u0623\\u0646\\u062b\\u0649\",\"\\u0627\\u0644\\u0643\\u0644\",\"\\u0623\\u0646\\u062b\\u0649\",\"\\u0627\\u0644\\u0643\\u0644\",\"\\u0627\\u0644\\u0643\\u0644\",\"\\u0630\\u0643\\u0631\",\"\\u0630\\u0643\\u0631\",\"\\u0623\\u0646\\u062b\\u0649\",\"\\u0630\\u0643\\u0631\",\"\\u0627\\u0644\\u0643\\u0644\",\"\\u0627\\u0644\\u0643\\u0644\",\"\\u0627\\u0644\\u0643\\u0644\",\"\\u0627\\u0644\\u0643\\u0644\",\"\\u0630\\u0643\\u0631\",\"\\u0630\\u0643\\u0631\",\"\\u0627\\u0644\\u0643\\u0644\",\"\\u0623\\u0646\\u062b\\u0649\",\"\\u0627\\u0644\\u0643\\u0644\",\"\\u0627\\u0644\\u0643\\u0644\",\"\\u0627\\u0644\\u0643\\u0644\",\"\\u0630\\u0643\\u0631\",\"\\u0623\\u0646\\u062b\\u0649\",\"\\u0627\\u0644\\u0643\\u0644\",\"\\u0627\\u0644\\u0643\\u0644\",\"\\u0627\\u0644\\u0643\\u0644\",\"\\u0627\\u0644\\u0643\\u0644\",\"\\u0627\\u0644\\u0643\\u0644\",\"\\u0630\\u0643\\u0631\",\"\\u0627\\u0644\\u0643\\u0644\",\"\\u0623\\u0646\\u062b\\u0649\",\"\\u0627\\u0644\\u0643\\u0644\",\"\\u0623\\u0646\\u062b\\u0649\",\"\\u0630\\u0643\\u0631\",\"\\u0630\\u0643\\u0631\",\"\\u0630\\u0643\\u0631\",\"\\u0630\\u0643\\u0631\",\"\\u0627\\u0644\\u0643\\u0644\",\"\\u0627\\u0644\\u0643\\u0644\",\"\\u0630\\u0643\\u0631\",\"\\u0627\\u0644\\u0643\\u0644\",\"\\u0623\\u0646\\u062b\\u0649\",\"\\u0627\\u0644\\u0643\\u0644\",\"\\u0627\\u0644\\u0643\\u0644\",\"\\u0630\\u0643\\u0631\",\"\\u0623\\u0646\\u062b\\u0649\",\"\\u0630\\u0643\\u0631\",\"\\u0630\\u0643\\u0631\",\"\\u0627\\u0644\\u0643\\u0644\",\"\\u0627\\u0644\\u0643\\u0644\",\"\\u0623\\u0646\\u062b\\u0649\",\"\\u0630\\u0643\\u0631\",\"\\u0630\\u0643\\u0631\",\"\\u0623\\u0646\\u062b\\u0649\",\"\\u0630\\u0643\\u0631\",\"\\u0627\\u0644\\u0643\\u0644\",\"\\u0630\\u0643\\u0631\",\"\\u0623\\u0646\\u062b\\u0649\",\"\\u0623\\u0646\\u062b\\u0649\",\"\\u0630\\u0643\\u0631\",\"\\u0630\\u0643\\u0631\",\"\\u0630\\u0643\\u0631\",\"\\u0630\\u0643\\u0631\",\"\\u0627\\u0644\\u0643\\u0644\",\"\\u0630\\u0643\\u0631\",\"\\u0630\\u0643\\u0631\",\"\\u0627\\u0644\\u0643\\u0644\",\"\\u0627\\u0644\\u0643\\u0644\",\"\\u0623\\u0646\\u062b\\u0649\",\"\\u0627\\u0644\\u0643\\u0644\",\"\\u0630\\u0643\\u0631\",\"\\u0627\\u0644\\u0643\\u0644\",\"\\u0627\\u0644\\u0643\\u0644\",\"\\u0623\\u0646\\u062b\\u0649\",\"\\u0630\\u0643\\u0631\",\"\\u0627\\u0644\\u0643\\u0644\",\"\\u0627\\u0644\\u0643\\u0644\",\"\\u0627\\u0644\\u0643\\u0644\",\"\\u0627\\u0644\\u0643\\u0644\",\"\\u0627\\u0644\\u0643\\u0644\",\"\\u0627\\u0644\\u0643\\u0644\",\"\\u0623\\u0646\\u062b\\u0649\",\"\\u0627\\u0644\\u0643\\u0644\",\"\\u0627\\u0644\\u0643\\u0644\",\"\\u0627\\u0644\\u0643\\u0644\",\"\\u0623\\u0646\\u062b\\u0649\",\"\\u0627\\u0644\\u0643\\u0644\",\"\\u0630\\u0643\\u0631\",\"\\u0623\\u0646\\u062b\\u0649\",\"\\u0630\\u0643\\u0631\",\"\\u0627\\u0644\\u0643\\u0644\",\"\\u0627\\u0644\\u0643\\u0644\",\"\\u0623\\u0646\\u062b\\u0649\",\"\\u0630\\u0643\\u0631\",\"\\u0627\\u0644\\u0643\\u0644\",\"\\u0623\\u0646\\u062b\\u0649\",\"\\u0630\\u0643\\u0631\",\"\\u0627\\u0644\\u0643\\u0644\",\"\\u0630\\u0643\\u0631\",\"\\u0630\\u0643\\u0631\",\"\\u0627\\u0644\\u0643\\u0644\",\"\\u0630\\u0643\\u0631\",\"\\u0630\\u0643\\u0631\",\"\\u0623\\u0646\\u062b\\u0649\",\"\\u0630\\u0643\\u0631\",\"\\u0627\\u0644\\u0643\\u0644\",\"\\u0627\\u0644\\u0643\\u0644\",\"\\u0627\\u0644\\u0643\\u0644\",\"\\u0623\\u0646\\u062b\\u0649\",\"\\u0630\\u0643\\u0631\",\"\\u0623\\u0646\\u062b\\u0649\",\"\\u0627\\u0644\\u0643\\u0644\",\"\\u0627\\u0644\\u0643\\u0644\",\"\\u0630\\u0643\\u0631\",\"\\u0623\\u0646\\u062b\\u0649\",\"\\u0623\\u0646\\u062b\\u0649\",\"\\u0623\\u0646\\u062b\\u0649\",\"\\u0630\\u0643\\u0631\",\"\\u0627\\u0644\\u0643\\u0644\",\"\\u0630\\u0643\\u0631\",\"\\u0630\\u0643\\u0631\",\"\\u0630\\u0643\\u0631\",\"\\u0630\\u0643\\u0631\",\"\\u0630\\u0643\\u0631\",\"\\u0630\\u0643\\u0631\",\"\\u0627\\u0644\\u0643\\u0644\",\"\\u0623\\u0646\\u062b\\u0649\",\"\\u0630\\u0643\\u0631\",\"\\u0630\\u0643\\u0631\",\"\\u0627\\u0644\\u0643\\u0644\",\"\\u0627\\u0644\\u0643\\u0644\",\"\\u0623\\u0646\\u062b\\u0649\",\"\\u0630\\u0643\\u0631\",\"\\u0623\\u0646\\u062b\\u0649\",\"\\u0623\\u0646\\u062b\\u0649\",\"\\u0630\\u0643\\u0631\",\"\\u0630\\u0643\\u0631\",\"\\u0627\\u0644\\u0643\\u0644\",\"\\u0630\\u0643\\u0631\",\"\\u0630\\u0643\\u0631\",\"\\u0623\\u0646\\u062b\\u0649\",\"\\u0630\\u0643\\u0631\",\"\\u0623\\u0646\\u062b\\u0649\",\"\\u0623\\u0646\\u062b\\u0649\",\"\\u0630\\u0643\\u0631\",\"\\u0627\\u0644\\u0643\\u0644\",\"\\u0630\\u0643\\u0631\",\"\\u0623\\u0646\\u062b\\u0649\",\"\\u0627\\u0644\\u0643\\u0644\",\"\\u0623\\u0646\\u062b\\u0649\",\"\\u0627\\u0644\\u0643\\u0644\",\"\\u0630\\u0643\\u0631\",\"\\u0623\\u0646\\u062b\\u0649\",\"\\u0630\\u0643\\u0631\",\"\\u0623\\u0646\\u062b\\u0649\",\"\\u0630\\u0643\\u0631\",\"\\u0630\\u0643\\u0631\",\"\\u0630\\u0643\\u0631\",\"\\u0630\\u0643\\u0631\",\"\\u0627\\u0644\\u0643\\u0644\",\"\\u0630\\u0643\\u0631\",\"\\u0630\\u0643\\u0631\",\"\\u0627\\u0644\\u0643\\u0644\",\"\\u0627\\u0644\\u0643\\u0644\",\"\\u0623\\u0646\\u062b\\u0649\",\"\\u0623\\u0646\\u062b\\u0649\",\"\\u0627\\u0644\\u0643\\u0644\",\"\\u0630\\u0643\\u0631\",\"\\u0627\\u0644\\u0643\\u0644\",\"\\u0627\\u0644\\u0643\\u0644\",\"\\u0627\\u0644\\u0643\\u0644\",\"\\u0627\\u0644\\u0643\\u0644\",\"\\u0623\\u0646\\u062b\\u0649\",\"\\u0623\\u0646\\u062b\\u0649\",\"\\u0623\\u0646\\u062b\\u0649\",\"\\u0630\\u0643\\u0631\",\"\\u0630\\u0643\\u0631\",\"\\u0627\\u0644\\u0643\\u0644\",\"\\u0623\\u0646\\u062b\\u0649\",\"\\u0627\\u0644\\u0643\\u0644\",\"\\u0623\\u0646\\u062b\\u0649\",\"\\u0623\\u0646\\u062b\\u0649\",\"\\u0630\\u0643\\u0631\",\"\\u0630\\u0643\\u0631\",\"\\u0623\\u0646\\u062b\\u0649\",\"\\u0623\\u0646\\u062b\\u0649\",\"\\u0623\\u0646\\u062b\\u0649\",\"\\u0623\\u0646\\u062b\\u0649\",\"\\u0630\\u0643\\u0631\",\"\\u0627\\u0644\\u0643\\u0644\",\"\\u0623\\u0646\\u062b\\u0649\",\"\\u0630\\u0643\\u0631\",\"\\u0623\\u0646\\u062b\\u0649\",\"\\u0627\\u0644\\u0643\\u0644\",\"\\u0630\\u0643\\u0631\",\"\\u0627\\u0644\\u0643\\u0644\",\"\\u0623\\u0646\\u062b\\u0649\",\"\\u0630\\u0643\\u0631\",\"\\u0623\\u0646\\u062b\\u0649\",\"\\u0627\\u0644\\u0643\\u0644\",\"\\u0627\\u0644\\u0643\\u0644\",\"\\u0627\\u0644\\u0643\\u0644\",\"\\u0627\\u0644\\u0643\\u0644\",\"\\u0630\\u0643\\u0631\",\"\\u0630\\u0643\\u0631\",\"\\u0630\\u0643\\u0631\",\"\\u0630\\u0643\\u0631\",\"\\u0630\\u0643\\u0631\",\"\\u0627\\u0644\\u0643\\u0644\",\"\\u0630\\u0643\\u0631\",\"\\u0627\\u0644\\u0643\\u0644\",\"\\u0630\\u0643\\u0631\",\"\\u0623\\u0646\\u062b\\u0649\",\"\\u0623\\u0646\\u062b\\u0649\",\"\\u0623\\u0646\\u062b\\u0649\",\"\\u0627\\u0644\\u0643\\u0644\",\"\\u0623\\u0646\\u062b\\u0649\",\"\\u0627\\u0644\\u0643\\u0644\",\"\\u0623\\u0646\\u062b\\u0649\",\"\\u0627\\u0644\\u0643\\u0644\",\"\\u0627\\u0644\\u0643\\u0644\",\"\\u0627\\u0644\\u0643\\u0644\",\"\\u0630\\u0643\\u0631\",\"\\u0630\\u0643\\u0631\",\"\\u0630\\u0643\\u0631\",\"\\u0627\\u0644\\u0643\\u0644\",\"\\u0623\\u0646\\u062b\\u0649\",\"\\u0630\\u0643\\u0631\",\"\\u0630\\u0643\\u0631\",\"\\u0630\\u0643\\u0631\",\"\\u0630\\u0643\\u0631\",\"\\u0630\\u0643\\u0631\",\"\\u0630\\u0643\\u0631\",\"\\u0630\\u0643\\u0631\",\"\\u0630\\u0643\\u0631\",\"\\u0627\\u0644\\u0643\\u0644\",\"\\u0627\\u0644\\u0643\\u0644\",\"\\u0627\\u0644\\u0643\\u0644\",\"\\u0627\\u0644\\u0643\\u0644\",\"\\u0623\\u0646\\u062b\\u0649\",\"\\u0630\\u0643\\u0631\",\"\\u0623\\u0646\\u062b\\u0649\",\"\\u0630\\u0643\\u0631\",\"\\u0623\\u0646\\u062b\\u0649\",\"\\u0623\\u0646\\u062b\\u0649\",\"\\u0623\\u0646\\u062b\\u0649\",\"\\u0630\\u0643\\u0631\",\"\\u0627\\u0644\\u0643\\u0644\",\"\\u0630\\u0643\\u0631\",\"\\u0623\\u0646\\u062b\\u0649\",\"\\u0630\\u0643\\u0631\",\"\\u0623\\u0646\\u062b\\u0649\",\"\\u0627\\u0644\\u0643\\u0644\",\"\\u0630\\u0643\\u0631\",\"\\u0630\\u0643\\u0631\",\"\\u0623\\u0646\\u062b\\u0649\",\"\\u0627\\u0644\\u0643\\u0644\",\"\\u0623\\u0646\\u062b\\u0649\",\"\\u0630\\u0643\\u0631\",\"\\u0627\\u0644\\u0643\\u0644\",\"\\u0627\\u0644\\u0643\\u0644\",\"\\u0627\\u0644\\u0643\\u0644\",\"\\u0630\\u0643\\u0631\",\"\\u0627\\u0644\\u0643\\u0644\",\"\\u0627\\u0644\\u0643\\u0644\",\"\\u0630\\u0643\\u0631\",\"\\u0623\\u0646\\u062b\\u0649\",\"\\u0623\\u0646\\u062b\\u0649\",\"\\u0623\\u0646\\u062b\\u0649\",\"\\u0630\\u0643\\u0631\",\"\\u0630\\u0643\\u0631\",\"\\u0630\\u0643\\u0631\",\"\\u0623\\u0646\\u062b\\u0649\",\"\\u0627\\u0644\\u0643\\u0644\",\"\\u0627\\u0644\\u0643\\u0644\",\"\\u0630\\u0643\\u0631\",\"\\u0630\\u0643\\u0631\",\"\\u0630\\u0643\\u0631\",\"\\u0630\\u0643\\u0631\",\"\\u0630\\u0643\\u0631\",\"\\u0630\\u0643\\u0631\",\"\\u0627\\u0644\\u0643\\u0644\",\"\\u0627\\u0644\\u0643\\u0644\",\"\\u0630\\u0643\\u0631\",\"\\u0627\\u0644\\u0643\\u0644\",\"\\u0627\\u0644\\u0643\\u0644\",\"\\u0627\\u0644\\u0643\\u0644\",\"\\u0627\\u0644\\u0643\\u0644\",\"\\u0630\\u0643\\u0631\",\"\\u0630\\u0643\\u0631\",\"\\u0630\\u0643\\u0631\",\"\\u0627\\u0644\\u0643\\u0644\",\"\\u0630\\u0643\\u0631\",\"\\u0623\\u0646\\u062b\\u0649\",\"\\u0630\\u0643\\u0631\",\"\\u0627\\u0644\\u0643\\u0644\",\"\\u0623\\u0646\\u062b\\u0649\",\"\\u0627\\u0644\\u0643\\u0644\",\"\\u0623\\u0646\\u062b\\u0649\",\"\\u0627\\u0644\\u0643\\u0644\",\"\\u0623\\u0646\\u062b\\u0649\",\"\\u0623\\u0646\\u062b\\u0649\",\"\\u0623\\u0646\\u062b\\u0649\",\"\\u0630\\u0643\\u0631\",\"\\u0623\\u0646\\u062b\\u0649\",\"\\u0627\\u0644\\u0643\\u0644\",\"\\u0623\\u0646\\u062b\\u0649\",\"\\u0623\\u0646\\u062b\\u0649\",\"\\u0630\\u0643\\u0631\",\"\\u0627\\u0644\\u0643\\u0644\",\"\\u0627\\u0644\\u0643\\u0644\",\"\\u0627\\u0644\\u0643\\u0644\",\"\\u0627\\u0644\\u0643\\u0644\",\"\\u0630\\u0643\\u0631\",\"\\u0630\\u0643\\u0631\",\"\\u0627\\u0644\\u0643\\u0644\",\"\\u0630\\u0643\\u0631\",\"\\u0630\\u0643\\u0631\",\"\\u0630\\u0643\\u0631\",\"\\u0627\\u0644\\u0643\\u0644\",\"\\u0627\\u0644\\u0643\\u0644\",\"\\u0630\\u0643\\u0631\",\"\\u0630\\u0643\\u0631\",\"\\u0630\\u0643\\u0631\",\"\\u0627\\u0644\\u0643\\u0644\",\"\\u0627\\u0644\\u0643\\u0644\",\"\\u0623\\u0646\\u062b\\u0649\",\"\\u0627\\u0644\\u0643\\u0644\",\"\\u0627\\u0644\\u0643\\u0644\",\"\\u0627\\u0644\\u0643\\u0644\",\"\\u0627\\u0644\\u0643\\u0644\",\"\\u0630\\u0643\\u0631\",\"\\u0630\\u0643\\u0631\",\"\\u0623\\u0646\\u062b\\u0649\",\"\\u0627\\u0644\\u0643\\u0644\",\"\\u0623\\u0646\\u062b\\u0649\",\"\\u0623\\u0646\\u062b\\u0649\",\"\\u0627\\u0644\\u0643\\u0644\",\"\\u0623\\u0646\\u062b\\u0649\",\"\\u0627\\u0644\\u0643\\u0644\",\"\\u0627\\u0644\\u0643\\u0644\",\"\\u0623\\u0646\\u062b\\u0649\",\"\\u0627\\u0644\\u0643\\u0644\",\"\\u0627\\u0644\\u0643\\u0644\",\"\\u0627\\u0644\\u0643\\u0644\",\"\\u0627\\u0644\\u0643\\u0644\",\"\\u0623\\u0646\\u062b\\u0649\",\"\\u0623\\u0646\\u062b\\u0649\",\"\\u0623\\u0646\\u062b\\u0649\",\"\\u0630\\u0643\\u0631\",\"\\u0623\\u0646\\u062b\\u0649\",\"\\u0627\\u0644\\u0643\\u0644\",\"\\u0627\\u0644\\u0643\\u0644\",\"\\u0630\\u0643\\u0631\",\"\\u0627\\u0644\\u0643\\u0644\",\"\\u0623\\u0646\\u062b\\u0649\",\"\\u0627\\u0644\\u0643\\u0644\",\"\\u0627\\u0644\\u0643\\u0644\",\"\\u0627\\u0644\\u0643\\u0644\",\"\\u0627\\u0644\\u0643\\u0644\",\"\\u0627\\u0644\\u0643\\u0644\",\"\\u0630\\u0643\\u0631\",\"\\u0623\\u0646\\u062b\\u0649\",\"\\u0627\\u0644\\u0643\\u0644\",\"\\u0630\\u0643\\u0631\",\"\\u0623\\u0646\\u062b\\u0649\",\"\\u0630\\u0643\\u0631\",\"\\u0623\\u0646\\u062b\\u0649\",\"\\u0623\\u0646\\u062b\\u0649\",\"\\u0623\\u0646\\u062b\\u0649\",\"\\u0627\\u0644\\u0643\\u0644\",\"\\u0623\\u0646\\u062b\\u0649\",\"\\u0630\\u0643\\u0631\",\"\\u0623\\u0646\\u062b\\u0649\",\"\\u0627\\u0644\\u0643\\u0644\",\"\\u0627\\u0644\\u0643\\u0644\",\"\\u0630\\u0643\\u0631\",\"\\u0627\\u0644\\u0643\\u0644\",\"\\u0623\\u0646\\u062b\\u0649\",\"\\u0623\\u0646\\u062b\\u0649\",\"\\u0630\\u0643\\u0631\",\"\\u0627\\u0644\\u0643\\u0644\",\"\\u0627\\u0644\\u0643\\u0644\",\"\\u0630\\u0643\\u0631\",\"\\u0627\\u0644\\u0643\\u0644\",\"\\u0630\\u0643\\u0631\",\"\\u0630\\u0643\\u0631\",\"\\u0630\\u0643\\u0631\",\"\\u0630\\u0643\\u0631\",\"\\u0630\\u0643\\u0631\",\"\\u0630\\u0643\\u0631\",\"\\u0630\\u0643\\u0631\",\"\\u0627\\u0644\\u0643\\u0644\",\"\\u0627\\u0644\\u0643\\u0644\",\"\\u0627\\u0644\\u0643\\u0644\",\"\\u0627\\u0644\\u0643\\u0644\",\"\\u0630\\u0643\\u0631\",\"\\u0627\\u0644\\u0643\\u0644\",\"\\u0623\\u0646\\u062b\\u0649\",\"\\u0623\\u0646\\u062b\\u0649\",\"\\u0630\\u0643\\u0631\",\"\\u0630\\u0643\\u0631\",\"\\u0630\\u0643\\u0631\",\"\\u0630\\u0643\\u0631\",\"\\u0630\\u0643\\u0631\",\"\\u0627\\u0644\\u0643\\u0644\",\"\\u0627\\u0644\\u0643\\u0644\",\"\\u0627\\u0644\\u0643\\u0644\",\"\\u0630\\u0643\\u0631\",\"\\u0627\\u0644\\u0643\\u0644\",\"\\u0627\\u0644\\u0643\\u0644\",\"\\u0623\\u0646\\u062b\\u0649\",\"\\u0623\\u0646\\u062b\\u0649\",\"\\u0623\\u0646\\u062b\\u0649\",\"\\u0627\\u0644\\u0643\\u0644\",\"\\u0627\\u0644\\u0643\\u0644\",\"\\u0630\\u0643\\u0631\",\"\\u0627\\u0644\\u0643\\u0644\",\"\\u0627\\u0644\\u0643\\u0644\",\"\\u0623\\u0646\\u062b\\u0649\",\"\\u0623\\u0646\\u062b\\u0649\",\"\\u0623\\u0646\\u062b\\u0649\",\"\\u0623\\u0646\\u062b\\u0649\",\"\\u0627\\u0644\\u0643\\u0644\",\"\\u0623\\u0646\\u062b\\u0649\",\"\\u0623\\u0646\\u062b\\u0649\",\"\\u0623\\u0646\\u062b\\u0649\",\"\\u0623\\u0646\\u062b\\u0649\",\"\\u0623\\u0646\\u062b\\u0649\",\"\\u0623\\u0646\\u062b\\u0649\",\"\\u0627\\u0644\\u0643\\u0644\",\"\\u0630\\u0643\\u0631\",\"\\u0630\\u0643\\u0631\",\"\\u0627\\u0644\\u0643\\u0644\",\"\\u0627\\u0644\\u0643\\u0644\",\"\\u0627\\u0644\\u0643\\u0644\",\"\\u0630\\u0643\\u0631\",\"\\u0623\\u0646\\u062b\\u0649\",\"\\u0630\\u0643\\u0631\",\"\\u0627\\u0644\\u0643\\u0644\",\"\\u0627\\u0644\\u0643\\u0644\",\"\\u0627\\u0644\\u0643\\u0644\",\"\\u0627\\u0644\\u0643\\u0644\",\"\\u0627\\u0644\\u0643\\u0644\",\"\\u0623\\u0646\\u062b\\u0649\",\"\\u0623\\u0646\\u062b\\u0649\",\"\\u0623\\u0646\\u062b\\u0649\",\"\\u0623\\u0646\\u062b\\u0649\",\"\\u0627\\u0644\\u0643\\u0644\",\"\\u0630\\u0643\\u0631\",\"\\u0630\\u0643\\u0631\",\"\\u0627\\u0644\\u0643\\u0644\",\"\\u0623\\u0646\\u062b\\u0649\",\"\\u0627\\u0644\\u0643\\u0644\",\"\\u0623\\u0646\\u062b\\u0649\",\"\\u0627\\u0644\\u0643\\u0644\",\"\\u0627\\u0644\\u0643\\u0644\",\"\\u0627\\u0644\\u0643\\u0644\",\"\\u0627\\u0644\\u0643\\u0644\",\"\\u0627\\u0644\\u0643\\u0644\",\"\\u0627\\u0644\\u0643\\u0644\",\"\\u0627\\u0644\\u0643\\u0644\",\"\\u0630\\u0643\\u0631\",\"\\u0630\\u0643\\u0631\",\"\\u0627\\u0644\\u0643\\u0644\",\"\\u0627\\u0644\\u0643\\u0644\",\"\\u0627\\u0644\\u0643\\u0644\",\"\\u0627\\u0644\\u0643\\u0644\",\"\\u0627\\u0644\\u0643\\u0644\",\"\\u0627\\u0644\\u0643\\u0644\",\"\\u0627\\u0644\\u0643\\u0644\",\"\\u0627\\u0644\\u0643\\u0644\",\"\\u0627\\u0644\\u0643\\u0644\",\"\\u0627\\u0644\\u0643\\u0644\",\"\\u0623\\u0646\\u062b\\u0649\",\"\\u0630\\u0643\\u0631\",\"\\u0630\\u0643\\u0631\",\"\\u0627\\u0644\\u0643\\u0644\",\"\\u0627\\u0644\\u0643\\u0644\",\"\\u0627\\u0644\\u0643\\u0644\",\"\\u0627\\u0644\\u0643\\u0644\",\"\\u0627\\u0644\\u0643\\u0644\",\"\\u0623\\u0646\\u062b\\u0649\",\"\\u0623\\u0646\\u062b\\u0649\",\"\\u0630\\u0643\\u0631\",\"\\u0627\\u0644\\u0643\\u0644\",\"\\u0630\\u0643\\u0631\",\"\\u0623\\u0646\\u062b\\u0649\",\"\\u0630\\u0643\\u0631\",\"\\u0627\\u0644\\u0643\\u0644\",\"\\u0627\\u0644\\u0643\\u0644\",\"\\u0627\\u0644\\u0643\\u0644\",\"\\u0627\\u0644\\u0643\\u0644\",\"\\u0627\\u0644\\u0643\\u0644\",\"\\u0630\\u0643\\u0631\",\"\\u0627\\u0644\\u0643\\u0644\",\"\\u0623\\u0646\\u062b\\u0649\",\"\\u0627\\u0644\\u0643\\u0644\",\"\\u0627\\u0644\\u0643\\u0644\",\"\\u0627\\u0644\\u0643\\u0644\",\"\\u0627\\u0644\\u0643\\u0644\",\"\\u0630\\u0643\\u0631\",\"\\u0623\\u0646\\u062b\\u0649\",\"\\u0623\\u0646\\u062b\\u0649\",\"\\u0623\\u0646\\u062b\\u0649\",\"\\u0623\\u0646\\u062b\\u0649\",\"\\u0623\\u0646\\u062b\\u0649\",\"\\u0627\\u0644\\u0643\\u0644\",\"\\u0627\\u0644\\u0643\\u0644\",\"\\u0627\\u0644\\u0643\\u0644\",\"\\u0627\\u0644\\u0643\\u0644\",\"\\u0627\\u0644\\u0643\\u0644\",\"\\u0623\\u0646\\u062b\\u0649\",\"\\u0630\\u0643\\u0631\",\"\\u0630\\u0643\\u0631\",\"\\u0630\\u0643\\u0631\",\"\\u0627\\u0644\\u0643\\u0644\",\"\\u0627\\u0644\\u0643\\u0644\",\"\\u0627\\u0644\\u0643\\u0644\",\"\\u0630\\u0643\\u0631\",\"\\u0627\\u0644\\u0643\\u0644\",\"\\u0630\\u0643\\u0631\",\"\\u0630\\u0643\\u0631\",\"\\u0630\\u0643\\u0631\",\"\\u0627\\u0644\\u0643\\u0644\",\"\\u0627\\u0644\\u0643\\u0644\",\"\\u0623\\u0646\\u062b\\u0649\",\"\\u0630\\u0643\\u0631\",\"\\u0630\\u0643\\u0631\",\"\\u0630\\u0643\\u0631\",\"\\u0623\\u0646\\u062b\\u0649\",\"\\u0623\\u0646\\u062b\\u0649\",\"\\u0623\\u0646\\u062b\\u0649\",\"\\u0627\\u0644\\u0643\\u0644\",\"\\u0627\\u0644\\u0643\\u0644\",\"\\u0630\\u0643\\u0631\",\"\\u0627\\u0644\\u0643\\u0644\",\"\\u0623\\u0646\\u062b\\u0649\",\"\\u0623\\u0646\\u062b\\u0649\",\"\\u0630\\u0643\\u0631\",\"\\u0627\\u0644\\u0643\\u0644\",\"\\u0623\\u0646\\u062b\\u0649\",\"\\u0623\\u0646\\u062b\\u0649\",\"\\u0630\\u0643\\u0631\",\"\\u0630\\u0643\\u0631\",\"\\u0623\\u0646\\u062b\\u0649\",\"\\u0630\\u0643\\u0631\",\"\\u0630\\u0643\\u0631\",\"\\u0630\\u0643\\u0631\",\"\\u0623\\u0646\\u062b\\u0649\",\"\\u0630\\u0643\\u0631\",\"\\u0627\\u0644\\u0643\\u0644\",\"\\u0623\\u0646\\u062b\\u0649\",\"\\u0627\\u0644\\u0643\\u0644\",\"\\u0623\\u0646\\u062b\\u0649\",\"\\u0627\\u0644\\u0643\\u0644\",\"\\u0627\\u0644\\u0643\\u0644\",\"\\u0623\\u0646\\u062b\\u0649\",\"\\u0627\\u0644\\u0643\\u0644\",\"\\u0627\\u0644\\u0643\\u0644\",\"\\u0627\\u0644\\u0643\\u0644\",\"\\u0627\\u0644\\u0643\\u0644\",\"\\u0627\\u0644\\u0643\\u0644\",\"\\u0627\\u0644\\u0643\\u0644\",\"\\u0630\\u0643\\u0631\",\"\\u0623\\u0646\\u062b\\u0649\",\"\\u0630\\u0643\\u0631\",\"\\u0630\\u0643\\u0631\",\"\\u0630\\u0643\\u0631\",\"\\u0623\\u0646\\u062b\\u0649\",\"\\u0630\\u0643\\u0631\",\"\\u0627\\u0644\\u0643\\u0644\",\"\\u0630\\u0643\\u0631\",\"\\u0630\\u0643\\u0631\",\"\\u0627\\u0644\\u0643\\u0644\",\"\\u0630\\u0643\\u0631\",\"\\u0630\\u0643\\u0631\",\"\\u0627\\u0644\\u0643\\u0644\",\"\\u0623\\u0646\\u062b\\u0649\",\"\\u0623\\u0646\\u062b\\u0649\",\"\\u0627\\u0644\\u0643\\u0644\",\"\\u0627\\u0644\\u0643\\u0644\",\"\\u0630\\u0643\\u0631\",\"\\u0623\\u0646\\u062b\\u0649\",\"\\u0630\\u0643\\u0631\",\"\\u0630\\u0643\\u0631\",\"\\u0627\\u0644\\u0643\\u0644\",\"\\u0623\\u0646\\u062b\\u0649\",\"\\u0627\\u0644\\u0643\\u0644\",\"\\u0627\\u0644\\u0643\\u0644\",\"\\u0623\\u0646\\u062b\\u0649\",\"\\u0627\\u0644\\u0643\\u0644\",\"\\u0627\\u0644\\u0643\\u0644\",\"\\u0627\\u0644\\u0643\\u0644\",\"\\u0627\\u0644\\u0643\\u0644\",\"\\u0627\\u0644\\u0643\\u0644\",\"\\u0627\\u0644\\u0643\\u0644\",\"\\u0627\\u0644\\u0643\\u0644\",\"\\u0623\\u0646\\u062b\\u0649\",\"\\u0623\\u0646\\u062b\\u0649\",\"\\u0623\\u0646\\u062b\\u0649\",\"\\u0623\\u0646\\u062b\\u0649\",\"\\u0630\\u0643\\u0631\",\"\\u0623\\u0646\\u062b\\u0649\",\"\\u0623\\u0646\\u062b\\u0649\",\"\\u0630\\u0643\\u0631\",\"\\u0627\\u0644\\u0643\\u0644\",\"\\u0623\\u0646\\u062b\\u0649\",\"\\u0623\\u0646\\u062b\\u0649\",\"\\u0623\\u0646\\u062b\\u0649\",\"\\u0630\\u0643\\u0631\",\"\\u0630\\u0643\\u0631\",\"\\u0627\\u0644\\u0643\\u0644\",\"\\u0623\\u0646\\u062b\\u0649\",\"\\u0630\\u0643\\u0631\",\"\\u0623\\u0646\\u062b\\u0649\",\"\\u0627\\u0644\\u0643\\u0644\",\"\\u0623\\u0646\\u062b\\u0649\",\"\\u0623\\u0646\\u062b\\u0649\",\"\\u0623\\u0646\\u062b\\u0649\",\"\\u0623\\u0646\\u062b\\u0649\",\"\\u0630\\u0643\\u0631\",\"\\u0630\\u0643\\u0631\",\"\\u0627\\u0644\\u0643\\u0644\",\"\\u0627\\u0644\\u0643\\u0644\",\"\\u0630\\u0643\\u0631\",\"\\u0627\\u0644\\u0643\\u0644\",\"\\u0630\\u0643\\u0631\",\"\\u0627\\u0644\\u0643\\u0644\",\"\\u0630\\u0643\\u0631\",\"\\u0627\\u0644\\u0643\\u0644\",\"\\u0623\\u0646\\u062b\\u0649\",\"\\u0627\\u0644\\u0643\\u0644\",\"\\u0630\\u0643\\u0631\",\"\\u0630\\u0643\\u0631\",\"\\u0630\\u0643\\u0631\",\"\\u0630\\u0643\\u0631\",\"\\u0627\\u0644\\u0643\\u0644\",\"\\u0630\\u0643\\u0631\",\"\\u0630\\u0643\\u0631\",\"\\u0630\\u0643\\u0631\",\"\\u0630\\u0643\\u0631\",\"\\u0627\\u0644\\u0643\\u0644\",\"\\u0623\\u0646\\u062b\\u0649\",\"\\u0623\\u0646\\u062b\\u0649\",\"\\u0627\\u0644\\u0643\\u0644\",\"\\u0627\\u0644\\u0643\\u0644\",\"\\u0623\\u0646\\u062b\\u0649\",\"\\u0627\\u0644\\u0643\\u0644\",\"\\u0630\\u0643\\u0631\",\"\\u0630\\u0643\\u0631\",\"\\u0623\\u0646\\u062b\\u0649\",\"\\u0627\\u0644\\u0643\\u0644\",\"\\u0627\\u0644\\u0643\\u0644\",\"\\u0627\\u0644\\u0643\\u0644\",\"\\u0627\\u0644\\u0643\\u0644\",\"\\u0630\\u0643\\u0631\",\"\\u0627\\u0644\\u0643\\u0644\",\"\\u0630\\u0643\\u0631\",\"\\u0630\\u0643\\u0631\",\"\\u0627\\u0644\\u0643\\u0644\",\"\\u0630\\u0643\\u0631\",\"\\u0623\\u0646\\u062b\\u0649\",\"\\u0623\\u0646\\u062b\\u0649\",\"\\u0627\\u0644\\u0643\\u0644\",\"\\u0627\\u0644\\u0643\\u0644\",\"\\u0627\\u0644\\u0643\\u0644\",\"\\u0627\\u0644\\u0643\\u0644\",\"\\u0630\\u0643\\u0631\",\"\\u0623\\u0646\\u062b\\u0649\",\"\\u0630\\u0643\\u0631\",\"\\u0623\\u0646\\u062b\\u0649\",\"\\u0630\\u0643\\u0631\",\"\\u0623\\u0646\\u062b\\u0649\",\"\\u0623\\u0646\\u062b\\u0649\",\"\\u0623\\u0646\\u062b\\u0649\",\"\\u0623\\u0646\\u062b\\u0649\",\"\\u0623\\u0646\\u062b\\u0649\",\"\\u0630\\u0643\\u0631\",\"\\u0630\\u0643\\u0631\",\"\\u0627\\u0644\\u0643\\u0644\",\"\\u0623\\u0646\\u062b\\u0649\",\"\\u0627\\u0644\\u0643\\u0644\",\"\\u0630\\u0643\\u0631\",\"\\u0623\\u0646\\u062b\\u0649\",\"\\u0623\\u0646\\u062b\\u0649\",\"\\u0627\\u0644\\u0643\\u0644\",\"\\u0630\\u0643\\u0631\",\"\\u0627\\u0644\\u0643\\u0644\",\"\\u0627\\u0644\\u0643\\u0644\",\"\\u0630\\u0643\\u0631\",\"\\u0627\\u0644\\u0643\\u0644\",\"\\u0627\\u0644\\u0643\\u0644\",\"\\u0627\\u0644\\u0643\\u0644\",\"\\u0630\\u0643\\u0631\",\"\\u0623\\u0646\\u062b\\u0649\",\"\\u0623\\u0646\\u062b\\u0649\",\"\\u0627\\u0644\\u0643\\u0644\",\"\\u0627\\u0644\\u0643\\u0644\",\"\\u0623\\u0646\\u062b\\u0649\",\"\\u0623\\u0646\\u062b\\u0649\",\"\\u0630\\u0643\\u0631\",\"\\u0627\\u0644\\u0643\\u0644\",\"\\u0627\\u0644\\u0643\\u0644\",\"\\u0627\\u0644\\u0643\\u0644\",\"\\u0623\\u0646\\u062b\\u0649\",\"\\u0627\\u0644\\u0643\\u0644\",\"\\u0623\\u0646\\u062b\\u0649\",\"\\u0630\\u0643\\u0631\",\"\\u0630\\u0643\\u0631\",\"\\u0623\\u0646\\u062b\\u0649\",\"\\u0623\\u0646\\u062b\\u0649\",\"\\u0630\\u0643\\u0631\",\"\\u0630\\u0643\\u0631\",\"\\u0623\\u0646\\u062b\\u0649\",\"\\u0623\\u0646\\u062b\\u0649\",\"\\u0630\\u0643\\u0631\",\"\\u0630\\u0643\\u0631\",\"\\u0627\\u0644\\u0643\\u0644\",\"\\u0623\\u0646\\u062b\\u0649\",\"\\u0627\\u0644\\u0643\\u0644\",\"\\u0623\\u0646\\u062b\\u0649\",\"\\u0623\\u0646\\u062b\\u0649\",\"\\u0627\\u0644\\u0643\\u0644\",\"\\u0623\\u0646\\u062b\\u0649\",\"\\u0630\\u0643\\u0631\",\"\\u0627\\u0644\\u0643\\u0644\",\"\\u0627\\u0644\\u0643\\u0644\",\"\\u0630\\u0643\\u0631\",\"\\u0627\\u0644\\u0643\\u0644\",\"\\u0627\\u0644\\u0643\\u0644\",\"\\u0630\\u0643\\u0631\",\"\\u0630\\u0643\\u0631\",\"\\u0623\\u0646\\u062b\\u0649\",\"\\u0627\\u0644\\u0643\\u0644\",\"\\u0630\\u0643\\u0631\",\"\\u0630\\u0643\\u0631\",\"\\u0623\\u0646\\u062b\\u0649\",\"\\u0627\\u0644\\u0643\\u0644\",\"\\u0630\\u0643\\u0631\",\"\\u0627\\u0644\\u0643\\u0644\",\"\\u0630\\u0643\\u0631\",\"\\u0623\\u0646\\u062b\\u0649\",\"\\u0627\\u0644\\u0643\\u0644\",\"\\u0630\\u0643\\u0631\",\"\\u0630\\u0643\\u0631\",\"\\u0627\\u0644\\u0643\\u0644\",\"\\u0627\\u0644\\u0643\\u0644\",\"\\u0627\\u0644\\u0643\\u0644\",\"\\u0630\\u0643\\u0631\",\"\\u0630\\u0643\\u0631\",\"\\u0627\\u0644\\u0643\\u0644\",\"\\u0623\\u0646\\u062b\\u0649\",\"\\u0623\\u0646\\u062b\\u0649\",\"\\u0630\\u0643\\u0631\",\"\\u0627\\u0644\\u0643\\u0644\",\"\\u0630\\u0643\\u0631\",\"\\u0627\\u0644\\u0643\\u0644\",\"\\u0627\\u0644\\u0643\\u0644\",\"\\u0623\\u0646\\u062b\\u0649\",\"\\u0623\\u0646\\u062b\\u0649\",\"\\u0623\\u0646\\u062b\\u0649\",\"\\u0627\\u0644\\u0643\\u0644\",\"\\u0630\\u0643\\u0631\",\"\\u0630\\u0643\\u0631\",\"\\u0623\\u0646\\u062b\\u0649\",\"\\u0623\\u0646\\u062b\\u0649\",\"\\u0623\\u0646\\u062b\\u0649\",\"\\u0623\\u0646\\u062b\\u0649\",\"\\u0627\\u0644\\u0643\\u0644\",\"\\u0627\\u0644\\u0643\\u0644\",\"\\u0627\\u0644\\u0643\\u0644\",\"\\u0630\\u0643\\u0631\",\"\\u0627\\u0644\\u0643\\u0644\",\"\\u0623\\u0646\\u062b\\u0649\",\"\\u0630\\u0643\\u0631\",\"\\u0623\\u0646\\u062b\\u0649\",\"\\u0623\\u0646\\u062b\\u0649\",\"\\u0623\\u0646\\u062b\\u0649\",\"\\u0627\\u0644\\u0643\\u0644\",\"\\u0630\\u0643\\u0631\",\"\\u0630\\u0643\\u0631\",\"\\u0627\\u0644\\u0643\\u0644\",\"\\u0630\\u0643\\u0631\",\"\\u0627\\u0644\\u0643\\u0644\",\"\\u0627\\u0644\\u0643\\u0644\",\"\\u0630\\u0643\\u0631\",\"\\u0630\\u0643\\u0631\",\"\\u0630\\u0643\\u0631\",\"\\u0627\\u0644\\u0643\\u0644\",\"\\u0623\\u0646\\u062b\\u0649\",\"\\u0627\\u0644\\u0643\\u0644\",\"\\u0623\\u0646\\u062b\\u0649\",\"\\u0627\\u0644\\u0643\\u0644\",\"\\u0627\\u0644\\u0643\\u0644\",\"\\u0623\\u0646\\u062b\\u0649\",\"\\u0623\\u0646\\u062b\\u0649\",\"\\u0627\\u0644\\u0643\\u0644\",\"\\u0623\\u0646\\u062b\\u0649\",\"\\u0623\\u0646\\u062b\\u0649\",\"\\u0630\\u0643\\u0631\",\"\\u0623\\u0646\\u062b\\u0649\",\"\\u0630\\u0643\\u0631\",\"\\u0623\\u0646\\u062b\\u0649\",\"\\u0623\\u0646\\u062b\\u0649\",\"\\u0630\\u0643\\u0631\",\"\\u0627\\u0644\\u0643\\u0644\",\"\\u0630\\u0643\\u0631\",\"\\u0623\\u0646\\u062b\\u0649\",\"\\u0627\\u0644\\u0643\\u0644\",\"\\u0627\\u0644\\u0643\\u0644\",\"\\u0623\\u0646\\u062b\\u0649\",\"\\u0630\\u0643\\u0631\",\"\\u0630\\u0643\\u0631\",\"\\u0630\\u0643\\u0631\",\"\\u0630\\u0643\\u0631\",\"\\u0627\\u0644\\u0643\\u0644\",\"\\u0627\\u0644\\u0643\\u0644\",\"\\u0623\\u0646\\u062b\\u0649\",\"\\u0623\\u0646\\u062b\\u0649\",\"\\u0623\\u0646\\u062b\\u0649\",\"\\u0630\\u0643\\u0631\",\"\\u0627\\u0644\\u0643\\u0644\",\"\\u0627\\u0644\\u0643\\u0644\",\"\\u0630\\u0643\\u0631\",\"\\u0623\\u0646\\u062b\\u0649\",\"\\u0623\\u0646\\u062b\\u0649\",\"\\u0630\\u0643\\u0631\",\"\\u0630\\u0643\\u0631\",\"\\u0623\\u0646\\u062b\\u0649\",\"\\u0630\\u0643\\u0631\",\"\\u0630\\u0643\\u0631\",\"\\u0630\\u0643\\u0631\",\"\\u0630\\u0643\\u0631\",\"\\u0630\\u0643\\u0631\",\"\\u0627\\u0644\\u0643\\u0644\",\"\\u0627\\u0644\\u0643\\u0644\",\"\\u0627\\u0644\\u0643\\u0644\",\"\\u0623\\u0646\\u062b\\u0649\",\"\\u0630\\u0643\\u0631\",\"\\u0630\\u0643\\u0631\",\"\\u0623\\u0646\\u062b\\u0649\",\"\\u0630\\u0643\\u0631\",\"\\u0623\\u0646\\u062b\\u0649\",\"\\u0623\\u0646\\u062b\\u0649\",\"\\u0627\\u0644\\u0643\\u0644\",\"\\u0623\\u0646\\u062b\\u0649\",\"\\u0627\\u0644\\u0643\\u0644\",\"\\u0627\\u0644\\u0643\\u0644\",\"\\u0630\\u0643\\u0631\",\"\\u0630\\u0643\\u0631\",\"\\u0630\\u0643\\u0631\",\"\\u0627\\u0644\\u0643\\u0644\",\"\\u0627\\u0644\\u0643\\u0644\",\"\\u0627\\u0644\\u0643\\u0644\",\"\\u0623\\u0646\\u062b\\u0649\",\"\\u0630\\u0643\\u0631\",\"\\u0623\\u0646\\u062b\\u0649\",\"\\u0627\\u0644\\u0643\\u0644\",\"\\u0627\\u0644\\u0643\\u0644\",\"\\u0623\\u0646\\u062b\\u0649\",\"\\u0630\\u0643\\u0631\",\"\\u0630\\u0643\\u0631\",\"\\u0623\\u0646\\u062b\\u0649\",\"\\u0623\\u0646\\u062b\\u0649\",\"\\u0627\\u0644\\u0643\\u0644\",\"\\u0630\\u0643\\u0631\",\"\\u0623\\u0646\\u062b\\u0649\",\"\\u0630\\u0643\\u0631\",\"\\u0630\\u0643\\u0631\",\"\\u0627\\u0644\\u0643\\u0644\",\"\\u0627\\u0644\\u0643\\u0644\",\"\\u0627\\u0644\\u0643\\u0644\",\"\\u0627\\u0644\\u0643\\u0644\",\"\\u0623\\u0646\\u062b\\u0649\",\"\\u0623\\u0646\\u062b\\u0649\",\"\\u0630\\u0643\\u0631\",\"\\u0630\\u0643\\u0631\",\"\\u0623\\u0646\\u062b\\u0649\",\"\\u0630\\u0643\\u0631\",\"\\u0623\\u0646\\u062b\\u0649\",\"\\u0623\\u0646\\u062b\\u0649\",\"\\u0623\\u0646\\u062b\\u0649\",\"\\u0623\\u0646\\u062b\\u0649\",\"\\u0630\\u0643\\u0631\",\"\\u0623\\u0646\\u062b\\u0649\",\"\\u0627\\u0644\\u0643\\u0644\",\"\\u0623\\u0646\\u062b\\u0649\",\"\\u0627\\u0644\\u0643\\u0644\",\"\\u0627\\u0644\\u0643\\u0644\",\"\\u0627\\u0644\\u0643\\u0644\",\"\\u0623\\u0646\\u062b\\u0649\",\"\\u0627\\u0644\\u0643\\u0644\",\"\\u0623\\u0646\\u062b\\u0649\",\"\\u0623\\u0646\\u062b\\u0649\",\"\\u0627\\u0644\\u0643\\u0644\",\"\\u0630\\u0643\\u0631\",\"\\u0623\\u0646\\u062b\\u0649\",\"\\u0623\\u0646\\u062b\\u0649\",\"\\u0630\\u0643\\u0631\",\"\\u0630\\u0643\\u0631\",\"\\u0630\\u0643\\u0631\",\"\\u0627\\u0644\\u0643\\u0644\",\"\\u0630\\u0643\\u0631\",\"\\u0627\\u0644\\u0643\\u0644\",\"\\u0627\\u0644\\u0643\\u0644\",\"\\u0627\\u0644\\u0643\\u0644\",\"\\u0623\\u0646\\u062b\\u0649\",\"\\u0623\\u0646\\u062b\\u0649\",\"\\u0623\\u0646\\u062b\\u0649\",\"\\u0630\\u0643\\u0631\",\"\\u0627\\u0644\\u0643\\u0644\",\"\\u0623\\u0646\\u062b\\u0649\",\"\\u0627\\u0644\\u0643\\u0644\",\"\\u0627\\u0644\\u0643\\u0644\",\"\\u0630\\u0643\\u0631\",\"\\u0627\\u0644\\u0643\\u0644\",\"\\u0623\\u0646\\u062b\\u0649\",\"\\u0623\\u0646\\u062b\\u0649\",\"\\u0627\\u0644\\u0643\\u0644\",\"\\u0623\\u0646\\u062b\\u0649\",\"\\u0623\\u0646\\u062b\\u0649\",\"\\u0627\\u0644\\u0643\\u0644\",\"\\u0623\\u0646\\u062b\\u0649\",\"\\u0623\\u0646\\u062b\\u0649\",\"\\u0627\\u0644\\u0643\\u0644\",\"\\u0623\\u0646\\u062b\\u0649\",\"\\u0627\\u0644\\u0643\\u0644\",\"\\u0623\\u0646\\u062b\\u0649\",\"\\u0630\\u0643\\u0631\",\"\\u0630\\u0643\\u0631\",\"\\u0627\\u0644\\u0643\\u0644\",\"\\u0627\\u0644\\u0643\\u0644\",\"\\u0627\\u0644\\u0643\\u0644\",\"\\u0630\\u0643\\u0631\",\"\\u0630\\u0643\\u0631\",\"\\u0630\\u0643\\u0631\",\"\\u0630\\u0643\\u0631\",\"\\u0630\\u0643\\u0631\",\"\\u0630\\u0643\\u0631\",\"\\u0630\\u0643\\u0631\",\"\\u0630\\u0643\\u0631\",\"\\u0630\\u0643\\u0631\",\"\\u0630\\u0643\\u0631\",\"\\u0630\\u0643\\u0631\",\"\\u0630\\u0643\\u0631\",\"\\u0627\\u0644\\u0643\\u0644\",\"\\u0627\\u0644\\u0643\\u0644\",\"\\u0627\\u0644\\u0643\\u0644\",\"\\u0627\\u0644\\u0643\\u0644\",\"\\u0630\\u0643\\u0631\",\"\\u0627\\u0644\\u0643\\u0644\",\"\\u0623\\u0646\\u062b\\u0649\",\"\\u0630\\u0643\\u0631\",\"\\u0627\\u0644\\u0643\\u0644\",\"\\u0623\\u0646\\u062b\\u0649\",\"\\u0623\\u0646\\u062b\\u0649\",\"\\u0623\\u0646\\u062b\\u0649\",\"\\u0627\\u0644\\u0643\\u0644\",\"\\u0630\\u0643\\u0631\",\"\\u0627\\u0644\\u0643\\u0644\",\"\\u0627\\u0644\\u0643\\u0644\",\"\\u0630\\u0643\\u0631\",\"\\u0627\\u0644\\u0643\\u0644\",\"\\u0630\\u0643\\u0631\",\"\\u0630\\u0643\\u0631\",\"\\u0630\\u0643\\u0631\",\"\\u0623\\u0646\\u062b\\u0649\",\"\\u0627\\u0644\\u0643\\u0644\",\"\\u0630\\u0643\\u0631\",\"\\u0630\\u0643\\u0631\",\"\\u0623\\u0646\\u062b\\u0649\",\"\\u0630\\u0643\\u0631\",\"\\u0627\\u0644\\u0643\\u0644\",\"\\u0630\\u0643\\u0631\",\"\\u0623\\u0646\\u062b\\u0649\",\"\\u0627\\u0644\\u0643\\u0644\",\"\\u0630\\u0643\\u0631\",\"\\u0627\\u0644\\u0643\\u0644\",\"\\u0627\\u0644\\u0643\\u0644\",\"\\u0627\\u0644\\u0643\\u0644\",\"\\u0627\\u0644\\u0643\\u0644\",\"\\u0630\\u0643\\u0631\",\"\\u0627\\u0644\\u0643\\u0644\",\"\\u0627\\u0644\\u0643\\u0644\",\"\\u0630\\u0643\\u0631\",\"\\u0630\\u0643\\u0631\",\"\\u0627\\u0644\\u0643\\u0644\",\"\\u0627\\u0644\\u0643\\u0644\",\"\\u0623\\u0646\\u062b\\u0649\",\"\\u0630\\u0643\\u0631\",\"\\u0630\\u0643\\u0631\",\"\\u0630\\u0643\\u0631\",\"\\u0627\\u0644\\u0643\\u0644\",\"\\u0630\\u0643\\u0631\",\"\\u0627\\u0644\\u0643\\u0644\",\"\\u0627\\u0644\\u0643\\u0644\",\"\\u0630\\u0643\\u0631\",\"\\u0627\\u0644\\u0643\\u0644\",\"\\u0623\\u0646\\u062b\\u0649\",\"\\u0627\\u0644\\u0643\\u0644\",\"\\u0627\\u0644\\u0643\\u0644\",\"\\u0630\\u0643\\u0631\",\"\\u0623\\u0646\\u062b\\u0649\",\"\\u0623\\u0646\\u062b\\u0649\",\"\\u0627\\u0644\\u0643\\u0644\",\"\\u0630\\u0643\\u0631\",\"\\u0630\\u0643\\u0631\",\"\\u0630\\u0643\\u0631\",\"\\u0627\\u0644\\u0643\\u0644\",\"\\u0630\\u0643\\u0631\",\"\\u0627\\u0644\\u0643\\u0644\",\"\\u0630\\u0643\\u0631\",\"\\u0623\\u0646\\u062b\\u0649\",\"\\u0630\\u0643\\u0631\",\"\\u0630\\u0643\\u0631\",\"\\u0630\\u0643\\u0631\",\"\\u0623\\u0646\\u062b\\u0649\",\"\\u0627\\u0644\\u0643\\u0644\",\"\\u0623\\u0646\\u062b\\u0649\",\"\\u0623\\u0646\\u062b\\u0649\",\"\\u0630\\u0643\\u0631\",\"\\u0627\\u0644\\u0643\\u0644\",\"\\u0623\\u0646\\u062b\\u0649\",\"\\u0623\\u0646\\u062b\\u0649\",\"\\u0623\\u0646\\u062b\\u0649\",\"\\u0630\\u0643\\u0631\",\"\\u0623\\u0646\\u062b\\u0649\",\"\\u0627\\u0644\\u0643\\u0644\",\"\\u0627\\u0644\\u0643\\u0644\",\"\\u0630\\u0643\\u0631\",\"\\u0623\\u0646\\u062b\\u0649\",\"\\u0623\\u0646\\u062b\\u0649\",\"\\u0623\\u0646\\u062b\\u0649\",\"\\u0630\\u0643\\u0631\",\"\\u0627\\u0644\\u0643\\u0644\",\"\\u0623\\u0646\\u062b\\u0649\",\"\\u0627\\u0644\\u0643\\u0644\",\"\\u0627\\u0644\\u0643\\u0644\",\"\\u0630\\u0643\\u0631\",\"\\u0627\\u0644\\u0643\\u0644\",\"\\u0627\\u0644\\u0643\\u0644\",\"\\u0627\\u0644\\u0643\\u0644\",\"\\u0623\\u0646\\u062b\\u0649\",\"\\u0623\\u0646\\u062b\\u0649\",\"\\u0627\\u0644\\u0643\\u0644\",\"\\u0627\\u0644\\u0643\\u0644\",\"\\u0627\\u0644\\u0643\\u0644\",\"\\u0627\\u0644\\u0643\\u0644\",\"\\u0630\\u0643\\u0631\",\"\\u0627\\u0644\\u0643\\u0644\",\"\\u0630\\u0643\\u0631\",\"\\u0630\\u0643\\u0631\",\"\\u0627\\u0644\\u0643\\u0644\",\"\\u0627\\u0644\\u0643\\u0644\",\"\\u0627\\u0644\\u0643\\u0644\",\"\\u0627\\u0644\\u0643\\u0644\",\"\\u0627\\u0644\\u0643\\u0644\",\"\\u0627\\u0644\\u0643\\u0644\",\"\\u0623\\u0646\\u062b\\u0649\",\"\\u0623\\u0646\\u062b\\u0649\",\"\\u0623\\u0646\\u062b\\u0649\",\"\\u0627\\u0644\\u0643\\u0644\",\"\\u0627\\u0644\\u0643\\u0644\",\"\\u0630\\u0643\\u0631\",\"\\u0623\\u0646\\u062b\\u0649\",\"\\u0627\\u0644\\u0643\\u0644\",\"\\u0623\\u0646\\u062b\\u0649\",\"\\u0627\\u0644\\u0643\\u0644\",\"\\u0630\\u0643\\u0631\",\"\\u0627\\u0644\\u0643\\u0644\",\"\\u0630\\u0643\\u0631\",\"\\u0623\\u0646\\u062b\\u0649\",\"\\u0630\\u0643\\u0631\",\"\\u0630\\u0643\\u0631\",\"\\u0630\\u0643\\u0631\",\"\\u0630\\u0643\\u0631\",\"\\u0627\\u0644\\u0643\\u0644\",\"\\u0630\\u0643\\u0631\",\"\\u0630\\u0643\\u0631\",\"\\u0630\\u0643\\u0631\",\"\\u0623\\u0646\\u062b\\u0649\",\"\\u0623\\u0646\\u062b\\u0649\",\"\\u0630\\u0643\\u0631\",\"\\u0627\\u0644\\u0643\\u0644\",\"\\u0627\\u0644\\u0643\\u0644\",\"\\u0623\\u0646\\u062b\\u0649\",\"\\u0627\\u0644\\u0643\\u0644\",\"\\u0627\\u0644\\u0643\\u0644\",\"\\u0627\\u0644\\u0643\\u0644\",\"\\u0627\\u0644\\u0643\\u0644\",\"\\u0627\\u0644\\u0643\\u0644\",\"\\u0623\\u0646\\u062b\\u0649\",\"\\u0627\\u0644\\u0643\\u0644\",\"\\u0627\\u0644\\u0643\\u0644\",\"\\u0627\\u0644\\u0643\\u0644\",\"\\u0630\\u0643\\u0631\",\"\\u0627\\u0644\\u0643\\u0644\",\"\\u0630\\u0643\\u0631\",\"\\u0623\\u0646\\u062b\\u0649\",\"\\u0627\\u0644\\u0643\\u0644\",\"\\u0623\\u0646\\u062b\\u0649\",\"\\u0630\\u0643\\u0631\",\"\\u0630\\u0643\\u0631\",\"\\u0627\\u0644\\u0643\\u0644\",\"\\u0630\\u0643\\u0631\",\"\\u0623\\u0646\\u062b\\u0649\",\"\\u0623\\u0646\\u062b\\u0649\",\"\\u0623\\u0646\\u062b\\u0649\",\"\\u0627\\u0644\\u0643\\u0644\",\"\\u0630\\u0643\\u0631\",\"\\u0627\\u0644\\u0643\\u0644\",\"\\u0630\\u0643\\u0631\",\"\\u0630\\u0643\\u0631\",\"\\u0627\\u0644\\u0643\\u0644\",\"\\u0630\\u0643\\u0631\",\"\\u0630\\u0643\\u0631\",\"\\u0630\\u0643\\u0631\",\"\\u0627\\u0644\\u0643\\u0644\",\"\\u0630\\u0643\\u0631\",\"\\u0623\\u0646\\u062b\\u0649\",\"\\u0627\\u0644\\u0643\\u0644\",\"\\u0627\\u0644\\u0643\\u0644\",\"\\u0630\\u0643\\u0631\",\"\\u0630\\u0643\\u0631\",\"\\u0623\\u0646\\u062b\\u0649\",\"\\u0623\\u0646\\u062b\\u0649\",\"\\u0627\\u0644\\u0643\\u0644\",\"\\u0623\\u0646\\u062b\\u0649\",\"\\u0627\\u0644\\u0643\\u0644\",\"\\u0627\\u0644\\u0643\\u0644\",\"\\u0627\\u0644\\u0643\\u0644\",\"\\u0627\\u0644\\u0643\\u0644\",\"\\u0627\\u0644\\u0643\\u0644\",\"\\u0627\\u0644\\u0643\\u0644\",\"\\u0623\\u0646\\u062b\\u0649\",\"\\u0627\\u0644\\u0643\\u0644\",\"\\u0627\\u0644\\u0643\\u0644\",\"\\u0627\\u0644\\u0643\\u0644\",\"\\u0627\\u0644\\u0643\\u0644\",\"\\u0630\\u0643\\u0631\",\"\\u0627\\u0644\\u0643\\u0644\",\"\\u0627\\u0644\\u0643\\u0644\",\"\\u0627\\u0644\\u0643\\u0644\",\"\\u0627\\u0644\\u0643\\u0644\",\"\\u0623\\u0646\\u062b\\u0649\",\"\\u0623\\u0646\\u062b\\u0649\",\"\\u0627\\u0644\\u0643\\u0644\",\"\\u0623\\u0646\\u062b\\u0649\",\"\\u0623\\u0646\\u062b\\u0649\",\"\\u0630\\u0643\\u0631\",\"\\u0630\\u0643\\u0631\",\"\\u0630\\u0643\\u0631\",\"\\u0623\\u0646\\u062b\\u0649\",\"\\u0623\\u0646\\u062b\\u0649\",\"\\u0627\\u0644\\u0643\\u0644\",\"\\u0627\\u0644\\u0643\\u0644\",\"\\u0627\\u0644\\u0643\\u0644\",\"\\u0627\\u0644\\u0643\\u0644\",\"\\u0623\\u0646\\u062b\\u0649\",\"\\u0627\\u0644\\u0643\\u0644\",\"\\u0623\\u0646\\u062b\\u0649\",\"\\u0627\\u0644\\u0643\\u0644\",\"\\u0627\\u0644\\u0643\\u0644\",\"\\u0623\\u0646\\u062b\\u0649\",\"\\u0627\\u0644\\u0643\\u0644\",\"\\u0627\\u0644\\u0643\\u0644\",\"\\u0627\\u0644\\u0643\\u0644\",\"\\u0627\\u0644\\u0643\\u0644\",\"\\u0630\\u0643\\u0631\",\"\\u0623\\u0646\\u062b\\u0649\",\"\\u0630\\u0643\\u0631\",\"\\u0623\\u0646\\u062b\\u0649\",\"\\u0623\\u0646\\u062b\\u0649\",\"\\u0627\\u0644\\u0643\\u0644\",\"\\u0623\\u0646\\u062b\\u0649\",\"\\u0623\\u0646\\u062b\\u0649\",\"\\u0627\\u0644\\u0643\\u0644\",\"\\u0627\\u0644\\u0643\\u0644\",\"\\u0623\\u0646\\u062b\\u0649\",\"\\u0627\\u0644\\u0643\\u0644\",\"\\u0627\\u0644\\u0643\\u0644\",\"\\u0627\\u0644\\u0643\\u0644\",\"\\u0623\\u0646\\u062b\\u0649\",\"\\u0623\\u0646\\u062b\\u0649\",\"\\u0630\\u0643\\u0631\",\"\\u0623\\u0646\\u062b\\u0649\",\"\\u0630\\u0643\\u0631\",\"\\u0630\\u0643\\u0631\",\"\\u0630\\u0643\\u0631\",\"\\u0630\\u0643\\u0631\",\"\\u0627\\u0644\\u0643\\u0644\",\"\\u0627\\u0644\\u0643\\u0644\",\"\\u0623\\u0646\\u062b\\u0649\",\"\\u0627\\u0644\\u0643\\u0644\",\"\\u0623\\u0646\\u062b\\u0649\",\"\\u0627\\u0644\\u0643\\u0644\",\"\\u0623\\u0646\\u062b\\u0649\",\"\\u0627\\u0644\\u0643\\u0644\",\"\\u0630\\u0643\\u0631\",\"\\u0627\\u0644\\u0643\\u0644\",\"\\u0627\\u0644\\u0643\\u0644\",\"\\u0627\\u0644\\u0643\\u0644\",\"\\u0627\\u0644\\u0643\\u0644\",\"\\u0627\\u0644\\u0643\\u0644\",\"\\u0627\\u0644\\u0643\\u0644\",\"\\u0627\\u0644\\u0643\\u0644\",\"\\u0630\\u0643\\u0631\",\"\\u0630\\u0643\\u0631\",\"\\u0630\\u0643\\u0631\",\"\\u0623\\u0646\\u062b\\u0649\",\"\\u0630\\u0643\\u0631\",\"\\u0623\\u0646\\u062b\\u0649\",\"\\u0627\\u0644\\u0643\\u0644\",\"\\u0623\\u0646\\u062b\\u0649\",\"\\u0630\\u0643\\u0631\",\"\\u0627\\u0644\\u0643\\u0644\",\"\\u0630\\u0643\\u0631\",\"\\u0627\\u0644\\u0643\\u0644\",\"\\u0627\\u0644\\u0643\\u0644\",\"\\u0623\\u0646\\u062b\\u0649\",\"\\u0623\\u0646\\u062b\\u0649\",\"\\u0623\\u0646\\u062b\\u0649\",\"\\u0630\\u0643\\u0631\",\"\\u0630\\u0643\\u0631\",\"\\u0630\\u0643\\u0631\",\"\\u0630\\u0643\\u0631\",\"\\u0623\\u0646\\u062b\\u0649\",\"\\u0630\\u0643\\u0631\",\"\\u0627\\u0644\\u0643\\u0644\",\"\\u0623\\u0646\\u062b\\u0649\",\"\\u0627\\u0644\\u0643\\u0644\",\"\\u0623\\u0646\\u062b\\u0649\",\"\\u0630\\u0643\\u0631\",\"\\u0630\\u0643\\u0631\",\"\\u0630\\u0643\\u0631\",\"\\u0630\\u0643\\u0631\",\"\\u0627\\u0644\\u0643\\u0644\",\"\\u0630\\u0643\\u0631\",\"\\u0630\\u0643\\u0631\",\"\\u0623\\u0646\\u062b\\u0649\",\"\\u0627\\u0644\\u0643\\u0644\",\"\\u0627\\u0644\\u0643\\u0644\",\"\\u0627\\u0644\\u0643\\u0644\",\"\\u0627\\u0644\\u0643\\u0644\",\"\\u0627\\u0644\\u0643\\u0644\",\"\\u0623\\u0646\\u062b\\u0649\",\"\\u0623\\u0646\\u062b\\u0649\",\"\\u0630\\u0643\\u0631\",\"\\u0623\\u0646\\u062b\\u0649\",\"\\u0623\\u0646\\u062b\\u0649\",\"\\u0627\\u0644\\u0643\\u0644\",\"\\u0630\\u0643\\u0631\",\"\\u0623\\u0646\\u062b\\u0649\",\"\\u0623\\u0646\\u062b\\u0649\",\"\\u0630\\u0643\\u0631\",\"\\u0623\\u0646\\u062b\\u0649\",\"\\u0623\\u0646\\u062b\\u0649\",\"\\u0630\\u0643\\u0631\",\"\\u0623\\u0646\\u062b\\u0649\",\"\\u0627\\u0644\\u0643\\u0644\",\"\\u0623\\u0646\\u062b\\u0649\",\"\\u0627\\u0644\\u0643\\u0644\",\"\\u0627\\u0644\\u0643\\u0644\",\"\\u0627\\u0644\\u0643\\u0644\",\"\\u0623\\u0646\\u062b\\u0649\",\"\\u0627\\u0644\\u0643\\u0644\",\"\\u0627\\u0644\\u0643\\u0644\",\"\\u0623\\u0646\\u062b\\u0649\",\"\\u0627\\u0644\\u0643\\u0644\",\"\\u0630\\u0643\\u0631\",\"\\u0627\\u0644\\u0643\\u0644\",\"\\u0630\\u0643\\u0631\",\"\\u0623\\u0646\\u062b\\u0649\",\"\\u0623\\u0646\\u062b\\u0649\",\"\\u0627\\u0644\\u0643\\u0644\",\"\\u0627\\u0644\\u0643\\u0644\",\"\\u0627\\u0644\\u0643\\u0644\",\"\\u0627\\u0644\\u0643\\u0644\",\"\\u0627\\u0644\\u0643\\u0644\",\"\\u0623\\u0646\\u062b\\u0649\",\"\\u0630\\u0643\\u0631\",\"\\u0630\\u0643\\u0631\",\"\\u0630\\u0643\\u0631\",\"\\u0623\\u0646\\u062b\\u0649\",\"\\u0627\\u0644\\u0643\\u0644\",\"\\u0627\\u0644\\u0643\\u0644\",\"\\u0630\\u0643\\u0631\"],\"legendgroup\":\"\",\"name\":\"\",\"showlegend\":true,\"type\":\"pie\"}],                        {\"template\":{\"data\":{\"histogram2dcontour\":[{\"type\":\"histogram2dcontour\",\"colorbar\":{\"outlinewidth\":0,\"ticks\":\"\"},\"colorscale\":[[0.0,\"#0d0887\"],[0.1111111111111111,\"#46039f\"],[0.2222222222222222,\"#7201a8\"],[0.3333333333333333,\"#9c179e\"],[0.4444444444444444,\"#bd3786\"],[0.5555555555555556,\"#d8576b\"],[0.6666666666666666,\"#ed7953\"],[0.7777777777777778,\"#fb9f3a\"],[0.8888888888888888,\"#fdca26\"],[1.0,\"#f0f921\"]]}],\"choropleth\":[{\"type\":\"choropleth\",\"colorbar\":{\"outlinewidth\":0,\"ticks\":\"\"}}],\"histogram2d\":[{\"type\":\"histogram2d\",\"colorbar\":{\"outlinewidth\":0,\"ticks\":\"\"},\"colorscale\":[[0.0,\"#0d0887\"],[0.1111111111111111,\"#46039f\"],[0.2222222222222222,\"#7201a8\"],[0.3333333333333333,\"#9c179e\"],[0.4444444444444444,\"#bd3786\"],[0.5555555555555556,\"#d8576b\"],[0.6666666666666666,\"#ed7953\"],[0.7777777777777778,\"#fb9f3a\"],[0.8888888888888888,\"#fdca26\"],[1.0,\"#f0f921\"]]}],\"heatmap\":[{\"type\":\"heatmap\",\"colorbar\":{\"outlinewidth\":0,\"ticks\":\"\"},\"colorscale\":[[0.0,\"#0d0887\"],[0.1111111111111111,\"#46039f\"],[0.2222222222222222,\"#7201a8\"],[0.3333333333333333,\"#9c179e\"],[0.4444444444444444,\"#bd3786\"],[0.5555555555555556,\"#d8576b\"],[0.6666666666666666,\"#ed7953\"],[0.7777777777777778,\"#fb9f3a\"],[0.8888888888888888,\"#fdca26\"],[1.0,\"#f0f921\"]]}],\"heatmapgl\":[{\"type\":\"heatmapgl\",\"colorbar\":{\"outlinewidth\":0,\"ticks\":\"\"},\"colorscale\":[[0.0,\"#0d0887\"],[0.1111111111111111,\"#46039f\"],[0.2222222222222222,\"#7201a8\"],[0.3333333333333333,\"#9c179e\"],[0.4444444444444444,\"#bd3786\"],[0.5555555555555556,\"#d8576b\"],[0.6666666666666666,\"#ed7953\"],[0.7777777777777778,\"#fb9f3a\"],[0.8888888888888888,\"#fdca26\"],[1.0,\"#f0f921\"]]}],\"contourcarpet\":[{\"type\":\"contourcarpet\",\"colorbar\":{\"outlinewidth\":0,\"ticks\":\"\"}}],\"contour\":[{\"type\":\"contour\",\"colorbar\":{\"outlinewidth\":0,\"ticks\":\"\"},\"colorscale\":[[0.0,\"#0d0887\"],[0.1111111111111111,\"#46039f\"],[0.2222222222222222,\"#7201a8\"],[0.3333333333333333,\"#9c179e\"],[0.4444444444444444,\"#bd3786\"],[0.5555555555555556,\"#d8576b\"],[0.6666666666666666,\"#ed7953\"],[0.7777777777777778,\"#fb9f3a\"],[0.8888888888888888,\"#fdca26\"],[1.0,\"#f0f921\"]]}],\"surface\":[{\"type\":\"surface\",\"colorbar\":{\"outlinewidth\":0,\"ticks\":\"\"},\"colorscale\":[[0.0,\"#0d0887\"],[0.1111111111111111,\"#46039f\"],[0.2222222222222222,\"#7201a8\"],[0.3333333333333333,\"#9c179e\"],[0.4444444444444444,\"#bd3786\"],[0.5555555555555556,\"#d8576b\"],[0.6666666666666666,\"#ed7953\"],[0.7777777777777778,\"#fb9f3a\"],[0.8888888888888888,\"#fdca26\"],[1.0,\"#f0f921\"]]}],\"mesh3d\":[{\"type\":\"mesh3d\",\"colorbar\":{\"outlinewidth\":0,\"ticks\":\"\"}}],\"scatter\":[{\"fillpattern\":{\"fillmode\":\"overlay\",\"size\":10,\"solidity\":0.2},\"type\":\"scatter\"}],\"parcoords\":[{\"type\":\"parcoords\",\"line\":{\"colorbar\":{\"outlinewidth\":0,\"ticks\":\"\"}}}],\"scatterpolargl\":[{\"type\":\"scatterpolargl\",\"marker\":{\"colorbar\":{\"outlinewidth\":0,\"ticks\":\"\"}}}],\"bar\":[{\"error_x\":{\"color\":\"#2a3f5f\"},\"error_y\":{\"color\":\"#2a3f5f\"},\"marker\":{\"line\":{\"color\":\"#E5ECF6\",\"width\":0.5},\"pattern\":{\"fillmode\":\"overlay\",\"size\":10,\"solidity\":0.2}},\"type\":\"bar\"}],\"scattergeo\":[{\"type\":\"scattergeo\",\"marker\":{\"colorbar\":{\"outlinewidth\":0,\"ticks\":\"\"}}}],\"scatterpolar\":[{\"type\":\"scatterpolar\",\"marker\":{\"colorbar\":{\"outlinewidth\":0,\"ticks\":\"\"}}}],\"histogram\":[{\"marker\":{\"pattern\":{\"fillmode\":\"overlay\",\"size\":10,\"solidity\":0.2}},\"type\":\"histogram\"}],\"scattergl\":[{\"type\":\"scattergl\",\"marker\":{\"colorbar\":{\"outlinewidth\":0,\"ticks\":\"\"}}}],\"scatter3d\":[{\"type\":\"scatter3d\",\"line\":{\"colorbar\":{\"outlinewidth\":0,\"ticks\":\"\"}},\"marker\":{\"colorbar\":{\"outlinewidth\":0,\"ticks\":\"\"}}}],\"scattermapbox\":[{\"type\":\"scattermapbox\",\"marker\":{\"colorbar\":{\"outlinewidth\":0,\"ticks\":\"\"}}}],\"scatterternary\":[{\"type\":\"scatterternary\",\"marker\":{\"colorbar\":{\"outlinewidth\":0,\"ticks\":\"\"}}}],\"scattercarpet\":[{\"type\":\"scattercarpet\",\"marker\":{\"colorbar\":{\"outlinewidth\":0,\"ticks\":\"\"}}}],\"carpet\":[{\"aaxis\":{\"endlinecolor\":\"#2a3f5f\",\"gridcolor\":\"white\",\"linecolor\":\"white\",\"minorgridcolor\":\"white\",\"startlinecolor\":\"#2a3f5f\"},\"baxis\":{\"endlinecolor\":\"#2a3f5f\",\"gridcolor\":\"white\",\"linecolor\":\"white\",\"minorgridcolor\":\"white\",\"startlinecolor\":\"#2a3f5f\"},\"type\":\"carpet\"}],\"table\":[{\"cells\":{\"fill\":{\"color\":\"#EBF0F8\"},\"line\":{\"color\":\"white\"}},\"header\":{\"fill\":{\"color\":\"#C8D4E3\"},\"line\":{\"color\":\"white\"}},\"type\":\"table\"}],\"barpolar\":[{\"marker\":{\"line\":{\"color\":\"#E5ECF6\",\"width\":0.5},\"pattern\":{\"fillmode\":\"overlay\",\"size\":10,\"solidity\":0.2}},\"type\":\"barpolar\"}],\"pie\":[{\"automargin\":true,\"type\":\"pie\"}]},\"layout\":{\"autotypenumbers\":\"strict\",\"colorway\":[\"#636efa\",\"#EF553B\",\"#00cc96\",\"#ab63fa\",\"#FFA15A\",\"#19d3f3\",\"#FF6692\",\"#B6E880\",\"#FF97FF\",\"#FECB52\"],\"font\":{\"color\":\"#2a3f5f\"},\"hovermode\":\"closest\",\"hoverlabel\":{\"align\":\"left\"},\"paper_bgcolor\":\"white\",\"plot_bgcolor\":\"#E5ECF6\",\"polar\":{\"bgcolor\":\"#E5ECF6\",\"angularaxis\":{\"gridcolor\":\"white\",\"linecolor\":\"white\",\"ticks\":\"\"},\"radialaxis\":{\"gridcolor\":\"white\",\"linecolor\":\"white\",\"ticks\":\"\"}},\"ternary\":{\"bgcolor\":\"#E5ECF6\",\"aaxis\":{\"gridcolor\":\"white\",\"linecolor\":\"white\",\"ticks\":\"\"},\"baxis\":{\"gridcolor\":\"white\",\"linecolor\":\"white\",\"ticks\":\"\"},\"caxis\":{\"gridcolor\":\"white\",\"linecolor\":\"white\",\"ticks\":\"\"}},\"coloraxis\":{\"colorbar\":{\"outlinewidth\":0,\"ticks\":\"\"}},\"colorscale\":{\"sequential\":[[0.0,\"#0d0887\"],[0.1111111111111111,\"#46039f\"],[0.2222222222222222,\"#7201a8\"],[0.3333333333333333,\"#9c179e\"],[0.4444444444444444,\"#bd3786\"],[0.5555555555555556,\"#d8576b\"],[0.6666666666666666,\"#ed7953\"],[0.7777777777777778,\"#fb9f3a\"],[0.8888888888888888,\"#fdca26\"],[1.0,\"#f0f921\"]],\"sequentialminus\":[[0.0,\"#0d0887\"],[0.1111111111111111,\"#46039f\"],[0.2222222222222222,\"#7201a8\"],[0.3333333333333333,\"#9c179e\"],[0.4444444444444444,\"#bd3786\"],[0.5555555555555556,\"#d8576b\"],[0.6666666666666666,\"#ed7953\"],[0.7777777777777778,\"#fb9f3a\"],[0.8888888888888888,\"#fdca26\"],[1.0,\"#f0f921\"]],\"diverging\":[[0,\"#8e0152\"],[0.1,\"#c51b7d\"],[0.2,\"#de77ae\"],[0.3,\"#f1b6da\"],[0.4,\"#fde0ef\"],[0.5,\"#f7f7f7\"],[0.6,\"#e6f5d0\"],[0.7,\"#b8e186\"],[0.8,\"#7fbc41\"],[0.9,\"#4d9221\"],[1,\"#276419\"]]},\"xaxis\":{\"gridcolor\":\"white\",\"linecolor\":\"white\",\"ticks\":\"\",\"title\":{\"standoff\":15},\"zerolinecolor\":\"white\",\"automargin\":true,\"zerolinewidth\":2},\"yaxis\":{\"gridcolor\":\"white\",\"linecolor\":\"white\",\"ticks\":\"\",\"title\":{\"standoff\":15},\"zerolinecolor\":\"white\",\"automargin\":true,\"zerolinewidth\":2},\"scene\":{\"xaxis\":{\"backgroundcolor\":\"#E5ECF6\",\"gridcolor\":\"white\",\"linecolor\":\"white\",\"showbackground\":true,\"ticks\":\"\",\"zerolinecolor\":\"white\",\"gridwidth\":2},\"yaxis\":{\"backgroundcolor\":\"#E5ECF6\",\"gridcolor\":\"white\",\"linecolor\":\"white\",\"showbackground\":true,\"ticks\":\"\",\"zerolinecolor\":\"white\",\"gridwidth\":2},\"zaxis\":{\"backgroundcolor\":\"#E5ECF6\",\"gridcolor\":\"white\",\"linecolor\":\"white\",\"showbackground\":true,\"ticks\":\"\",\"zerolinecolor\":\"white\",\"gridwidth\":2}},\"shapedefaults\":{\"line\":{\"color\":\"#2a3f5f\"}},\"annotationdefaults\":{\"arrowcolor\":\"#2a3f5f\",\"arrowhead\":0,\"arrowwidth\":1},\"geo\":{\"bgcolor\":\"white\",\"landcolor\":\"#E5ECF6\",\"subunitcolor\":\"white\",\"showland\":true,\"showlakes\":true,\"lakecolor\":\"white\"},\"title\":{\"x\":0.05},\"mapbox\":{\"style\":\"light\"}}},\"legend\":{\"tracegroupgap\":0},\"title\":{\"text\":\"\\u0646\\u0633\\u0628 \\u062a\\u062d\\u062f\\u064a\\u062f \\u0627\\u0644\\u062c\\u0646\\u0633 \\u0641\\u064a \\u0627\\u0644\\u0648\\u0638\\u0627\\u0626\\u0641\"}},                        {\"responsive\": true}                    ).then(function(){\n",
       "                            \n",
       "var gd = document.getElementById('902c5685-01bc-4395-b12d-cb3a57e18e52');\n",
       "var x = new MutationObserver(function (mutations, observer) {{\n",
       "        var display = window.getComputedStyle(gd).display;\n",
       "        if (!display || display === 'none') {{\n",
       "            console.log([gd, 'removed!']);\n",
       "            Plotly.purge(gd);\n",
       "            observer.disconnect();\n",
       "        }}\n",
       "}});\n",
       "\n",
       "// Listen for the removal of the full notebook cells\n",
       "var notebookContainer = gd.closest('#notebook-container');\n",
       "if (notebookContainer) {{\n",
       "    x.observe(notebookContainer, {childList: true});\n",
       "}}\n",
       "\n",
       "// Listen for the clearing of the current output cell\n",
       "var outputEl = gd.closest('.output');\n",
       "if (outputEl) {{\n",
       "    x.observe(outputEl, {childList: true});\n",
       "}}\n",
       "\n",
       "                        })                };                });            </script>        </div>"
      ]
     },
     "metadata": {},
     "output_type": "display_data"
    }
   ],
   "source": [
    "fig2 = px.pie(\n",
    "    names=df[\"gender\"],\n",
    "    title=\"نسب تحديد الجنس في الوظائف\"\n",
    "\n",
    ")\n",
    "\n",
    "# Show the chart\n",
    "fig2.show()"
   ]
  },
  {
   "cell_type": "code",
   "execution_count": 177,
   "id": "1398090e-6c25-4273-a2bc-8ab0d9e6dfc5",
   "metadata": {},
   "outputs": [],
   "source": [
    "import re\n",
    "\n",
    "def num_extract(text):\n",
    "    match = re.search(r\"\\b\\d+\\.\\d+\\b\", text)\n",
    "    if match:\n",
    "        return float(match.group())\n",
    "    else:\n",
    "        return None\n",
    "\n",
    "df[\"benefits\"] = df[\"benefits\"].apply(num_extract)\n",
    "\n"
   ]
  },
  {
   "cell_type": "code",
   "execution_count": 181,
   "id": "1b02eaa5-2723-4c4a-b2dd-8ad41ef760ae",
   "metadata": {},
   "outputs": [],
   "source": [
    "df_fresh = df[df[\"exper\"] ==0]"
   ]
  },
  {
   "cell_type": "code",
   "execution_count": 205,
   "id": "36d48548-db48-416e-815a-762a30620c68",
   "metadata": {},
   "outputs": [
    {
     "data": {
      "application/vnd.plotly.v1+json": {
       "config": {
        "plotlyServerURL": "https://plot.ly"
       },
       "data": [
        {
         "alignmentgroup": "True",
         "bingroup": "x",
         "hovertemplate": "benefits=%{x}<br>count=%{y}<extra></extra>",
         "legendgroup": "",
         "marker": {
          "color": "#636efa",
          "pattern": {
           "shape": ""
          }
         },
         "name": "",
         "nbinsx": 10,
         "offsetgroup": "",
         "orientation": "v",
         "showlegend": false,
         "type": "histogram",
         "x": [
          5000,
          5000,
          5000,
          5000,
          4500,
          7200,
          4000,
          7200,
          5500,
          5000,
          4000,
          4000,
          4000,
          5500,
          3200,
          4500,
          4500,
          4000,
          4000,
          5500,
          4500,
          4500,
          4000,
          5000,
          4000,
          4170,
          4000,
          4500,
          5500,
          6000,
          4000,
          4500,
          4500,
          4000,
          4000,
          4000,
          4000,
          4000,
          4000,
          4000,
          4000,
          4000,
          7000,
          6000,
          4000,
          4000,
          4000,
          7000,
          5000,
          5500,
          3640,
          5000,
          4000,
          5000,
          5500,
          4000,
          4000,
          7000,
          7000,
          4000,
          4000,
          4000,
          4000,
          4000,
          4000,
          5000,
          4500,
          3000,
          4400,
          4000,
          4000,
          4000,
          4000,
          3200,
          4082,
          4000,
          4000,
          4000,
          4000,
          4000,
          4500,
          4000,
          4082,
          4082,
          6000,
          7000,
          4000,
          4000,
          5000,
          5000,
          5000,
          8400,
          8400,
          8400,
          8400,
          6150,
          6000,
          4400,
          7000,
          4000,
          4000,
          4000,
          4000,
          4000,
          5000,
          5000,
          4000,
          5000,
          4500,
          4000,
          4000,
          4000,
          4000,
          4000,
          6500,
          5000,
          6000,
          3000,
          4000,
          5500,
          4000,
          4000,
          4000,
          4000,
          4000,
          4000,
          4782,
          7000,
          5000,
          6000,
          10000,
          4500,
          4000,
          4500,
          4000,
          4000,
          6000,
          4000,
          4000,
          4000,
          4000,
          4000,
          5000,
          4000,
          6000,
          4000,
          4000,
          4000,
          4000,
          7000,
          4000,
          4000,
          4000,
          5000,
          5000,
          5000,
          4000,
          5000,
          4375,
          6000,
          4000,
          5000,
          4000,
          5500,
          4000,
          5700,
          6000,
          4000,
          4000,
          5000,
          4000,
          6000,
          6000,
          4000,
          4000,
          4000,
          4000,
          4000,
          4444,
          4800,
          6000,
          6000,
          6000,
          6000,
          6000,
          6000,
          5000,
          7000,
          5000,
          4000,
          4500,
          5000,
          4500,
          4000,
          4000,
          4000,
          5000,
          4000,
          4000,
          9200,
          5000,
          4000,
          5600,
          5600,
          5600,
          4000,
          4000,
          5500,
          4800,
          8803,
          4000,
          8803,
          4000,
          7000,
          5000,
          4000,
          4000,
          7000,
          4000,
          4000,
          8000,
          5700,
          5700,
          5700,
          5000,
          5000,
          5000,
          5000,
          4000,
          4000,
          3200,
          4000,
          4000,
          4000,
          6000,
          6000,
          6000,
          3500,
          4000,
          5000,
          4000,
          4000,
          4000,
          5000,
          4000,
          4000,
          5625,
          5000,
          4000,
          5000,
          5000,
          5000,
          5000,
          6000,
          5200,
          4000,
          3600,
          4000,
          4408,
          5000,
          5500,
          4000,
          4000,
          4000,
          5000,
          4000,
          5000,
          4083,
          7000,
          4000,
          4000,
          6500,
          5500,
          4000,
          5000,
          4600,
          4000,
          5000,
          4000,
          8000,
          6000,
          4000,
          4500,
          5000,
          5000,
          4000,
          4000,
          4000,
          4500,
          4000,
          5500,
          4000,
          6250,
          4000,
          4000,
          4000,
          4000,
          4000,
          5500,
          7000,
          4000,
          12325,
          4000,
          5625,
          7000,
          3500,
          6583,
          6583,
          4000,
          6583,
          4000,
          4000,
          4000,
          4000,
          4000,
          4000,
          4000,
          4000,
          4000,
          5500,
          5000,
          4000,
          5000,
          4000,
          4500,
          4000,
          4000,
          4500,
          7000,
          4000,
          4000,
          3500,
          4000,
          5000,
          4000,
          4000,
          6000,
          5000,
          4000,
          8000,
          4000,
          4000,
          5000,
          4000,
          4500,
          4000,
          4000,
          4500,
          4500,
          4500,
          7000,
          4500,
          4500,
          4500,
          4500,
          6000,
          4750,
          5000,
          4000,
          4000,
          4500,
          4000,
          5000,
          4000,
          4000,
          4000,
          4000,
          3500,
          4000,
          4500,
          4000,
          4000,
          4000,
          5000,
          8000,
          5000,
          5000,
          5000,
          5000,
          4000,
          4000,
          4000,
          4000,
          4320,
          4630,
          4375,
          4500,
          4500,
          4500,
          4000,
          4500,
          4500,
          4500,
          4000,
          4630,
          4630,
          5000,
          4000,
          7000,
          4000,
          6000,
          4000,
          5000,
          6000,
          5000,
          5000,
          7000,
          8500,
          4000,
          5000,
          5200,
          4625,
          4000,
          4500,
          4000,
          4500,
          4500,
          8000,
          6500,
          6500,
          5000,
          5000,
          7000,
          4500,
          4500,
          5500,
          5500,
          4500,
          4000,
          5700,
          10250,
          4500,
          4500,
          4500,
          4000,
          4000,
          4000,
          5000,
          4000,
          4000,
          4000,
          4000,
          4000,
          4000,
          4000,
          4000,
          4000,
          5040,
          4500,
          4000,
          5000,
          4500,
          4000,
          4000,
          4000,
          4000,
          7000,
          4050,
          4000,
          4000,
          8400,
          8400,
          4000,
          4000,
          4000,
          5000,
          3500,
          4000,
          5000,
          6500,
          4000,
          4000,
          5600,
          7000,
          3500,
          5000,
          4500,
          4500,
          4000,
          4000,
          5000,
          4000,
          5000,
          5000,
          6500,
          6000,
          5000,
          5000,
          4200,
          3200,
          4000,
          4000,
          4000,
          4000,
          5000,
          5000,
          4000,
          4000,
          4000,
          4000,
          4000,
          4200,
          4000,
          4000,
          4000,
          4082,
          4000,
          4000,
          6000,
          4000,
          3200,
          4000,
          3200,
          4000,
          4000,
          4000,
          5700,
          4000,
          4000,
          4000,
          4000,
          5000,
          5000,
          4000,
          4000,
          3000,
          4200,
          4000,
          5000,
          4000,
          4000,
          4000,
          4000,
          4000,
          4000,
          7500,
          4000,
          4000,
          4000,
          5271,
          4000,
          4667,
          3200,
          4082,
          4000,
          4000,
          4000,
          4000,
          4000,
          4500,
          5500,
          4000,
          4000,
          4000,
          4000,
          4000,
          4000,
          3640,
          4500,
          4000,
          4000,
          4000,
          4000,
          4001,
          4500,
          5500,
          4000,
          4000,
          4000,
          4000,
          4000,
          4000,
          5200,
          5500,
          4000,
          4000,
          6000,
          5000,
          5700,
          5700,
          5700,
          5625,
          5500,
          5000,
          5000,
          7000,
          4500,
          6000,
          5500,
          8000,
          8000,
          4000,
          4000,
          3200,
          5000,
          5000,
          5000,
          4000,
          6000,
          6000,
          4000,
          6000,
          5500,
          5000,
          5000,
          5000,
          4000,
          4000,
          4000,
          4000,
          5000,
          6500,
          6000,
          6000,
          6000,
          6000,
          5000,
          5000,
          5000,
          5000,
          4000,
          7000,
          4000,
          4000,
          4000,
          6000,
          4000,
          3200,
          4000,
          3200,
          4000,
          4000,
          5700,
          4000,
          4000,
          4000,
          5000,
          5000,
          3000,
          5000,
          4000,
          4000,
          7757,
          5700,
          4000,
          4000,
          4500,
          3200,
          4500,
          4500,
          3500,
          6000,
          4000,
          4000,
          4000,
          6000,
          4000,
          4500,
          4500,
          4000,
          4000,
          4500,
          4500,
          4000,
          4500,
          4500,
          3500,
          4000,
          4000,
          3600,
          3600,
          4000,
          6000,
          4000,
          4000,
          4000,
          4000,
          6000,
          4000,
          4200,
          8000,
          6000,
          4500,
          5000,
          6000,
          4000,
          4082,
          10000,
          4000,
          4000,
          5000,
          4000,
          4000,
          4000,
          4082,
          5000,
          6000,
          4000,
          7500,
          4000,
          4000,
          4000,
          6000,
          4000,
          4000,
          4900,
          5000,
          5000,
          5500,
          6000,
          3000,
          4000,
          4000,
          4000,
          6000,
          4200,
          4000,
          5000,
          4000,
          4000,
          3500,
          6000,
          7000,
          4500,
          5500,
          4000,
          4000,
          4000,
          4000,
          4000,
          5000,
          4000,
          4000,
          4000,
          4000,
          4000,
          4000,
          4000,
          4000,
          4000,
          4000,
          6000,
          6000,
          4000,
          5500,
          5500,
          5500,
          4000,
          4000,
          4000,
          7000,
          4000,
          5000,
          6000,
          7000,
          7000,
          4000,
          4500,
          4500,
          5500,
          4000,
          5000,
          4000,
          4000,
          4000,
          5000,
          4000,
          4000,
          4900,
          4000,
          4000,
          4000,
          4000,
          4000,
          4500,
          4000,
          4000,
          5000,
          4500,
          4000,
          4000,
          4000,
          4000,
          4000,
          4000,
          4000,
          4000,
          7000,
          4000,
          4000,
          4000,
          7000,
          7000,
          7000,
          4000,
          4000,
          4000,
          4000,
          4000,
          4000,
          4000,
          4500,
          5500,
          4500,
          4500,
          4000,
          4500,
          6500,
          5000,
          5556,
          4000,
          4000,
          5000,
          4000,
          4000,
          5500,
          4000
         ],
         "xaxis": "x",
         "yaxis": "y"
        }
       ],
       "layout": {
        "autosize": true,
        "barmode": "relative",
        "legend": {
         "tracegroupgap": 0
        },
        "template": {
         "data": {
          "bar": [
           {
            "error_x": {
             "color": "#2a3f5f"
            },
            "error_y": {
             "color": "#2a3f5f"
            },
            "marker": {
             "line": {
              "color": "#E5ECF6",
              "width": 0.5
             },
             "pattern": {
              "fillmode": "overlay",
              "size": 10,
              "solidity": 0.2
             }
            },
            "type": "bar"
           }
          ],
          "barpolar": [
           {
            "marker": {
             "line": {
              "color": "#E5ECF6",
              "width": 0.5
             },
             "pattern": {
              "fillmode": "overlay",
              "size": 10,
              "solidity": 0.2
             }
            },
            "type": "barpolar"
           }
          ],
          "carpet": [
           {
            "aaxis": {
             "endlinecolor": "#2a3f5f",
             "gridcolor": "white",
             "linecolor": "white",
             "minorgridcolor": "white",
             "startlinecolor": "#2a3f5f"
            },
            "baxis": {
             "endlinecolor": "#2a3f5f",
             "gridcolor": "white",
             "linecolor": "white",
             "minorgridcolor": "white",
             "startlinecolor": "#2a3f5f"
            },
            "type": "carpet"
           }
          ],
          "choropleth": [
           {
            "colorbar": {
             "outlinewidth": 0,
             "ticks": ""
            },
            "type": "choropleth"
           }
          ],
          "contour": [
           {
            "colorbar": {
             "outlinewidth": 0,
             "ticks": ""
            },
            "colorscale": [
             [
              0,
              "#0d0887"
             ],
             [
              0.1111111111111111,
              "#46039f"
             ],
             [
              0.2222222222222222,
              "#7201a8"
             ],
             [
              0.3333333333333333,
              "#9c179e"
             ],
             [
              0.4444444444444444,
              "#bd3786"
             ],
             [
              0.5555555555555556,
              "#d8576b"
             ],
             [
              0.6666666666666666,
              "#ed7953"
             ],
             [
              0.7777777777777778,
              "#fb9f3a"
             ],
             [
              0.8888888888888888,
              "#fdca26"
             ],
             [
              1,
              "#f0f921"
             ]
            ],
            "type": "contour"
           }
          ],
          "contourcarpet": [
           {
            "colorbar": {
             "outlinewidth": 0,
             "ticks": ""
            },
            "type": "contourcarpet"
           }
          ],
          "heatmap": [
           {
            "colorbar": {
             "outlinewidth": 0,
             "ticks": ""
            },
            "colorscale": [
             [
              0,
              "#0d0887"
             ],
             [
              0.1111111111111111,
              "#46039f"
             ],
             [
              0.2222222222222222,
              "#7201a8"
             ],
             [
              0.3333333333333333,
              "#9c179e"
             ],
             [
              0.4444444444444444,
              "#bd3786"
             ],
             [
              0.5555555555555556,
              "#d8576b"
             ],
             [
              0.6666666666666666,
              "#ed7953"
             ],
             [
              0.7777777777777778,
              "#fb9f3a"
             ],
             [
              0.8888888888888888,
              "#fdca26"
             ],
             [
              1,
              "#f0f921"
             ]
            ],
            "type": "heatmap"
           }
          ],
          "heatmapgl": [
           {
            "colorbar": {
             "outlinewidth": 0,
             "ticks": ""
            },
            "colorscale": [
             [
              0,
              "#0d0887"
             ],
             [
              0.1111111111111111,
              "#46039f"
             ],
             [
              0.2222222222222222,
              "#7201a8"
             ],
             [
              0.3333333333333333,
              "#9c179e"
             ],
             [
              0.4444444444444444,
              "#bd3786"
             ],
             [
              0.5555555555555556,
              "#d8576b"
             ],
             [
              0.6666666666666666,
              "#ed7953"
             ],
             [
              0.7777777777777778,
              "#fb9f3a"
             ],
             [
              0.8888888888888888,
              "#fdca26"
             ],
             [
              1,
              "#f0f921"
             ]
            ],
            "type": "heatmapgl"
           }
          ],
          "histogram": [
           {
            "marker": {
             "pattern": {
              "fillmode": "overlay",
              "size": 10,
              "solidity": 0.2
             }
            },
            "type": "histogram"
           }
          ],
          "histogram2d": [
           {
            "colorbar": {
             "outlinewidth": 0,
             "ticks": ""
            },
            "colorscale": [
             [
              0,
              "#0d0887"
             ],
             [
              0.1111111111111111,
              "#46039f"
             ],
             [
              0.2222222222222222,
              "#7201a8"
             ],
             [
              0.3333333333333333,
              "#9c179e"
             ],
             [
              0.4444444444444444,
              "#bd3786"
             ],
             [
              0.5555555555555556,
              "#d8576b"
             ],
             [
              0.6666666666666666,
              "#ed7953"
             ],
             [
              0.7777777777777778,
              "#fb9f3a"
             ],
             [
              0.8888888888888888,
              "#fdca26"
             ],
             [
              1,
              "#f0f921"
             ]
            ],
            "type": "histogram2d"
           }
          ],
          "histogram2dcontour": [
           {
            "colorbar": {
             "outlinewidth": 0,
             "ticks": ""
            },
            "colorscale": [
             [
              0,
              "#0d0887"
             ],
             [
              0.1111111111111111,
              "#46039f"
             ],
             [
              0.2222222222222222,
              "#7201a8"
             ],
             [
              0.3333333333333333,
              "#9c179e"
             ],
             [
              0.4444444444444444,
              "#bd3786"
             ],
             [
              0.5555555555555556,
              "#d8576b"
             ],
             [
              0.6666666666666666,
              "#ed7953"
             ],
             [
              0.7777777777777778,
              "#fb9f3a"
             ],
             [
              0.8888888888888888,
              "#fdca26"
             ],
             [
              1,
              "#f0f921"
             ]
            ],
            "type": "histogram2dcontour"
           }
          ],
          "mesh3d": [
           {
            "colorbar": {
             "outlinewidth": 0,
             "ticks": ""
            },
            "type": "mesh3d"
           }
          ],
          "parcoords": [
           {
            "line": {
             "colorbar": {
              "outlinewidth": 0,
              "ticks": ""
             }
            },
            "type": "parcoords"
           }
          ],
          "pie": [
           {
            "automargin": true,
            "type": "pie"
           }
          ],
          "scatter": [
           {
            "fillpattern": {
             "fillmode": "overlay",
             "size": 10,
             "solidity": 0.2
            },
            "type": "scatter"
           }
          ],
          "scatter3d": [
           {
            "line": {
             "colorbar": {
              "outlinewidth": 0,
              "ticks": ""
             }
            },
            "marker": {
             "colorbar": {
              "outlinewidth": 0,
              "ticks": ""
             }
            },
            "type": "scatter3d"
           }
          ],
          "scattercarpet": [
           {
            "marker": {
             "colorbar": {
              "outlinewidth": 0,
              "ticks": ""
             }
            },
            "type": "scattercarpet"
           }
          ],
          "scattergeo": [
           {
            "marker": {
             "colorbar": {
              "outlinewidth": 0,
              "ticks": ""
             }
            },
            "type": "scattergeo"
           }
          ],
          "scattergl": [
           {
            "marker": {
             "colorbar": {
              "outlinewidth": 0,
              "ticks": ""
             }
            },
            "type": "scattergl"
           }
          ],
          "scattermapbox": [
           {
            "marker": {
             "colorbar": {
              "outlinewidth": 0,
              "ticks": ""
             }
            },
            "type": "scattermapbox"
           }
          ],
          "scatterpolar": [
           {
            "marker": {
             "colorbar": {
              "outlinewidth": 0,
              "ticks": ""
             }
            },
            "type": "scatterpolar"
           }
          ],
          "scatterpolargl": [
           {
            "marker": {
             "colorbar": {
              "outlinewidth": 0,
              "ticks": ""
             }
            },
            "type": "scatterpolargl"
           }
          ],
          "scatterternary": [
           {
            "marker": {
             "colorbar": {
              "outlinewidth": 0,
              "ticks": ""
             }
            },
            "type": "scatterternary"
           }
          ],
          "surface": [
           {
            "colorbar": {
             "outlinewidth": 0,
             "ticks": ""
            },
            "colorscale": [
             [
              0,
              "#0d0887"
             ],
             [
              0.1111111111111111,
              "#46039f"
             ],
             [
              0.2222222222222222,
              "#7201a8"
             ],
             [
              0.3333333333333333,
              "#9c179e"
             ],
             [
              0.4444444444444444,
              "#bd3786"
             ],
             [
              0.5555555555555556,
              "#d8576b"
             ],
             [
              0.6666666666666666,
              "#ed7953"
             ],
             [
              0.7777777777777778,
              "#fb9f3a"
             ],
             [
              0.8888888888888888,
              "#fdca26"
             ],
             [
              1,
              "#f0f921"
             ]
            ],
            "type": "surface"
           }
          ],
          "table": [
           {
            "cells": {
             "fill": {
              "color": "#EBF0F8"
             },
             "line": {
              "color": "white"
             }
            },
            "header": {
             "fill": {
              "color": "#C8D4E3"
             },
             "line": {
              "color": "white"
             }
            },
            "type": "table"
           }
          ]
         },
         "layout": {
          "annotationdefaults": {
           "arrowcolor": "#2a3f5f",
           "arrowhead": 0,
           "arrowwidth": 1
          },
          "autotypenumbers": "strict",
          "coloraxis": {
           "colorbar": {
            "outlinewidth": 0,
            "ticks": ""
           }
          },
          "colorscale": {
           "diverging": [
            [
             0,
             "#8e0152"
            ],
            [
             0.1,
             "#c51b7d"
            ],
            [
             0.2,
             "#de77ae"
            ],
            [
             0.3,
             "#f1b6da"
            ],
            [
             0.4,
             "#fde0ef"
            ],
            [
             0.5,
             "#f7f7f7"
            ],
            [
             0.6,
             "#e6f5d0"
            ],
            [
             0.7,
             "#b8e186"
            ],
            [
             0.8,
             "#7fbc41"
            ],
            [
             0.9,
             "#4d9221"
            ],
            [
             1,
             "#276419"
            ]
           ],
           "sequential": [
            [
             0,
             "#0d0887"
            ],
            [
             0.1111111111111111,
             "#46039f"
            ],
            [
             0.2222222222222222,
             "#7201a8"
            ],
            [
             0.3333333333333333,
             "#9c179e"
            ],
            [
             0.4444444444444444,
             "#bd3786"
            ],
            [
             0.5555555555555556,
             "#d8576b"
            ],
            [
             0.6666666666666666,
             "#ed7953"
            ],
            [
             0.7777777777777778,
             "#fb9f3a"
            ],
            [
             0.8888888888888888,
             "#fdca26"
            ],
            [
             1,
             "#f0f921"
            ]
           ],
           "sequentialminus": [
            [
             0,
             "#0d0887"
            ],
            [
             0.1111111111111111,
             "#46039f"
            ],
            [
             0.2222222222222222,
             "#7201a8"
            ],
            [
             0.3333333333333333,
             "#9c179e"
            ],
            [
             0.4444444444444444,
             "#bd3786"
            ],
            [
             0.5555555555555556,
             "#d8576b"
            ],
            [
             0.6666666666666666,
             "#ed7953"
            ],
            [
             0.7777777777777778,
             "#fb9f3a"
            ],
            [
             0.8888888888888888,
             "#fdca26"
            ],
            [
             1,
             "#f0f921"
            ]
           ]
          },
          "colorway": [
           "#636efa",
           "#EF553B",
           "#00cc96",
           "#ab63fa",
           "#FFA15A",
           "#19d3f3",
           "#FF6692",
           "#B6E880",
           "#FF97FF",
           "#FECB52"
          ],
          "font": {
           "color": "#2a3f5f"
          },
          "geo": {
           "bgcolor": "white",
           "lakecolor": "white",
           "landcolor": "#E5ECF6",
           "showlakes": true,
           "showland": true,
           "subunitcolor": "white"
          },
          "hoverlabel": {
           "align": "left"
          },
          "hovermode": "closest",
          "mapbox": {
           "style": "light"
          },
          "paper_bgcolor": "white",
          "plot_bgcolor": "#E5ECF6",
          "polar": {
           "angularaxis": {
            "gridcolor": "white",
            "linecolor": "white",
            "ticks": ""
           },
           "bgcolor": "#E5ECF6",
           "radialaxis": {
            "gridcolor": "white",
            "linecolor": "white",
            "ticks": ""
           }
          },
          "scene": {
           "xaxis": {
            "backgroundcolor": "#E5ECF6",
            "gridcolor": "white",
            "gridwidth": 2,
            "linecolor": "white",
            "showbackground": true,
            "ticks": "",
            "zerolinecolor": "white"
           },
           "yaxis": {
            "backgroundcolor": "#E5ECF6",
            "gridcolor": "white",
            "gridwidth": 2,
            "linecolor": "white",
            "showbackground": true,
            "ticks": "",
            "zerolinecolor": "white"
           },
           "zaxis": {
            "backgroundcolor": "#E5ECF6",
            "gridcolor": "white",
            "gridwidth": 2,
            "linecolor": "white",
            "showbackground": true,
            "ticks": "",
            "zerolinecolor": "white"
           }
          },
          "shapedefaults": {
           "line": {
            "color": "#2a3f5f"
           }
          },
          "ternary": {
           "aaxis": {
            "gridcolor": "white",
            "linecolor": "white",
            "ticks": ""
           },
           "baxis": {
            "gridcolor": "white",
            "linecolor": "white",
            "ticks": ""
           },
           "bgcolor": "#E5ECF6",
           "caxis": {
            "gridcolor": "white",
            "linecolor": "white",
            "ticks": ""
           }
          },
          "title": {
           "x": 0.05
          },
          "xaxis": {
           "automargin": true,
           "gridcolor": "white",
           "linecolor": "white",
           "ticks": "",
           "title": {
            "standoff": 15
           },
           "zerolinecolor": "white",
           "zerolinewidth": 2
          },
          "yaxis": {
           "automargin": true,
           "gridcolor": "white",
           "linecolor": "white",
           "ticks": "",
           "title": {
            "standoff": 15
           },
           "zerolinecolor": "white",
           "zerolinewidth": 2
          }
         }
        },
        "title": {
         "text": "الرواتب المتوقعة لحديث التخرج"
        },
        "xaxis": {
         "anchor": "y",
         "autorange": true,
         "domain": [
          0,
          1
         ],
         "range": [
          2999.5,
          12999.5
         ],
         "title": {
          "text": "benefits"
         },
         "type": "linear"
        },
        "yaxis": {
         "anchor": "x",
         "autorange": true,
         "domain": [
          0,
          1
         ],
         "range": [
          0,
          522.1052631578947
         ],
         "title": {
          "text": "count"
         }
        }
       }
      },
      "image/png": "[encoded data removed]",
      "text/html": [
       "<div>                            <div id=\"b5e5116e-032e-4ac5-a70e-575ccc6922b3\" class=\"plotly-graph-div\" style=\"height:525px; width:100%;\"></div>            <script type=\"text/javascript\">                require([\"plotly\"], function(Plotly) {                    window.PLOTLYENV=window.PLOTLYENV || {};                                    if (document.getElementById(\"b5e5116e-032e-4ac5-a70e-575ccc6922b3\")) {                    Plotly.newPlot(                        \"b5e5116e-032e-4ac5-a70e-575ccc6922b3\",                        [{\"alignmentgroup\":\"True\",\"bingroup\":\"x\",\"hovertemplate\":\"benefits=%{x}\\u003cbr\\u003ecount=%{y}\\u003cextra\\u003e\\u003c\\u002fextra\\u003e\",\"legendgroup\":\"\",\"marker\":{\"color\":\"#636efa\",\"pattern\":{\"shape\":\"\"}},\"name\":\"\",\"nbinsx\":10,\"offsetgroup\":\"\",\"orientation\":\"v\",\"showlegend\":false,\"x\":[5000.0,5000.0,5000.0,5000.0,4500.0,7200.0,4000.0,7200.0,5500.0,5000.0,4000.0,4000.0,4000.0,5500.0,3200.0,4500.0,4500.0,4000.0,4000.0,5500.0,4500.0,4500.0,4000.0,5000.0,4000.0,4170.0,4000.0,4500.0,5500.0,6000.0,4000.0,4500.0,4500.0,4000.0,4000.0,4000.0,4000.0,4000.0,4000.0,4000.0,4000.0,4000.0,7000.0,6000.0,4000.0,4000.0,4000.0,7000.0,5000.0,5500.0,3640.0,5000.0,4000.0,5000.0,5500.0,4000.0,4000.0,7000.0,7000.0,4000.0,4000.0,4000.0,4000.0,4000.0,4000.0,5000.0,4500.0,3000.0,4400.0,4000.0,4000.0,4000.0,4000.0,3200.0,4082.0,4000.0,4000.0,4000.0,4000.0,4000.0,4500.0,4000.0,4082.0,4082.0,6000.0,7000.0,4000.0,4000.0,5000.0,5000.0,5000.0,8400.0,8400.0,8400.0,8400.0,6150.0,6000.0,4400.0,7000.0,4000.0,4000.0,4000.0,4000.0,4000.0,5000.0,5000.0,4000.0,5000.0,4500.0,4000.0,4000.0,4000.0,4000.0,4000.0,6500.0,5000.0,6000.0,3000.0,4000.0,5500.0,4000.0,4000.0,4000.0,4000.0,4000.0,4000.0,4782.0,7000.0,5000.0,6000.0,10000.0,4500.0,4000.0,4500.0,4000.0,4000.0,6000.0,4000.0,4000.0,4000.0,4000.0,4000.0,5000.0,4000.0,6000.0,4000.0,4000.0,4000.0,4000.0,7000.0,4000.0,4000.0,4000.0,5000.0,5000.0,5000.0,4000.0,5000.0,4375.0,6000.0,4000.0,5000.0,4000.0,5500.0,4000.0,5700.0,6000.0,4000.0,4000.0,5000.0,4000.0,6000.0,6000.0,4000.0,4000.0,4000.0,4000.0,4000.0,4444.0,4800.0,6000.0,6000.0,6000.0,6000.0,6000.0,6000.0,5000.0,7000.0,5000.0,4000.0,4500.0,5000.0,4500.0,4000.0,4000.0,4000.0,5000.0,4000.0,4000.0,9200.0,5000.0,4000.0,5600.0,5600.0,5600.0,4000.0,4000.0,5500.0,4800.0,8803.0,4000.0,8803.0,4000.0,7000.0,5000.0,4000.0,4000.0,7000.0,4000.0,4000.0,8000.0,5700.0,5700.0,5700.0,5000.0,5000.0,5000.0,5000.0,4000.0,4000.0,3200.0,4000.0,4000.0,4000.0,6000.0,6000.0,6000.0,3500.0,4000.0,5000.0,4000.0,4000.0,4000.0,5000.0,4000.0,4000.0,5625.0,5000.0,4000.0,5000.0,5000.0,5000.0,5000.0,6000.0,5200.0,4000.0,3600.0,4000.0,4408.0,5000.0,5500.0,4000.0,4000.0,4000.0,5000.0,4000.0,5000.0,4083.0,7000.0,4000.0,4000.0,6500.0,5500.0,4000.0,5000.0,4600.0,4000.0,5000.0,4000.0,8000.0,6000.0,4000.0,4500.0,5000.0,5000.0,4000.0,4000.0,4000.0,4500.0,4000.0,5500.0,4000.0,6250.0,4000.0,4000.0,4000.0,4000.0,4000.0,5500.0,7000.0,4000.0,12325.0,4000.0,5625.0,7000.0,3500.0,6583.0,6583.0,4000.0,6583.0,4000.0,4000.0,4000.0,4000.0,4000.0,4000.0,4000.0,4000.0,4000.0,5500.0,5000.0,4000.0,5000.0,4000.0,4500.0,4000.0,4000.0,4500.0,7000.0,4000.0,4000.0,3500.0,4000.0,5000.0,4000.0,4000.0,6000.0,5000.0,4000.0,8000.0,4000.0,4000.0,5000.0,4000.0,4500.0,4000.0,4000.0,4500.0,4500.0,4500.0,7000.0,4500.0,4500.0,4500.0,4500.0,6000.0,4750.0,5000.0,4000.0,4000.0,4500.0,4000.0,5000.0,4000.0,4000.0,4000.0,4000.0,3500.0,4000.0,4500.0,4000.0,4000.0,4000.0,5000.0,8000.0,5000.0,5000.0,5000.0,5000.0,4000.0,4000.0,4000.0,4000.0,4320.0,4630.0,4375.0,4500.0,4500.0,4500.0,4000.0,4500.0,4500.0,4500.0,4000.0,4630.0,4630.0,5000.0,4000.0,7000.0,4000.0,6000.0,4000.0,5000.0,6000.0,5000.0,5000.0,7000.0,8500.0,4000.0,5000.0,5200.0,4625.0,4000.0,4500.0,4000.0,4500.0,4500.0,8000.0,6500.0,6500.0,5000.0,5000.0,7000.0,4500.0,4500.0,5500.0,5500.0,4500.0,4000.0,5700.0,10250.0,4500.0,4500.0,4500.0,4000.0,4000.0,4000.0,5000.0,4000.0,4000.0,4000.0,4000.0,4000.0,4000.0,4000.0,4000.0,4000.0,5040.0,4500.0,4000.0,5000.0,4500.0,4000.0,4000.0,4000.0,4000.0,7000.0,4050.0,4000.0,4000.0,8400.0,8400.0,4000.0,4000.0,4000.0,5000.0,3500.0,4000.0,5000.0,6500.0,4000.0,4000.0,5600.0,7000.0,3500.0,5000.0,4500.0,4500.0,4000.0,4000.0,5000.0,4000.0,5000.0,5000.0,6500.0,6000.0,5000.0,5000.0,4200.0,3200.0,4000.0,4000.0,4000.0,4000.0,5000.0,5000.0,4000.0,4000.0,4000.0,4000.0,4000.0,4200.0,4000.0,4000.0,4000.0,4082.0,4000.0,4000.0,6000.0,4000.0,3200.0,4000.0,3200.0,4000.0,4000.0,4000.0,5700.0,4000.0,4000.0,4000.0,4000.0,5000.0,5000.0,4000.0,4000.0,3000.0,4200.0,4000.0,5000.0,4000.0,4000.0,4000.0,4000.0,4000.0,4000.0,7500.0,4000.0,4000.0,4000.0,5271.0,4000.0,4667.0,3200.0,4082.0,4000.0,4000.0,4000.0,4000.0,4000.0,4500.0,5500.0,4000.0,4000.0,4000.0,4000.0,4000.0,4000.0,3640.0,4500.0,4000.0,4000.0,4000.0,4000.0,4001.0,4500.0,5500.0,4000.0,4000.0,4000.0,4000.0,4000.0,4000.0,5200.0,5500.0,4000.0,4000.0,6000.0,5000.0,5700.0,5700.0,5700.0,5625.0,5500.0,5000.0,5000.0,7000.0,4500.0,6000.0,5500.0,8000.0,8000.0,4000.0,4000.0,3200.0,5000.0,5000.0,5000.0,4000.0,6000.0,6000.0,4000.0,6000.0,5500.0,5000.0,5000.0,5000.0,4000.0,4000.0,4000.0,4000.0,5000.0,6500.0,6000.0,6000.0,6000.0,6000.0,5000.0,5000.0,5000.0,5000.0,4000.0,7000.0,4000.0,4000.0,4000.0,6000.0,4000.0,3200.0,4000.0,3200.0,4000.0,4000.0,5700.0,4000.0,4000.0,4000.0,5000.0,5000.0,3000.0,5000.0,4000.0,4000.0,7757.0,5700.0,4000.0,4000.0,4500.0,3200.0,4500.0,4500.0,3500.0,6000.0,4000.0,4000.0,4000.0,6000.0,4000.0,4500.0,4500.0,4000.0,4000.0,4500.0,4500.0,4000.0,4500.0,4500.0,3500.0,4000.0,4000.0,3600.0,3600.0,4000.0,6000.0,4000.0,4000.0,4000.0,4000.0,6000.0,4000.0,4200.0,8000.0,6000.0,4500.0,5000.0,6000.0,4000.0,4082.0,10000.0,4000.0,4000.0,5000.0,4000.0,4000.0,4000.0,4082.0,5000.0,6000.0,4000.0,7500.0,4000.0,4000.0,4000.0,6000.0,4000.0,4000.0,4900.0,5000.0,5000.0,5500.0,6000.0,3000.0,4000.0,4000.0,4000.0,6000.0,4200.0,4000.0,5000.0,4000.0,4000.0,3500.0,6000.0,7000.0,4500.0,5500.0,4000.0,4000.0,4000.0,4000.0,4000.0,5000.0,4000.0,4000.0,4000.0,4000.0,4000.0,4000.0,4000.0,4000.0,4000.0,4000.0,6000.0,6000.0,4000.0,5500.0,5500.0,5500.0,4000.0,4000.0,4000.0,7000.0,4000.0,5000.0,6000.0,7000.0,7000.0,4000.0,4500.0,4500.0,5500.0,4000.0,5000.0,4000.0,4000.0,4000.0,5000.0,4000.0,4000.0,4900.0,4000.0,4000.0,4000.0,4000.0,4000.0,4500.0,4000.0,4000.0,5000.0,4500.0,4000.0,4000.0,4000.0,4000.0,4000.0,4000.0,4000.0,4000.0,7000.0,4000.0,4000.0,4000.0,7000.0,7000.0,7000.0,4000.0,4000.0,4000.0,4000.0,4000.0,4000.0,4000.0,4500.0,5500.0,4500.0,4500.0,4000.0,4500.0,6500.0,5000.0,5556.0,4000.0,4000.0,5000.0,4000.0,4000.0,5500.0,4000.0],\"xaxis\":\"x\",\"yaxis\":\"y\",\"type\":\"histogram\"}],                        {\"template\":{\"data\":{\"histogram2dcontour\":[{\"type\":\"histogram2dcontour\",\"colorbar\":{\"outlinewidth\":0,\"ticks\":\"\"},\"colorscale\":[[0.0,\"#0d0887\"],[0.1111111111111111,\"#46039f\"],[0.2222222222222222,\"#7201a8\"],[0.3333333333333333,\"#9c179e\"],[0.4444444444444444,\"#bd3786\"],[0.5555555555555556,\"#d8576b\"],[0.6666666666666666,\"#ed7953\"],[0.7777777777777778,\"#fb9f3a\"],[0.8888888888888888,\"#fdca26\"],[1.0,\"#f0f921\"]]}],\"choropleth\":[{\"type\":\"choropleth\",\"colorbar\":{\"outlinewidth\":0,\"ticks\":\"\"}}],\"histogram2d\":[{\"type\":\"histogram2d\",\"colorbar\":{\"outlinewidth\":0,\"ticks\":\"\"},\"colorscale\":[[0.0,\"#0d0887\"],[0.1111111111111111,\"#46039f\"],[0.2222222222222222,\"#7201a8\"],[0.3333333333333333,\"#9c179e\"],[0.4444444444444444,\"#bd3786\"],[0.5555555555555556,\"#d8576b\"],[0.6666666666666666,\"#ed7953\"],[0.7777777777777778,\"#fb9f3a\"],[0.8888888888888888,\"#fdca26\"],[1.0,\"#f0f921\"]]}],\"heatmap\":[{\"type\":\"heatmap\",\"colorbar\":{\"outlinewidth\":0,\"ticks\":\"\"},\"colorscale\":[[0.0,\"#0d0887\"],[0.1111111111111111,\"#46039f\"],[0.2222222222222222,\"#7201a8\"],[0.3333333333333333,\"#9c179e\"],[0.4444444444444444,\"#bd3786\"],[0.5555555555555556,\"#d8576b\"],[0.6666666666666666,\"#ed7953\"],[0.7777777777777778,\"#fb9f3a\"],[0.8888888888888888,\"#fdca26\"],[1.0,\"#f0f921\"]]}],\"heatmapgl\":[{\"type\":\"heatmapgl\",\"colorbar\":{\"outlinewidth\":0,\"ticks\":\"\"},\"colorscale\":[[0.0,\"#0d0887\"],[0.1111111111111111,\"#46039f\"],[0.2222222222222222,\"#7201a8\"],[0.3333333333333333,\"#9c179e\"],[0.4444444444444444,\"#bd3786\"],[0.5555555555555556,\"#d8576b\"],[0.6666666666666666,\"#ed7953\"],[0.7777777777777778,\"#fb9f3a\"],[0.8888888888888888,\"#fdca26\"],[1.0,\"#f0f921\"]]}],\"contourcarpet\":[{\"type\":\"contourcarpet\",\"colorbar\":{\"outlinewidth\":0,\"ticks\":\"\"}}],\"contour\":[{\"type\":\"contour\",\"colorbar\":{\"outlinewidth\":0,\"ticks\":\"\"},\"colorscale\":[[0.0,\"#0d0887\"],[0.1111111111111111,\"#46039f\"],[0.2222222222222222,\"#7201a8\"],[0.3333333333333333,\"#9c179e\"],[0.4444444444444444,\"#bd3786\"],[0.5555555555555556,\"#d8576b\"],[0.6666666666666666,\"#ed7953\"],[0.7777777777777778,\"#fb9f3a\"],[0.8888888888888888,\"#fdca26\"],[1.0,\"#f0f921\"]]}],\"surface\":[{\"type\":\"surface\",\"colorbar\":{\"outlinewidth\":0,\"ticks\":\"\"},\"colorscale\":[[0.0,\"#0d0887\"],[0.1111111111111111,\"#46039f\"],[0.2222222222222222,\"#7201a8\"],[0.3333333333333333,\"#9c179e\"],[0.4444444444444444,\"#bd3786\"],[0.5555555555555556,\"#d8576b\"],[0.6666666666666666,\"#ed7953\"],[0.7777777777777778,\"#fb9f3a\"],[0.8888888888888888,\"#fdca26\"],[1.0,\"#f0f921\"]]}],\"mesh3d\":[{\"type\":\"mesh3d\",\"colorbar\":{\"outlinewidth\":0,\"ticks\":\"\"}}],\"scatter\":[{\"fillpattern\":{\"fillmode\":\"overlay\",\"size\":10,\"solidity\":0.2},\"type\":\"scatter\"}],\"parcoords\":[{\"type\":\"parcoords\",\"line\":{\"colorbar\":{\"outlinewidth\":0,\"ticks\":\"\"}}}],\"scatterpolargl\":[{\"type\":\"scatterpolargl\",\"marker\":{\"colorbar\":{\"outlinewidth\":0,\"ticks\":\"\"}}}],\"bar\":[{\"error_x\":{\"color\":\"#2a3f5f\"},\"error_y\":{\"color\":\"#2a3f5f\"},\"marker\":{\"line\":{\"color\":\"#E5ECF6\",\"width\":0.5},\"pattern\":{\"fillmode\":\"overlay\",\"size\":10,\"solidity\":0.2}},\"type\":\"bar\"}],\"scattergeo\":[{\"type\":\"scattergeo\",\"marker\":{\"colorbar\":{\"outlinewidth\":0,\"ticks\":\"\"}}}],\"scatterpolar\":[{\"type\":\"scatterpolar\",\"marker\":{\"colorbar\":{\"outlinewidth\":0,\"ticks\":\"\"}}}],\"histogram\":[{\"marker\":{\"pattern\":{\"fillmode\":\"overlay\",\"size\":10,\"solidity\":0.2}},\"type\":\"histogram\"}],\"scattergl\":[{\"type\":\"scattergl\",\"marker\":{\"colorbar\":{\"outlinewidth\":0,\"ticks\":\"\"}}}],\"scatter3d\":[{\"type\":\"scatter3d\",\"line\":{\"colorbar\":{\"outlinewidth\":0,\"ticks\":\"\"}},\"marker\":{\"colorbar\":{\"outlinewidth\":0,\"ticks\":\"\"}}}],\"scattermapbox\":[{\"type\":\"scattermapbox\",\"marker\":{\"colorbar\":{\"outlinewidth\":0,\"ticks\":\"\"}}}],\"scatterternary\":[{\"type\":\"scatterternary\",\"marker\":{\"colorbar\":{\"outlinewidth\":0,\"ticks\":\"\"}}}],\"scattercarpet\":[{\"type\":\"scattercarpet\",\"marker\":{\"colorbar\":{\"outlinewidth\":0,\"ticks\":\"\"}}}],\"carpet\":[{\"aaxis\":{\"endlinecolor\":\"#2a3f5f\",\"gridcolor\":\"white\",\"linecolor\":\"white\",\"minorgridcolor\":\"white\",\"startlinecolor\":\"#2a3f5f\"},\"baxis\":{\"endlinecolor\":\"#2a3f5f\",\"gridcolor\":\"white\",\"linecolor\":\"white\",\"minorgridcolor\":\"white\",\"startlinecolor\":\"#2a3f5f\"},\"type\":\"carpet\"}],\"table\":[{\"cells\":{\"fill\":{\"color\":\"#EBF0F8\"},\"line\":{\"color\":\"white\"}},\"header\":{\"fill\":{\"color\":\"#C8D4E3\"},\"line\":{\"color\":\"white\"}},\"type\":\"table\"}],\"barpolar\":[{\"marker\":{\"line\":{\"color\":\"#E5ECF6\",\"width\":0.5},\"pattern\":{\"fillmode\":\"overlay\",\"size\":10,\"solidity\":0.2}},\"type\":\"barpolar\"}],\"pie\":[{\"automargin\":true,\"type\":\"pie\"}]},\"layout\":{\"autotypenumbers\":\"strict\",\"colorway\":[\"#636efa\",\"#EF553B\",\"#00cc96\",\"#ab63fa\",\"#FFA15A\",\"#19d3f3\",\"#FF6692\",\"#B6E880\",\"#FF97FF\",\"#FECB52\"],\"font\":{\"color\":\"#2a3f5f\"},\"hovermode\":\"closest\",\"hoverlabel\":{\"align\":\"left\"},\"paper_bgcolor\":\"white\",\"plot_bgcolor\":\"#E5ECF6\",\"polar\":{\"bgcolor\":\"#E5ECF6\",\"angularaxis\":{\"gridcolor\":\"white\",\"linecolor\":\"white\",\"ticks\":\"\"},\"radialaxis\":{\"gridcolor\":\"white\",\"linecolor\":\"white\",\"ticks\":\"\"}},\"ternary\":{\"bgcolor\":\"#E5ECF6\",\"aaxis\":{\"gridcolor\":\"white\",\"linecolor\":\"white\",\"ticks\":\"\"},\"baxis\":{\"gridcolor\":\"white\",\"linecolor\":\"white\",\"ticks\":\"\"},\"caxis\":{\"gridcolor\":\"white\",\"linecolor\":\"white\",\"ticks\":\"\"}},\"coloraxis\":{\"colorbar\":{\"outlinewidth\":0,\"ticks\":\"\"}},\"colorscale\":{\"sequential\":[[0.0,\"#0d0887\"],[0.1111111111111111,\"#46039f\"],[0.2222222222222222,\"#7201a8\"],[0.3333333333333333,\"#9c179e\"],[0.4444444444444444,\"#bd3786\"],[0.5555555555555556,\"#d8576b\"],[0.6666666666666666,\"#ed7953\"],[0.7777777777777778,\"#fb9f3a\"],[0.8888888888888888,\"#fdca26\"],[1.0,\"#f0f921\"]],\"sequentialminus\":[[0.0,\"#0d0887\"],[0.1111111111111111,\"#46039f\"],[0.2222222222222222,\"#7201a8\"],[0.3333333333333333,\"#9c179e\"],[0.4444444444444444,\"#bd3786\"],[0.5555555555555556,\"#d8576b\"],[0.6666666666666666,\"#ed7953\"],[0.7777777777777778,\"#fb9f3a\"],[0.8888888888888888,\"#fdca26\"],[1.0,\"#f0f921\"]],\"diverging\":[[0,\"#8e0152\"],[0.1,\"#c51b7d\"],[0.2,\"#de77ae\"],[0.3,\"#f1b6da\"],[0.4,\"#fde0ef\"],[0.5,\"#f7f7f7\"],[0.6,\"#e6f5d0\"],[0.7,\"#b8e186\"],[0.8,\"#7fbc41\"],[0.9,\"#4d9221\"],[1,\"#276419\"]]},\"xaxis\":{\"gridcolor\":\"white\",\"linecolor\":\"white\",\"ticks\":\"\",\"title\":{\"standoff\":15},\"zerolinecolor\":\"white\",\"automargin\":true,\"zerolinewidth\":2},\"yaxis\":{\"gridcolor\":\"white\",\"linecolor\":\"white\",\"ticks\":\"\",\"title\":{\"standoff\":15},\"zerolinecolor\":\"white\",\"automargin\":true,\"zerolinewidth\":2},\"scene\":{\"xaxis\":{\"backgroundcolor\":\"#E5ECF6\",\"gridcolor\":\"white\",\"linecolor\":\"white\",\"showbackground\":true,\"ticks\":\"\",\"zerolinecolor\":\"white\",\"gridwidth\":2},\"yaxis\":{\"backgroundcolor\":\"#E5ECF6\",\"gridcolor\":\"white\",\"linecolor\":\"white\",\"showbackground\":true,\"ticks\":\"\",\"zerolinecolor\":\"white\",\"gridwidth\":2},\"zaxis\":{\"backgroundcolor\":\"#E5ECF6\",\"gridcolor\":\"white\",\"linecolor\":\"white\",\"showbackground\":true,\"ticks\":\"\",\"zerolinecolor\":\"white\",\"gridwidth\":2}},\"shapedefaults\":{\"line\":{\"color\":\"#2a3f5f\"}},\"annotationdefaults\":{\"arrowcolor\":\"#2a3f5f\",\"arrowhead\":0,\"arrowwidth\":1},\"geo\":{\"bgcolor\":\"white\",\"landcolor\":\"#E5ECF6\",\"subunitcolor\":\"white\",\"showland\":true,\"showlakes\":true,\"lakecolor\":\"white\"},\"title\":{\"x\":0.05},\"mapbox\":{\"style\":\"light\"}}},\"xaxis\":{\"anchor\":\"y\",\"domain\":[0.0,1.0],\"title\":{\"text\":\"benefits\"}},\"yaxis\":{\"anchor\":\"x\",\"domain\":[0.0,1.0],\"title\":{\"text\":\"count\"}},\"legend\":{\"tracegroupgap\":0},\"title\":{\"text\":\"\\u0627\\u0644\\u0631\\u0648\\u0627\\u062a\\u0628 \\u0627\\u0644\\u0645\\u062a\\u0648\\u0642\\u0639\\u0629 \\u0644\\u062d\\u062f\\u064a\\u062b \\u0627\\u0644\\u062a\\u062e\\u0631\\u062c\"},\"barmode\":\"relative\"},                        {\"responsive\": true}                    ).then(function(){\n",
       "                            \n",
       "var gd = document.getElementById('b5e5116e-032e-4ac5-a70e-575ccc6922b3');\n",
       "var x = new MutationObserver(function (mutations, observer) {{\n",
       "        var display = window.getComputedStyle(gd).display;\n",
       "        if (!display || display === 'none') {{\n",
       "            console.log([gd, 'removed!']);\n",
       "            Plotly.purge(gd);\n",
       "            observer.disconnect();\n",
       "        }}\n",
       "}});\n",
       "\n",
       "// Listen for the removal of the full notebook cells\n",
       "var notebookContainer = gd.closest('#notebook-container');\n",
       "if (notebookContainer) {{\n",
       "    x.observe(notebookContainer, {childList: true});\n",
       "}}\n",
       "\n",
       "// Listen for the clearing of the current output cell\n",
       "var outputEl = gd.closest('.output');\n",
       "if (outputEl) {{\n",
       "    x.observe(outputEl, {childList: true});\n",
       "}}\n",
       "\n",
       "                        })                };                });            </script>        </div>"
      ]
     },
     "metadata": {},
     "output_type": "display_data"
    }
   ],
   "source": [
    "fig = px.histogram(df_fresh, x=\"benefits\", title=\"الرواتب المتوقعة لحديث التخرج\", nbins=10)  # Adjust nbins for bin size\n",
    "fig.show()"
   ]
  },
  {
   "cell_type": "code",
   "execution_count": 207,
   "id": "36bbac4e-1b03-4d3c-aded-6b17de930701",
   "metadata": {},
   "outputs": [
    {
     "data": {
      "application/vnd.plotly.v1+json": {
       "config": {
        "plotlyServerURL": "https://plot.ly"
       },
       "data": [
        {
         "domain": {
          "x": [
           0,
           1
          ],
          "y": [
           0,
           1
          ]
         },
         "hovertemplate": "label=%{label}<extra></extra>",
         "labels": [
          0,
          0,
          2,
          0,
          0,
          0,
          4,
          4,
          2,
          4,
          0,
          0,
          0,
          2,
          4,
          2,
          4,
          10,
          2,
          0,
          0,
          2,
          2,
          2,
          0,
          0,
          0,
          2,
          4,
          0,
          2,
          0,
          4,
          4,
          4,
          4,
          0,
          0,
          0,
          2,
          2,
          0,
          2,
          2,
          0,
          0,
          0,
          0,
          2,
          0,
          2,
          0,
          0,
          0,
          0,
          0,
          0,
          2,
          0,
          0,
          0,
          0,
          0,
          2,
          0,
          0,
          2,
          0,
          0,
          0,
          0,
          0,
          0,
          0,
          0,
          0,
          0,
          0,
          0,
          0,
          0,
          4,
          7,
          0,
          0,
          0,
          2,
          0,
          0,
          2,
          2,
          2,
          2,
          0,
          0,
          0,
          2,
          0,
          0,
          2,
          0,
          0,
          0,
          0,
          2,
          0,
          0,
          2,
          2,
          7,
          0,
          0,
          0,
          0,
          0,
          0,
          0,
          0,
          0,
          0,
          0,
          0,
          0,
          0,
          2,
          4,
          2,
          0,
          0,
          0,
          2,
          2,
          0,
          0,
          2,
          2,
          2,
          0,
          0,
          2,
          0,
          0,
          0,
          0,
          0,
          0,
          0,
          0,
          2,
          0,
          0,
          2,
          0,
          2,
          0,
          2,
          0,
          2,
          2,
          0,
          0,
          2,
          7,
          4,
          4,
          7,
          7,
          0,
          0,
          7,
          4,
          2,
          2,
          7,
          2,
          4,
          0,
          4,
          0,
          0,
          0,
          2,
          2,
          4,
          2,
          2,
          0,
          0,
          0,
          0,
          0,
          2,
          2,
          0,
          0,
          0,
          0,
          0,
          2,
          0,
          2,
          4,
          2,
          2,
          0,
          2,
          0,
          2,
          0,
          0,
          2,
          2,
          0,
          2,
          0,
          2,
          4,
          2,
          2,
          2,
          0,
          4,
          0,
          0,
          0,
          2,
          0,
          0,
          12,
          2,
          4,
          2,
          2,
          2,
          2,
          0,
          0,
          0,
          0,
          4,
          2,
          0,
          0,
          0,
          12,
          0,
          0,
          0,
          0,
          0,
          0,
          0,
          2,
          0,
          0,
          2,
          0,
          2,
          2,
          0,
          4,
          0,
          0,
          2,
          0,
          0,
          0,
          0,
          0,
          0,
          0,
          0,
          0,
          4,
          2,
          2,
          0,
          4,
          0,
          0,
          0,
          0,
          2,
          2,
          2,
          0,
          0,
          4,
          4,
          2,
          2,
          0,
          4,
          2,
          2,
          2,
          0,
          2,
          0,
          0,
          0,
          0,
          0,
          0,
          0,
          4,
          0,
          0,
          0,
          2,
          2,
          2,
          0,
          0,
          0,
          0,
          0,
          0,
          0,
          0,
          0,
          2,
          2,
          2,
          0,
          2,
          0,
          0,
          0,
          2,
          0,
          2,
          2,
          2,
          0,
          0,
          0,
          0,
          0,
          2,
          0,
          4,
          4,
          0,
          0,
          0,
          0,
          0,
          2,
          0,
          0,
          2,
          0,
          0,
          0,
          0,
          0,
          2,
          0,
          0,
          0,
          0,
          2,
          0,
          2,
          2,
          0,
          0,
          0,
          0,
          2,
          4,
          2,
          4,
          4,
          0,
          2,
          0,
          0,
          2,
          0,
          0,
          2,
          0,
          0,
          4,
          0,
          0,
          0,
          0,
          0,
          0,
          2,
          2,
          0,
          2,
          2,
          2,
          2,
          0,
          0,
          0,
          2,
          2,
          0,
          4,
          4,
          2,
          0,
          4,
          2,
          2,
          0,
          0,
          0,
          2,
          0,
          7,
          4,
          0,
          0,
          2,
          2,
          7,
          10,
          0,
          2,
          2,
          0,
          0,
          0,
          0,
          0,
          0,
          2,
          0,
          0,
          10,
          2,
          0,
          2,
          2,
          2,
          2,
          0,
          4,
          4,
          4,
          4,
          0,
          2,
          4,
          2,
          12,
          0,
          2,
          0,
          0,
          0,
          0,
          0,
          0,
          0,
          2,
          2,
          4,
          0,
          2,
          0,
          0,
          0,
          2,
          0,
          0,
          2,
          2,
          2,
          2,
          0,
          4,
          2,
          4,
          0,
          0,
          0,
          4,
          0,
          0,
          2,
          0,
          0,
          0,
          0,
          0,
          0,
          2,
          0,
          0,
          2,
          10,
          0,
          0,
          0,
          2,
          4,
          2,
          0,
          0,
          0,
          2,
          0,
          0,
          4,
          4,
          0,
          2,
          0,
          4,
          0,
          0,
          2,
          0,
          0,
          7,
          0,
          2,
          0,
          0,
          2,
          0,
          2,
          0,
          0,
          0,
          0,
          0,
          0,
          0,
          0,
          0,
          0,
          0,
          0,
          0,
          0,
          2,
          2,
          2,
          2,
          2,
          2,
          10,
          4,
          0,
          0,
          0,
          0,
          0,
          0,
          0,
          0,
          0,
          0,
          0,
          4,
          4,
          4,
          7,
          4,
          7,
          10,
          4,
          4,
          4,
          0,
          0,
          0,
          2,
          4,
          0,
          0,
          2,
          2,
          2,
          2,
          0,
          2,
          2,
          2,
          0,
          2,
          0,
          0,
          0,
          0,
          0,
          0,
          0,
          0,
          0,
          0,
          0,
          4,
          4,
          2,
          4,
          0,
          4,
          0,
          0,
          4,
          0,
          0,
          0,
          4,
          4,
          0,
          4,
          7,
          0,
          0,
          2,
          2,
          0,
          2,
          2,
          2,
          4,
          0,
          0,
          0,
          0,
          0,
          2,
          0,
          0,
          0,
          0,
          4,
          0,
          0,
          0,
          0,
          0,
          0,
          2,
          0,
          0,
          2,
          4,
          0,
          2,
          2,
          0,
          0,
          0,
          0,
          2,
          4,
          2,
          0,
          0,
          4,
          0,
          0,
          0,
          0,
          0,
          0,
          2,
          0,
          0,
          0,
          0,
          0,
          0,
          0,
          0,
          0,
          0,
          0,
          0,
          0,
          0,
          0,
          2,
          0,
          0,
          0,
          0,
          0,
          0,
          2,
          2,
          2,
          0,
          0,
          0,
          2,
          2,
          2,
          2,
          0,
          0,
          2,
          2,
          2,
          4,
          0,
          0,
          0,
          0,
          0,
          0,
          0,
          4,
          2,
          2,
          0,
          0,
          2,
          0,
          0,
          0,
          0,
          2,
          2,
          0,
          0,
          0,
          0,
          0,
          2,
          0,
          0,
          2,
          0,
          0,
          10,
          0,
          0,
          2,
          0,
          2,
          0,
          0,
          0,
          0,
          0,
          0,
          0,
          2,
          0,
          2,
          4,
          0,
          0,
          2,
          2,
          0,
          0,
          2,
          0,
          2,
          2,
          2,
          0,
          2,
          0,
          0,
          0,
          0,
          0,
          0,
          2,
          0,
          0,
          2,
          2,
          4,
          2,
          4,
          4,
          2,
          0,
          4,
          0,
          4,
          2,
          0,
          0,
          0,
          4,
          0,
          0,
          0,
          0,
          2,
          2,
          0,
          0,
          2,
          2,
          0,
          0,
          2,
          2,
          0,
          2,
          0,
          2,
          2,
          2,
          0,
          2,
          2,
          0,
          0,
          2,
          4,
          4,
          0,
          0,
          2,
          2,
          4,
          2,
          0,
          0,
          10,
          0,
          0,
          4,
          0,
          2,
          2,
          0,
          0,
          4,
          7,
          0,
          0,
          0,
          4,
          0,
          0,
          0,
          0,
          0,
          0,
          4,
          0,
          0,
          0,
          0,
          0,
          0,
          2,
          0,
          0,
          2,
          0,
          0,
          0,
          0,
          2,
          2,
          4,
          2,
          10,
          2,
          0,
          0,
          0,
          0,
          2,
          0,
          4,
          4,
          4,
          0,
          4,
          7,
          0,
          0,
          0,
          0,
          2,
          2,
          0,
          0,
          0,
          0,
          0,
          4,
          0,
          0,
          0,
          0,
          2,
          0,
          2,
          0,
          0,
          0,
          2,
          4,
          0,
          0,
          0,
          2,
          0,
          0,
          2,
          2,
          0,
          0,
          2,
          0,
          2,
          4,
          4,
          2,
          0,
          2,
          2,
          2,
          2,
          10,
          0,
          0,
          2,
          0,
          0,
          0,
          0,
          2,
          2,
          4,
          2,
          0,
          2,
          2,
          0,
          2,
          0,
          2,
          2,
          0,
          0,
          2,
          2,
          2,
          2,
          0,
          0,
          4,
          0,
          0,
          0,
          0,
          0,
          0,
          0,
          0,
          0,
          0,
          0,
          4,
          0,
          2,
          2,
          0,
          2,
          2,
          0,
          0,
          2,
          0,
          0,
          0,
          2,
          0,
          2,
          2,
          0,
          0,
          2,
          2,
          0,
          0,
          0,
          0,
          2,
          2,
          0,
          0,
          0,
          0,
          4,
          4,
          0,
          0,
          0,
          2,
          2,
          2,
          2,
          2,
          0,
          2,
          0,
          4,
          2,
          0,
          0,
          2,
          2,
          2,
          2,
          0,
          0,
          2,
          0,
          0,
          2,
          0,
          2,
          0,
          0,
          0,
          0,
          0,
          0,
          2,
          0,
          2,
          0,
          2,
          2,
          2,
          0,
          2,
          0,
          0,
          0,
          2,
          2,
          0,
          0,
          2,
          2,
          2,
          0,
          2,
          0,
          2,
          4,
          0,
          4,
          0,
          2,
          2,
          0,
          2,
          2,
          0,
          2,
          2,
          2,
          2,
          2,
          2,
          0,
          0,
          4,
          2,
          2,
          2,
          2,
          4,
          4,
          4,
          0,
          4,
          4,
          4,
          4,
          4,
          4,
          2,
          4,
          2,
          2,
          0,
          0,
          0,
          2,
          0,
          0,
          0,
          0,
          2,
          0,
          10,
          0,
          0,
          0,
          0,
          0,
          2,
          4,
          4,
          4,
          0,
          4,
          7,
          0,
          0,
          0,
          2,
          2,
          0,
          0,
          0,
          0,
          0,
          2,
          0,
          0,
          0,
          0,
          0,
          2,
          2,
          0,
          0,
          0,
          0,
          0,
          10,
          0,
          10,
          4,
          2,
          0,
          0,
          0,
          0,
          0,
          0,
          7,
          4,
          4,
          2,
          7,
          2,
          0,
          0,
          0,
          2,
          7,
          4,
          0,
          0,
          2,
          2,
          0,
          0,
          0,
          2,
          0,
          0,
          0,
          2,
          7,
          0,
          2,
          0,
          2,
          0,
          0,
          0,
          0,
          0,
          0,
          0,
          0,
          0,
          2,
          2,
          0,
          4,
          2,
          0,
          2,
          0,
          2,
          0,
          0,
          4,
          4,
          0,
          2,
          2,
          2,
          2,
          2,
          0,
          7,
          0,
          0,
          0,
          2,
          0,
          0,
          4,
          7,
          0,
          7,
          7,
          7,
          7,
          2,
          10,
          10,
          0,
          2,
          0,
          0,
          2,
          2,
          0,
          2,
          0,
          2,
          2,
          0,
          2,
          0,
          0,
          2,
          0,
          0,
          0,
          0,
          2,
          0,
          2,
          0,
          2,
          0,
          0,
          0,
          2,
          0,
          2,
          0,
          4,
          0,
          4,
          0,
          0,
          2,
          0,
          7,
          0,
          0,
          0,
          0,
          0,
          0,
          0,
          0,
          0,
          0,
          4,
          4,
          0,
          4,
          4,
          0,
          4,
          0,
          2,
          0,
          7,
          0,
          0,
          0,
          0,
          0,
          0,
          0,
          0,
          0,
          2,
          2,
          2,
          2,
          2,
          0,
          0,
          0,
          0,
          0,
          0,
          0,
          0,
          0,
          0,
          2,
          0,
          2,
          0,
          0,
          0,
          2,
          2,
          0,
          0,
          2,
          0,
          0,
          0,
          0,
          0,
          0,
          0,
          0,
          2,
          2,
          0,
          2,
          2,
          2,
          2,
          0,
          0,
          0,
          2,
          0,
          0,
          0,
          4,
          0,
          4,
          2,
          0,
          2,
          0,
          0,
          2,
          2,
          2,
          0,
          0,
          0,
          2,
          0,
          0,
          4,
          4,
          0,
          0,
          0,
          0,
          0,
          4,
          2,
          2,
          4,
          4,
          2,
          7,
          2,
          2,
          0,
          0,
          0,
          0,
          0,
          0,
          0,
          0,
          0,
          2,
          7,
          0,
          0,
          0,
          2,
          4,
          0,
          0,
          2,
          2,
          4,
          0,
          0,
          0,
          0,
          0,
          2,
          2,
          2,
          0,
          2,
          0,
          0,
          0,
          2,
          0,
          0,
          0,
          2,
          2,
          0,
          2,
          2,
          0,
          2,
          0,
          4,
          4,
          0,
          0,
          2,
          0,
          0,
          2,
          0,
          2,
          0
         ],
         "legendgroup": "",
         "name": "",
         "showlegend": true,
         "type": "pie"
        }
       ],
       "layout": {
        "autosize": true,
        "legend": {
         "tracegroupgap": 0
        },
        "template": {
         "data": {
          "bar": [
           {
            "error_x": {
             "color": "#2a3f5f"
            },
            "error_y": {
             "color": "#2a3f5f"
            },
            "marker": {
             "line": {
              "color": "#E5ECF6",
              "width": 0.5
             },
             "pattern": {
              "fillmode": "overlay",
              "size": 10,
              "solidity": 0.2
             }
            },
            "type": "bar"
           }
          ],
          "barpolar": [
           {
            "marker": {
             "line": {
              "color": "#E5ECF6",
              "width": 0.5
             },
             "pattern": {
              "fillmode": "overlay",
              "size": 10,
              "solidity": 0.2
             }
            },
            "type": "barpolar"
           }
          ],
          "carpet": [
           {
            "aaxis": {
             "endlinecolor": "#2a3f5f",
             "gridcolor": "white",
             "linecolor": "white",
             "minorgridcolor": "white",
             "startlinecolor": "#2a3f5f"
            },
            "baxis": {
             "endlinecolor": "#2a3f5f",
             "gridcolor": "white",
             "linecolor": "white",
             "minorgridcolor": "white",
             "startlinecolor": "#2a3f5f"
            },
            "type": "carpet"
           }
          ],
          "choropleth": [
           {
            "colorbar": {
             "outlinewidth": 0,
             "ticks": ""
            },
            "type": "choropleth"
           }
          ],
          "contour": [
           {
            "colorbar": {
             "outlinewidth": 0,
             "ticks": ""
            },
            "colorscale": [
             [
              0,
              "#0d0887"
             ],
             [
              0.1111111111111111,
              "#46039f"
             ],
             [
              0.2222222222222222,
              "#7201a8"
             ],
             [
              0.3333333333333333,
              "#9c179e"
             ],
             [
              0.4444444444444444,
              "#bd3786"
             ],
             [
              0.5555555555555556,
              "#d8576b"
             ],
             [
              0.6666666666666666,
              "#ed7953"
             ],
             [
              0.7777777777777778,
              "#fb9f3a"
             ],
             [
              0.8888888888888888,
              "#fdca26"
             ],
             [
              1,
              "#f0f921"
             ]
            ],
            "type": "contour"
           }
          ],
          "contourcarpet": [
           {
            "colorbar": {
             "outlinewidth": 0,
             "ticks": ""
            },
            "type": "contourcarpet"
           }
          ],
          "heatmap": [
           {
            "colorbar": {
             "outlinewidth": 0,
             "ticks": ""
            },
            "colorscale": [
             [
              0,
              "#0d0887"
             ],
             [
              0.1111111111111111,
              "#46039f"
             ],
             [
              0.2222222222222222,
              "#7201a8"
             ],
             [
              0.3333333333333333,
              "#9c179e"
             ],
             [
              0.4444444444444444,
              "#bd3786"
             ],
             [
              0.5555555555555556,
              "#d8576b"
             ],
             [
              0.6666666666666666,
              "#ed7953"
             ],
             [
              0.7777777777777778,
              "#fb9f3a"
             ],
             [
              0.8888888888888888,
              "#fdca26"
             ],
             [
              1,
              "#f0f921"
             ]
            ],
            "type": "heatmap"
           }
          ],
          "heatmapgl": [
           {
            "colorbar": {
             "outlinewidth": 0,
             "ticks": ""
            },
            "colorscale": [
             [
              0,
              "#0d0887"
             ],
             [
              0.1111111111111111,
              "#46039f"
             ],
             [
              0.2222222222222222,
              "#7201a8"
             ],
             [
              0.3333333333333333,
              "#9c179e"
             ],
             [
              0.4444444444444444,
              "#bd3786"
             ],
             [
              0.5555555555555556,
              "#d8576b"
             ],
             [
              0.6666666666666666,
              "#ed7953"
             ],
             [
              0.7777777777777778,
              "#fb9f3a"
             ],
             [
              0.8888888888888888,
              "#fdca26"
             ],
             [
              1,
              "#f0f921"
             ]
            ],
            "type": "heatmapgl"
           }
          ],
          "histogram": [
           {
            "marker": {
             "pattern": {
              "fillmode": "overlay",
              "size": 10,
              "solidity": 0.2
             }
            },
            "type": "histogram"
           }
          ],
          "histogram2d": [
           {
            "colorbar": {
             "outlinewidth": 0,
             "ticks": ""
            },
            "colorscale": [
             [
              0,
              "#0d0887"
             ],
             [
              0.1111111111111111,
              "#46039f"
             ],
             [
              0.2222222222222222,
              "#7201a8"
             ],
             [
              0.3333333333333333,
              "#9c179e"
             ],
             [
              0.4444444444444444,
              "#bd3786"
             ],
             [
              0.5555555555555556,
              "#d8576b"
             ],
             [
              0.6666666666666666,
              "#ed7953"
             ],
             [
              0.7777777777777778,
              "#fb9f3a"
             ],
             [
              0.8888888888888888,
              "#fdca26"
             ],
             [
              1,
              "#f0f921"
             ]
            ],
            "type": "histogram2d"
           }
          ],
          "histogram2dcontour": [
           {
            "colorbar": {
             "outlinewidth": 0,
             "ticks": ""
            },
            "colorscale": [
             [
              0,
              "#0d0887"
             ],
             [
              0.1111111111111111,
              "#46039f"
             ],
             [
              0.2222222222222222,
              "#7201a8"
             ],
             [
              0.3333333333333333,
              "#9c179e"
             ],
             [
              0.4444444444444444,
              "#bd3786"
             ],
             [
              0.5555555555555556,
              "#d8576b"
             ],
             [
              0.6666666666666666,
              "#ed7953"
             ],
             [
              0.7777777777777778,
              "#fb9f3a"
             ],
             [
              0.8888888888888888,
              "#fdca26"
             ],
             [
              1,
              "#f0f921"
             ]
            ],
            "type": "histogram2dcontour"
           }
          ],
          "mesh3d": [
           {
            "colorbar": {
             "outlinewidth": 0,
             "ticks": ""
            },
            "type": "mesh3d"
           }
          ],
          "parcoords": [
           {
            "line": {
             "colorbar": {
              "outlinewidth": 0,
              "ticks": ""
             }
            },
            "type": "parcoords"
           }
          ],
          "pie": [
           {
            "automargin": true,
            "type": "pie"
           }
          ],
          "scatter": [
           {
            "fillpattern": {
             "fillmode": "overlay",
             "size": 10,
             "solidity": 0.2
            },
            "type": "scatter"
           }
          ],
          "scatter3d": [
           {
            "line": {
             "colorbar": {
              "outlinewidth": 0,
              "ticks": ""
             }
            },
            "marker": {
             "colorbar": {
              "outlinewidth": 0,
              "ticks": ""
             }
            },
            "type": "scatter3d"
           }
          ],
          "scattercarpet": [
           {
            "marker": {
             "colorbar": {
              "outlinewidth": 0,
              "ticks": ""
             }
            },
            "type": "scattercarpet"
           }
          ],
          "scattergeo": [
           {
            "marker": {
             "colorbar": {
              "outlinewidth": 0,
              "ticks": ""
             }
            },
            "type": "scattergeo"
           }
          ],
          "scattergl": [
           {
            "marker": {
             "colorbar": {
              "outlinewidth": 0,
              "ticks": ""
             }
            },
            "type": "scattergl"
           }
          ],
          "scattermapbox": [
           {
            "marker": {
             "colorbar": {
              "outlinewidth": 0,
              "ticks": ""
             }
            },
            "type": "scattermapbox"
           }
          ],
          "scatterpolar": [
           {
            "marker": {
             "colorbar": {
              "outlinewidth": 0,
              "ticks": ""
             }
            },
            "type": "scatterpolar"
           }
          ],
          "scatterpolargl": [
           {
            "marker": {
             "colorbar": {
              "outlinewidth": 0,
              "ticks": ""
             }
            },
            "type": "scatterpolargl"
           }
          ],
          "scatterternary": [
           {
            "marker": {
             "colorbar": {
              "outlinewidth": 0,
              "ticks": ""
             }
            },
            "type": "scatterternary"
           }
          ],
          "surface": [
           {
            "colorbar": {
             "outlinewidth": 0,
             "ticks": ""
            },
            "colorscale": [
             [
              0,
              "#0d0887"
             ],
             [
              0.1111111111111111,
              "#46039f"
             ],
             [
              0.2222222222222222,
              "#7201a8"
             ],
             [
              0.3333333333333333,
              "#9c179e"
             ],
             [
              0.4444444444444444,
              "#bd3786"
             ],
             [
              0.5555555555555556,
              "#d8576b"
             ],
             [
              0.6666666666666666,
              "#ed7953"
             ],
             [
              0.7777777777777778,
              "#fb9f3a"
             ],
             [
              0.8888888888888888,
              "#fdca26"
             ],
             [
              1,
              "#f0f921"
             ]
            ],
            "type": "surface"
           }
          ],
          "table": [
           {
            "cells": {
             "fill": {
              "color": "#EBF0F8"
             },
             "line": {
              "color": "white"
             }
            },
            "header": {
             "fill": {
              "color": "#C8D4E3"
             },
             "line": {
              "color": "white"
             }
            },
            "type": "table"
           }
          ]
         },
         "layout": {
          "annotationdefaults": {
           "arrowcolor": "#2a3f5f",
           "arrowhead": 0,
           "arrowwidth": 1
          },
          "autotypenumbers": "strict",
          "coloraxis": {
           "colorbar": {
            "outlinewidth": 0,
            "ticks": ""
           }
          },
          "colorscale": {
           "diverging": [
            [
             0,
             "#8e0152"
            ],
            [
             0.1,
             "#c51b7d"
            ],
            [
             0.2,
             "#de77ae"
            ],
            [
             0.3,
             "#f1b6da"
            ],
            [
             0.4,
             "#fde0ef"
            ],
            [
             0.5,
             "#f7f7f7"
            ],
            [
             0.6,
             "#e6f5d0"
            ],
            [
             0.7,
             "#b8e186"
            ],
            [
             0.8,
             "#7fbc41"
            ],
            [
             0.9,
             "#4d9221"
            ],
            [
             1,
             "#276419"
            ]
           ],
           "sequential": [
            [
             0,
             "#0d0887"
            ],
            [
             0.1111111111111111,
             "#46039f"
            ],
            [
             0.2222222222222222,
             "#7201a8"
            ],
            [
             0.3333333333333333,
             "#9c179e"
            ],
            [
             0.4444444444444444,
             "#bd3786"
            ],
            [
             0.5555555555555556,
             "#d8576b"
            ],
            [
             0.6666666666666666,
             "#ed7953"
            ],
            [
             0.7777777777777778,
             "#fb9f3a"
            ],
            [
             0.8888888888888888,
             "#fdca26"
            ],
            [
             1,
             "#f0f921"
            ]
           ],
           "sequentialminus": [
            [
             0,
             "#0d0887"
            ],
            [
             0.1111111111111111,
             "#46039f"
            ],
            [
             0.2222222222222222,
             "#7201a8"
            ],
            [
             0.3333333333333333,
             "#9c179e"
            ],
            [
             0.4444444444444444,
             "#bd3786"
            ],
            [
             0.5555555555555556,
             "#d8576b"
            ],
            [
             0.6666666666666666,
             "#ed7953"
            ],
            [
             0.7777777777777778,
             "#fb9f3a"
            ],
            [
             0.8888888888888888,
             "#fdca26"
            ],
            [
             1,
             "#f0f921"
            ]
           ]
          },
          "colorway": [
           "#636efa",
           "#EF553B",
           "#00cc96",
           "#ab63fa",
           "#FFA15A",
           "#19d3f3",
           "#FF6692",
           "#B6E880",
           "#FF97FF",
           "#FECB52"
          ],
          "font": {
           "color": "#2a3f5f"
          },
          "geo": {
           "bgcolor": "white",
           "lakecolor": "white",
           "landcolor": "#E5ECF6",
           "showlakes": true,
           "showland": true,
           "subunitcolor": "white"
          },
          "hoverlabel": {
           "align": "left"
          },
          "hovermode": "closest",
          "mapbox": {
           "style": "light"
          },
          "paper_bgcolor": "white",
          "plot_bgcolor": "#E5ECF6",
          "polar": {
           "angularaxis": {
            "gridcolor": "white",
            "linecolor": "white",
            "ticks": ""
           },
           "bgcolor": "#E5ECF6",
           "radialaxis": {
            "gridcolor": "white",
            "linecolor": "white",
            "ticks": ""
           }
          },
          "scene": {
           "xaxis": {
            "backgroundcolor": "#E5ECF6",
            "gridcolor": "white",
            "gridwidth": 2,
            "linecolor": "white",
            "showbackground": true,
            "ticks": "",
            "zerolinecolor": "white"
           },
           "yaxis": {
            "backgroundcolor": "#E5ECF6",
            "gridcolor": "white",
            "gridwidth": 2,
            "linecolor": "white",
            "showbackground": true,
            "ticks": "",
            "zerolinecolor": "white"
           },
           "zaxis": {
            "backgroundcolor": "#E5ECF6",
            "gridcolor": "white",
            "gridwidth": 2,
            "linecolor": "white",
            "showbackground": true,
            "ticks": "",
            "zerolinecolor": "white"
           }
          },
          "shapedefaults": {
           "line": {
            "color": "#2a3f5f"
           }
          },
          "ternary": {
           "aaxis": {
            "gridcolor": "white",
            "linecolor": "white",
            "ticks": ""
           },
           "baxis": {
            "gridcolor": "white",
            "linecolor": "white",
            "ticks": ""
           },
           "bgcolor": "#E5ECF6",
           "caxis": {
            "gridcolor": "white",
            "linecolor": "white",
            "ticks": ""
           }
          },
          "title": {
           "x": 0.05
          },
          "xaxis": {
           "automargin": true,
           "gridcolor": "white",
           "linecolor": "white",
           "ticks": "",
           "title": {
            "standoff": 15
           },
           "zerolinecolor": "white",
           "zerolinewidth": 2
          },
          "yaxis": {
           "automargin": true,
           "gridcolor": "white",
           "linecolor": "white",
           "ticks": "",
           "title": {
            "standoff": 15
           },
           "zerolinecolor": "white",
           "zerolinewidth": 2
          }
         }
        },
        "title": {
         "text": "نسبة الوظائف المعروضة بناء على عدد سنوات الخبرة"
        }
       }
      },
      "image/png": "[encoded data removed]",
      "text/html": [
       "<div>                            <div id=\"85cda1d2-5d41-4d4e-8c05-b33fb13de021\" class=\"plotly-graph-div\" style=\"height:525px; width:100%;\"></div>            <script type=\"text/javascript\">                require([\"plotly\"], function(Plotly) {                    window.PLOTLYENV=window.PLOTLYENV || {};                                    if (document.getElementById(\"85cda1d2-5d41-4d4e-8c05-b33fb13de021\")) {                    Plotly.newPlot(                        \"85cda1d2-5d41-4d4e-8c05-b33fb13de021\",                        [{\"domain\":{\"x\":[0.0,1.0],\"y\":[0.0,1.0]},\"hovertemplate\":\"label=%{label}\\u003cextra\\u003e\\u003c\\u002fextra\\u003e\",\"labels\":[0,0,2,0,0,0,4,4,2,4,0,0,0,2,4,2,4,10,2,0,0,2,2,2,0,0,0,2,4,0,2,0,4,4,4,4,0,0,0,2,2,0,2,2,0,0,0,0,2,0,2,0,0,0,0,0,0,2,0,0,0,0,0,2,0,0,2,0,0,0,0,0,0,0,0,0,0,0,0,0,0,4,7,0,0,0,2,0,0,2,2,2,2,0,0,0,2,0,0,2,0,0,0,0,2,0,0,2,2,7,0,0,0,0,0,0,0,0,0,0,0,0,0,0,2,4,2,0,0,0,2,2,0,0,2,2,2,0,0,2,0,0,0,0,0,0,0,0,2,0,0,2,0,2,0,2,0,2,2,0,0,2,7,4,4,7,7,0,0,7,4,2,2,7,2,4,0,4,0,0,0,2,2,4,2,2,0,0,0,0,0,2,2,0,0,0,0,0,2,0,2,4,2,2,0,2,0,2,0,0,2,2,0,2,0,2,4,2,2,2,0,4,0,0,0,2,0,0,12,2,4,2,2,2,2,0,0,0,0,4,2,0,0,0,12,0,0,0,0,0,0,0,2,0,0,2,0,2,2,0,4,0,0,2,0,0,0,0,0,0,0,0,0,4,2,2,0,4,0,0,0,0,2,2,2,0,0,4,4,2,2,0,4,2,2,2,0,2,0,0,0,0,0,0,0,4,0,0,0,2,2,2,0,0,0,0,0,0,0,0,0,2,2,2,0,2,0,0,0,2,0,2,2,2,0,0,0,0,0,2,0,4,4,0,0,0,0,0,2,0,0,2,0,0,0,0,0,2,0,0,0,0,2,0,2,2,0,0,0,0,2,4,2,4,4,0,2,0,0,2,0,0,2,0,0,4,0,0,0,0,0,0,2,2,0,2,2,2,2,0,0,0,2,2,0,4,4,2,0,4,2,2,0,0,0,2,0,7,4,0,0,2,2,7,10,0,2,2,0,0,0,0,0,0,2,0,0,10,2,0,2,2,2,2,0,4,4,4,4,0,2,4,2,12,0,2,0,0,0,0,0,0,0,2,2,4,0,2,0,0,0,2,0,0,2,2,2,2,0,4,2,4,0,0,0,4,0,0,2,0,0,0,0,0,0,2,0,0,2,10,0,0,0,2,4,2,0,0,0,2,0,0,4,4,0,2,0,4,0,0,2,0,0,7,0,2,0,0,2,0,2,0,0,0,0,0,0,0,0,0,0,0,0,0,0,2,2,2,2,2,2,10,4,0,0,0,0,0,0,0,0,0,0,0,4,4,4,7,4,7,10,4,4,4,0,0,0,2,4,0,0,2,2,2,2,0,2,2,2,0,2,0,0,0,0,0,0,0,0,0,0,0,4,4,2,4,0,4,0,0,4,0,0,0,4,4,0,4,7,0,0,2,2,0,2,2,2,4,0,0,0,0,0,2,0,0,0,0,4,0,0,0,0,0,0,2,0,0,2,4,0,2,2,0,0,0,0,2,4,2,0,0,4,0,0,0,0,0,0,2,0,0,0,0,0,0,0,0,0,0,0,0,0,0,0,2,0,0,0,0,0,0,2,2,2,0,0,0,2,2,2,2,0,0,2,2,2,4,0,0,0,0,0,0,0,4,2,2,0,0,2,0,0,0,0,2,2,0,0,0,0,0,2,0,0,2,0,0,10,0,0,2,0,2,0,0,0,0,0,0,0,2,0,2,4,0,0,2,2,0,0,2,0,2,2,2,0,2,0,0,0,0,0,0,2,0,0,2,2,4,2,4,4,2,0,4,0,4,2,0,0,0,4,0,0,0,0,2,2,0,0,2,2,0,0,2,2,0,2,0,2,2,2,0,2,2,0,0,2,4,4,0,0,2,2,4,2,0,0,10,0,0,4,0,2,2,0,0,4,7,0,0,0,4,0,0,0,0,0,0,4,0,0,0,0,0,0,2,0,0,2,0,0,0,0,2,2,4,2,10,2,0,0,0,0,2,0,4,4,4,0,4,7,0,0,0,0,2,2,0,0,0,0,0,4,0,0,0,0,2,0,2,0,0,0,2,4,0,0,0,2,0,0,2,2,0,0,2,0,2,4,4,2,0,2,2,2,2,10,0,0,2,0,0,0,0,2,2,4,2,0,2,2,0,2,0,2,2,0,0,2,2,2,2,0,0,4,0,0,0,0,0,0,0,0,0,0,0,4,0,2,2,0,2,2,0,0,2,0,0,0,2,0,2,2,0,0,2,2,0,0,0,0,2,2,0,0,0,0,4,4,0,0,0,2,2,2,2,2,0,2,0,4,2,0,0,2,2,2,2,0,0,2,0,0,2,0,2,0,0,0,0,0,0,2,0,2,0,2,2,2,0,2,0,0,0,2,2,0,0,2,2,2,0,2,0,2,4,0,4,0,2,2,0,2,2,0,2,2,2,2,2,2,0,0,4,2,2,2,2,4,4,4,0,4,4,4,4,4,4,2,4,2,2,0,0,0,2,0,0,0,0,2,0,10,0,0,0,0,0,2,4,4,4,0,4,7,0,0,0,2,2,0,0,0,0,0,2,0,0,0,0,0,2,2,0,0,0,0,0,10,0,10,4,2,0,0,0,0,0,0,7,4,4,2,7,2,0,0,0,2,7,4,0,0,2,2,0,0,0,2,0,0,0,2,7,0,2,0,2,0,0,0,0,0,0,0,0,0,2,2,0,4,2,0,2,0,2,0,0,4,4,0,2,2,2,2,2,0,7,0,0,0,2,0,0,4,7,0,7,7,7,7,2,10,10,0,2,0,0,2,2,0,2,0,2,2,0,2,0,0,2,0,0,0,0,2,0,2,0,2,0,0,0,2,0,2,0,4,0,4,0,0,2,0,7,0,0,0,0,0,0,0,0,0,0,4,4,0,4,4,0,4,0,2,0,7,0,0,0,0,0,0,0,0,0,2,2,2,2,2,0,0,0,0,0,0,0,0,0,0,2,0,2,0,0,0,2,2,0,0,2,0,0,0,0,0,0,0,0,2,2,0,2,2,2,2,0,0,0,2,0,0,0,4,0,4,2,0,2,0,0,2,2,2,0,0,0,2,0,0,4,4,0,0,0,0,0,4,2,2,4,4,2,7,2,2,0,0,0,0,0,0,0,0,0,2,7,0,0,0,2,4,0,0,2,2,4,0,0,0,0,0,2,2,2,0,2,0,0,0,2,0,0,0,2,2,0,2,2,0,2,0,4,4,0,0,2,0,0,2,0,2,0],\"legendgroup\":\"\",\"name\":\"\",\"showlegend\":true,\"type\":\"pie\"}],                        {\"template\":{\"data\":{\"histogram2dcontour\":[{\"type\":\"histogram2dcontour\",\"colorbar\":{\"outlinewidth\":0,\"ticks\":\"\"},\"colorscale\":[[0.0,\"#0d0887\"],[0.1111111111111111,\"#46039f\"],[0.2222222222222222,\"#7201a8\"],[0.3333333333333333,\"#9c179e\"],[0.4444444444444444,\"#bd3786\"],[0.5555555555555556,\"#d8576b\"],[0.6666666666666666,\"#ed7953\"],[0.7777777777777778,\"#fb9f3a\"],[0.8888888888888888,\"#fdca26\"],[1.0,\"#f0f921\"]]}],\"choropleth\":[{\"type\":\"choropleth\",\"colorbar\":{\"outlinewidth\":0,\"ticks\":\"\"}}],\"histogram2d\":[{\"type\":\"histogram2d\",\"colorbar\":{\"outlinewidth\":0,\"ticks\":\"\"},\"colorscale\":[[0.0,\"#0d0887\"],[0.1111111111111111,\"#46039f\"],[0.2222222222222222,\"#7201a8\"],[0.3333333333333333,\"#9c179e\"],[0.4444444444444444,\"#bd3786\"],[0.5555555555555556,\"#d8576b\"],[0.6666666666666666,\"#ed7953\"],[0.7777777777777778,\"#fb9f3a\"],[0.8888888888888888,\"#fdca26\"],[1.0,\"#f0f921\"]]}],\"heatmap\":[{\"type\":\"heatmap\",\"colorbar\":{\"outlinewidth\":0,\"ticks\":\"\"},\"colorscale\":[[0.0,\"#0d0887\"],[0.1111111111111111,\"#46039f\"],[0.2222222222222222,\"#7201a8\"],[0.3333333333333333,\"#9c179e\"],[0.4444444444444444,\"#bd3786\"],[0.5555555555555556,\"#d8576b\"],[0.6666666666666666,\"#ed7953\"],[0.7777777777777778,\"#fb9f3a\"],[0.8888888888888888,\"#fdca26\"],[1.0,\"#f0f921\"]]}],\"heatmapgl\":[{\"type\":\"heatmapgl\",\"colorbar\":{\"outlinewidth\":0,\"ticks\":\"\"},\"colorscale\":[[0.0,\"#0d0887\"],[0.1111111111111111,\"#46039f\"],[0.2222222222222222,\"#7201a8\"],[0.3333333333333333,\"#9c179e\"],[0.4444444444444444,\"#bd3786\"],[0.5555555555555556,\"#d8576b\"],[0.6666666666666666,\"#ed7953\"],[0.7777777777777778,\"#fb9f3a\"],[0.8888888888888888,\"#fdca26\"],[1.0,\"#f0f921\"]]}],\"contourcarpet\":[{\"type\":\"contourcarpet\",\"colorbar\":{\"outlinewidth\":0,\"ticks\":\"\"}}],\"contour\":[{\"type\":\"contour\",\"colorbar\":{\"outlinewidth\":0,\"ticks\":\"\"},\"colorscale\":[[0.0,\"#0d0887\"],[0.1111111111111111,\"#46039f\"],[0.2222222222222222,\"#7201a8\"],[0.3333333333333333,\"#9c179e\"],[0.4444444444444444,\"#bd3786\"],[0.5555555555555556,\"#d8576b\"],[0.6666666666666666,\"#ed7953\"],[0.7777777777777778,\"#fb9f3a\"],[0.8888888888888888,\"#fdca26\"],[1.0,\"#f0f921\"]]}],\"surface\":[{\"type\":\"surface\",\"colorbar\":{\"outlinewidth\":0,\"ticks\":\"\"},\"colorscale\":[[0.0,\"#0d0887\"],[0.1111111111111111,\"#46039f\"],[0.2222222222222222,\"#7201a8\"],[0.3333333333333333,\"#9c179e\"],[0.4444444444444444,\"#bd3786\"],[0.5555555555555556,\"#d8576b\"],[0.6666666666666666,\"#ed7953\"],[0.7777777777777778,\"#fb9f3a\"],[0.8888888888888888,\"#fdca26\"],[1.0,\"#f0f921\"]]}],\"mesh3d\":[{\"type\":\"mesh3d\",\"colorbar\":{\"outlinewidth\":0,\"ticks\":\"\"}}],\"scatter\":[{\"fillpattern\":{\"fillmode\":\"overlay\",\"size\":10,\"solidity\":0.2},\"type\":\"scatter\"}],\"parcoords\":[{\"type\":\"parcoords\",\"line\":{\"colorbar\":{\"outlinewidth\":0,\"ticks\":\"\"}}}],\"scatterpolargl\":[{\"type\":\"scatterpolargl\",\"marker\":{\"colorbar\":{\"outlinewidth\":0,\"ticks\":\"\"}}}],\"bar\":[{\"error_x\":{\"color\":\"#2a3f5f\"},\"error_y\":{\"color\":\"#2a3f5f\"},\"marker\":{\"line\":{\"color\":\"#E5ECF6\",\"width\":0.5},\"pattern\":{\"fillmode\":\"overlay\",\"size\":10,\"solidity\":0.2}},\"type\":\"bar\"}],\"scattergeo\":[{\"type\":\"scattergeo\",\"marker\":{\"colorbar\":{\"outlinewidth\":0,\"ticks\":\"\"}}}],\"scatterpolar\":[{\"type\":\"scatterpolar\",\"marker\":{\"colorbar\":{\"outlinewidth\":0,\"ticks\":\"\"}}}],\"histogram\":[{\"marker\":{\"pattern\":{\"fillmode\":\"overlay\",\"size\":10,\"solidity\":0.2}},\"type\":\"histogram\"}],\"scattergl\":[{\"type\":\"scattergl\",\"marker\":{\"colorbar\":{\"outlinewidth\":0,\"ticks\":\"\"}}}],\"scatter3d\":[{\"type\":\"scatter3d\",\"line\":{\"colorbar\":{\"outlinewidth\":0,\"ticks\":\"\"}},\"marker\":{\"colorbar\":{\"outlinewidth\":0,\"ticks\":\"\"}}}],\"scattermapbox\":[{\"type\":\"scattermapbox\",\"marker\":{\"colorbar\":{\"outlinewidth\":0,\"ticks\":\"\"}}}],\"scatterternary\":[{\"type\":\"scatterternary\",\"marker\":{\"colorbar\":{\"outlinewidth\":0,\"ticks\":\"\"}}}],\"scattercarpet\":[{\"type\":\"scattercarpet\",\"marker\":{\"colorbar\":{\"outlinewidth\":0,\"ticks\":\"\"}}}],\"carpet\":[{\"aaxis\":{\"endlinecolor\":\"#2a3f5f\",\"gridcolor\":\"white\",\"linecolor\":\"white\",\"minorgridcolor\":\"white\",\"startlinecolor\":\"#2a3f5f\"},\"baxis\":{\"endlinecolor\":\"#2a3f5f\",\"gridcolor\":\"white\",\"linecolor\":\"white\",\"minorgridcolor\":\"white\",\"startlinecolor\":\"#2a3f5f\"},\"type\":\"carpet\"}],\"table\":[{\"cells\":{\"fill\":{\"color\":\"#EBF0F8\"},\"line\":{\"color\":\"white\"}},\"header\":{\"fill\":{\"color\":\"#C8D4E3\"},\"line\":{\"color\":\"white\"}},\"type\":\"table\"}],\"barpolar\":[{\"marker\":{\"line\":{\"color\":\"#E5ECF6\",\"width\":0.5},\"pattern\":{\"fillmode\":\"overlay\",\"size\":10,\"solidity\":0.2}},\"type\":\"barpolar\"}],\"pie\":[{\"automargin\":true,\"type\":\"pie\"}]},\"layout\":{\"autotypenumbers\":\"strict\",\"colorway\":[\"#636efa\",\"#EF553B\",\"#00cc96\",\"#ab63fa\",\"#FFA15A\",\"#19d3f3\",\"#FF6692\",\"#B6E880\",\"#FF97FF\",\"#FECB52\"],\"font\":{\"color\":\"#2a3f5f\"},\"hovermode\":\"closest\",\"hoverlabel\":{\"align\":\"left\"},\"paper_bgcolor\":\"white\",\"plot_bgcolor\":\"#E5ECF6\",\"polar\":{\"bgcolor\":\"#E5ECF6\",\"angularaxis\":{\"gridcolor\":\"white\",\"linecolor\":\"white\",\"ticks\":\"\"},\"radialaxis\":{\"gridcolor\":\"white\",\"linecolor\":\"white\",\"ticks\":\"\"}},\"ternary\":{\"bgcolor\":\"#E5ECF6\",\"aaxis\":{\"gridcolor\":\"white\",\"linecolor\":\"white\",\"ticks\":\"\"},\"baxis\":{\"gridcolor\":\"white\",\"linecolor\":\"white\",\"ticks\":\"\"},\"caxis\":{\"gridcolor\":\"white\",\"linecolor\":\"white\",\"ticks\":\"\"}},\"coloraxis\":{\"colorbar\":{\"outlinewidth\":0,\"ticks\":\"\"}},\"colorscale\":{\"sequential\":[[0.0,\"#0d0887\"],[0.1111111111111111,\"#46039f\"],[0.2222222222222222,\"#7201a8\"],[0.3333333333333333,\"#9c179e\"],[0.4444444444444444,\"#bd3786\"],[0.5555555555555556,\"#d8576b\"],[0.6666666666666666,\"#ed7953\"],[0.7777777777777778,\"#fb9f3a\"],[0.8888888888888888,\"#fdca26\"],[1.0,\"#f0f921\"]],\"sequentialminus\":[[0.0,\"#0d0887\"],[0.1111111111111111,\"#46039f\"],[0.2222222222222222,\"#7201a8\"],[0.3333333333333333,\"#9c179e\"],[0.4444444444444444,\"#bd3786\"],[0.5555555555555556,\"#d8576b\"],[0.6666666666666666,\"#ed7953\"],[0.7777777777777778,\"#fb9f3a\"],[0.8888888888888888,\"#fdca26\"],[1.0,\"#f0f921\"]],\"diverging\":[[0,\"#8e0152\"],[0.1,\"#c51b7d\"],[0.2,\"#de77ae\"],[0.3,\"#f1b6da\"],[0.4,\"#fde0ef\"],[0.5,\"#f7f7f7\"],[0.6,\"#e6f5d0\"],[0.7,\"#b8e186\"],[0.8,\"#7fbc41\"],[0.9,\"#4d9221\"],[1,\"#276419\"]]},\"xaxis\":{\"gridcolor\":\"white\",\"linecolor\":\"white\",\"ticks\":\"\",\"title\":{\"standoff\":15},\"zerolinecolor\":\"white\",\"automargin\":true,\"zerolinewidth\":2},\"yaxis\":{\"gridcolor\":\"white\",\"linecolor\":\"white\",\"ticks\":\"\",\"title\":{\"standoff\":15},\"zerolinecolor\":\"white\",\"automargin\":true,\"zerolinewidth\":2},\"scene\":{\"xaxis\":{\"backgroundcolor\":\"#E5ECF6\",\"gridcolor\":\"white\",\"linecolor\":\"white\",\"showbackground\":true,\"ticks\":\"\",\"zerolinecolor\":\"white\",\"gridwidth\":2},\"yaxis\":{\"backgroundcolor\":\"#E5ECF6\",\"gridcolor\":\"white\",\"linecolor\":\"white\",\"showbackground\":true,\"ticks\":\"\",\"zerolinecolor\":\"white\",\"gridwidth\":2},\"zaxis\":{\"backgroundcolor\":\"#E5ECF6\",\"gridcolor\":\"white\",\"linecolor\":\"white\",\"showbackground\":true,\"ticks\":\"\",\"zerolinecolor\":\"white\",\"gridwidth\":2}},\"shapedefaults\":{\"line\":{\"color\":\"#2a3f5f\"}},\"annotationdefaults\":{\"arrowcolor\":\"#2a3f5f\",\"arrowhead\":0,\"arrowwidth\":1},\"geo\":{\"bgcolor\":\"white\",\"landcolor\":\"#E5ECF6\",\"subunitcolor\":\"white\",\"showland\":true,\"showlakes\":true,\"lakecolor\":\"white\"},\"title\":{\"x\":0.05},\"mapbox\":{\"style\":\"light\"}}},\"legend\":{\"tracegroupgap\":0},\"title\":{\"text\":\"\\u0646\\u0633\\u0628\\u0629 \\u0627\\u0644\\u0648\\u0638\\u0627\\u0626\\u0641 \\u0627\\u0644\\u0645\\u0639\\u0631\\u0648\\u0636\\u0629 \\u0628\\u0646\\u0627\\u0621 \\u0639\\u0644\\u0649 \\u0639\\u062f\\u062f \\u0633\\u0646\\u0648\\u0627\\u062a \\u0627\\u0644\\u062e\\u0628\\u0631\\u0629\"}},                        {\"responsive\": true}                    ).then(function(){\n",
       "                            \n",
       "var gd = document.getElementById('85cda1d2-5d41-4d4e-8c05-b33fb13de021');\n",
       "var x = new MutationObserver(function (mutations, observer) {{\n",
       "        var display = window.getComputedStyle(gd).display;\n",
       "        if (!display || display === 'none') {{\n",
       "            console.log([gd, 'removed!']);\n",
       "            Plotly.purge(gd);\n",
       "            observer.disconnect();\n",
       "        }}\n",
       "}});\n",
       "\n",
       "// Listen for the removal of the full notebook cells\n",
       "var notebookContainer = gd.closest('#notebook-container');\n",
       "if (notebookContainer) {{\n",
       "    x.observe(notebookContainer, {childList: true});\n",
       "}}\n",
       "\n",
       "// Listen for the clearing of the current output cell\n",
       "var outputEl = gd.closest('.output');\n",
       "if (outputEl) {{\n",
       "    x.observe(outputEl, {childList: true});\n",
       "}}\n",
       "\n",
       "                        })                };                });            </script>        </div>"
      ]
     },
     "metadata": {},
     "output_type": "display_data"
    }
   ],
   "source": [
    "fig3 = px.pie(\n",
    "    names=df[\"exper\"],\n",
    "    title=\"نسبة الوظائف المعروضة بناء على عدد سنوات الخبرة\"\n",
    "\n",
    ")\n",
    "\n",
    "# Show the chart\n",
    "fig3.show()"
   ]
  },
  {
   "cell_type": "markdown",
   "id": "98548b66-e309-4eb8-a5dc-65fe0abbf1e8",
   "metadata": {},
   "source": [
    "## 3. Univariate Analysis: \n",
    "\n",
    "This involves examining single variables to understand their characteristics (distribution, central tendency, dispersion, and shape).\n",
    "\n",
    "We calculate **numerical values** about the data that tells us about the distribution of the data. We also **draw graphs** showing visually how the data is distributed. **To answer the following questions about Features/characteristics of Data:**\n",
    "- Where is the center of the data? (location)\n",
    "- How much does the data vary? (scale)\n",
    "- What is the shape of the data? (shape)\n",
    "\n",
    "**The benefits of this analysis:**\n",
    "Statistics summary gives a high-level idea to identify whether the data has any outliers, data entry error, distribution of data such as the data is normally distributed or left/right skewed\n",
    "\n",
    "**In this step, we will explore variables one by one using following approaches:**"
   ]
  },
  {
   "cell_type": "markdown",
   "id": "d6718111-7ac2-4fff-9851-654655b62e0b",
   "metadata": {},
   "source": [
    "### 1. Univariate Graphical Analysis:\n",
    "Method to perform uni-variate analysis will depend on whether the variable type is categorical or numerical."
   ]
  },
  {
   "cell_type": "code",
   "execution_count": null,
   "id": "db79d803-b75c-4686-a623-e8420321a90f",
   "metadata": {},
   "outputs": [],
   "source": []
  },
  {
   "cell_type": "markdown",
   "id": "0d57c4b9-9bb3-494d-85dd-b8d39afda139",
   "metadata": {},
   "source": [
    "#### I. Categorical Variables:\n",
    "\n",
    "we’ll use frequency table to understand distribution of each category\n",
    "- Bar Chart (Ordinal) - Orderd\n",
    "- Pie Chart (Nominal) - non Orderd"
   ]
  },
  {
   "cell_type": "code",
   "execution_count": null,
   "id": "72ece4b7-5508-403a-8fb0-f519fc74272a",
   "metadata": {},
   "outputs": [],
   "source": []
  },
  {
   "cell_type": "markdown",
   "id": "d2641f0d-80f2-493b-99b7-15476379a1e2",
   "metadata": {},
   "source": [
    "#### II. Numerical Variables:\n",
    "\n",
    "we need to understand the central tendency and spread of the variable (Descriptive Analysis) using:\n",
    "   - Box plot\n",
    "   - Histogram"
   ]
  },
  {
   "cell_type": "code",
   "execution_count": null,
   "id": "5be16f08-a072-4a02-a3ee-6f9d57786fb4",
   "metadata": {},
   "outputs": [],
   "source": []
  },
  {
   "cell_type": "markdown",
   "id": "d66677d3-44ad-414f-9b39-f9c1995ad043",
   "metadata": {},
   "source": [
    "### 2. Univariate Non-Graphical analysis: \n",
    "\n",
    "- Where is the center of the data? (location) --> **Measures of central tendency**\n",
    "- How much does the data vary? (scale) --> **Measure of variability**\n",
    "- What is the shape of the data? (shape) --> **Measures of variation combined with an average (measure of center) gives a good picture of the distribution of the data.**"
   ]
  },
  {
   "cell_type": "code",
   "execution_count": null,
   "id": "f1058d84-e61e-4f5b-b66a-29931e77821b",
   "metadata": {},
   "outputs": [],
   "source": []
  },
  {
   "cell_type": "markdown",
   "id": "f09bb809-0edd-432b-bf23-abd0840b3e16",
   "metadata": {},
   "source": [
    "## 4. Bivariate/Multivariate Analysis:\n",
    "\n",
    "Here, you look at the relationships between two or more variables. This can involve looking for correlations, patterns, and trends that suggest a relationship or an association.\n",
    "\n",
    "We can perform bi-variate analysis for any combination of categorical and numerical variables. The combination can be:\n",
    "| bi-variate variables   | Plot type |\n",
    "| ------------- | ------------- |\n",
    "| Categorical & Categorical| Stacked Bar Chart |\n",
    "| Categorical & numerical  | scatter plot, histogram, box plot|\n",
    "| numerical  & numerical  | Scatter plot, line chart| \n",
    "\n",
    "\n",
    "Multivariate Analysis:\n",
    "- Heat map\n",
    "- Bar Chart\n",
    "- Scatter Chart\n",
    "- Line Chart"
   ]
  },
  {
   "cell_type": "markdown",
   "id": "838f2864-ce9e-4f15-99c8-052d053154a7",
   "metadata": {},
   "source": [
    "**Categorical & Categorical --> (Stacked Column Chart)**"
   ]
  },
  {
   "cell_type": "code",
   "execution_count": null,
   "id": "73f9f2ac-8477-49ea-9c68-4fe44d4395b6",
   "metadata": {},
   "outputs": [],
   "source": []
  },
  {
   "cell_type": "markdown",
   "id": "730e088f-fe13-40da-8fbb-686f5135fa4d",
   "metadata": {},
   "source": [
    "**Categorical & numerical --> (scatter plot, histogram, box plot)**"
   ]
  },
  {
   "cell_type": "code",
   "execution_count": null,
   "id": "3590e345-2051-4215-91ac-07d196b510ef",
   "metadata": {},
   "outputs": [],
   "source": []
  },
  {
   "cell_type": "markdown",
   "id": "20aed48d-b78e-46da-963f-e7f15e2f4dc7",
   "metadata": {},
   "source": [
    "**numerical & numerical --> (Scatter plot, line chart)**"
   ]
  },
  {
   "cell_type": "code",
   "execution_count": null,
   "id": "41023177-01cb-4f39-a750-12be71b13bda",
   "metadata": {},
   "outputs": [],
   "source": []
  },
  {
   "cell_type": "markdown",
   "id": "efb43b30-b1f0-48a4-a19c-195810cc8a0f",
   "metadata": {},
   "source": [
    "We could also use a correlation matrix to get more specific information about the relationship between these two variables."
   ]
  },
  {
   "cell_type": "code",
   "execution_count": null,
   "id": "8406f58f-b825-4a15-8f6e-c68ca66bd483",
   "metadata": {},
   "outputs": [],
   "source": []
  }
 ],
 "metadata": {
  "kernelspec": {
   "display_name": "Python 3 (ipykernel)",
   "language": "python",
   "name": "python3"
  },
  "language_info": {
   "codemirror_mode": {
    "name": "ipython",
    "version": 3
   },
   "file_extension": ".py",
   "mimetype": "text/x-python",
   "name": "python",
   "nbconvert_exporter": "python",
   "pygments_lexer": "ipython3",
   "version": "3.12.4"
  }
 },
 "nbformat": 4,
 "nbformat_minor": 5
}
